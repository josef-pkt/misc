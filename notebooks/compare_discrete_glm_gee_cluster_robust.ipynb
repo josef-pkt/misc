{
 "metadata": {
  "name": "",
  "signature": "sha256:57866b2029d652e9d273274fe59fcbb7d2bb38bdf126979c46b3d5a3567b368b"
 },
 "nbformat": 3,
 "nbformat_minor": 0,
 "worksheets": [
  {
   "cells": [
    {
     "cell_type": "heading",
     "level": 1,
     "metadata": {},
     "source": [
      "Robust Standard Errors for discrete models and GLM"
     ]
    },
    {
     "cell_type": "markdown",
     "metadata": {},
     "source": [
      "**Josef Perktold** *All Rights Reserved*"
     ]
    },
    {
     "cell_type": "markdown",
     "metadata": {},
     "source": [
      "In this notebook we compare three types of models from statsmodels that are represent the same underlying model in some cases. The models are for binary or count response in the linear exponential family. The three models or model groups are:\n",
      "\n",
      "- `discrete models`: Logit, Probit, Poisson and Negative Binomial in statsmodels.discrete which are standard maximum likelihood models.\n",
      "\n",
      "- `generalized linear model (GLM)`: A general model class for one parameter distributions in the linear exponential family, which includes Binomial with Logit or Probit link, Poissson and Negative Binomial for fixed dispersion.\n",
      "\n",
      "- `generalized estimating equations models (GEE)`: GEE covers the distributions of GLM, but allows for cluster correlation for one-way panel or cluster data. When we use the `Independence` correlation structure, then observations are treated as uncorrelated in the estimation of the parameters, which is the same as the corresponding GLM and discrete model.\n",
      "\n",
      "The parameters of the conditional expection with distributions in the linear exponential family (LEF) can be consistently estimated even if the correlation and variances are misspecified. However, if those are misspecified, then the usual standard errors for the parameter estimates are not correct. We can use robust sandwich covariance matrices which are robust to a structure of misspecified correlation or heteroscedasticity. Overdispersion in Poisson or Binomial is a special case of misspecified variances. \n",
      "\n",
      "GEE does not assume that within cluster correlation is correctly specified by default. All other models report the usual \"nonrobust\" standard errors by default. However, we can choose a robust covariance in those models using the `cov_type` keyword in fit. These means that GLM or the discrete models with cluster robust standard errors are equivalent to GEE with independence correlation except for different small sample corrections. While GEE is specialized to one-way cluster correlation, we can also choose heteroscedasticity robust (HC), autocorrelation and heteroscedasticity robust (HAC) or panel time series robust covariance matrices when we use GLM or the discrete models.\n",
      "\n",
      "GLM and discrete models have a large overlap of identical models, however, they differ in their approach and in the direction in which it is possible or easy to extend them. GLM come mostly from the statistics tradition, the main optimization approach is iterated weighted least square, and cover besides discrete distribution also continuous LEF distribution where the mean function can be estimated without specifying the dispersion parameter. GLM also provide a choice of nonlinearities through the specification of a link function. The discrete models in statsmodels came mostly from the econometrics tradition, they use standard Newton or Quasi-Newton optimizers. The optimizer allow easier extensions to multiparameter distributions. For example, GLM with Negative Binomial takes the dispersion parameter as given, while the NegativeBinomial model in discrete estimates the dispersion parameter jointly with the parameters for the mean function. There is a trend towards converging evolution in statsmodels so that GLM and the corresponding discrete models become more similar in the available features.\n",
      "\n",
      "GLM, the discrete models, the linear models (OLS, WLS) and other models that use inherit the generic maximum likelihood model features share the same implementation of robust standard errors in statsmodels and have the same options. Models that need a robust covariance by default, GEE, RLM and QuantileRegression, have specialized implementation and do not follow yet the same pattern or have different choices for robust covariance matrices.\n",
      "\n",
      "In the following we compare these models for the Poisson, Negative Binomial, and the Binomial-Logit and Binomial-Probit cases."
     ]
    },
    {
     "cell_type": "markdown",
     "metadata": {},
     "source": [
      "**Sections**\n",
      "\n",
      " - [Poisson](#Poisson)\n",
      "\n",
      "   - [Discrete Model Poisson](#Discrete-Model-Poisson)\n",
      "   - [GLM Poisson](#GLM-Poisson)\n",
      "   - [GEE Poisson](#GEE-Poisson)\n",
      "   - [Comparison Poisson](#Comparison-Poisson)\n",
      " \n",
      " - [Negative Binomial](#Negative-Binomial)\n",
      "\n",
      " - [Logit](#Logit)\n",
      "\n",
      "   - [Discrete Model Logit](#Discrete-Model-Logit)\n",
      "   - [GLM Logit (Binomial)](#GLM-Logit-(Binomial))\n",
      "   - [GEE Logit](#GEE-Logit)\n",
      "   - [Comparison Logit](#Comparison-Logit)\n",
      "\n",
      " - [Probit](#Probit)\n",
      "\n",
      "   - [Discrete Model Probit](#Discrete-Model-Probit)\n",
      "   - [GLM Probit](#GLM-Probit)\n",
      "   - [GEE Probit](#GEE-Probit)\n",
      "   - [Comparison Probit](#Comparison-Probit)\n",
      "   \n",
      " - [Linear Model](#Linear-Model)\n"
     ]
    },
    {
     "cell_type": "markdown",
     "metadata": {},
     "source": [
      "**About the notebook**\n",
      "\n",
      "This notebook does not have unique model and result names, running only parts might take the wrong instances, that is it will take the latest that has been calculated not the one that is calculated in previous cells. Use `Run All` or `Run All Above`.\n",
      "\n",
      "- TODO: more cleanup, full imports, get only data from test module, maybe not even that. delete old `get_robustcov_results`\n",
      "- TODO: comparison for the linear models of GLM, OLS and GEE for robust standard errors is very brief\n",
      "- TODO: the GMM version should also soon be available.\n",
      "\n",
      "History prior to inclusion in this repo:\n",
      "\n",
      "initial script `try_robust_poisson.py` <BR/>\n",
      "notebook version in gist "
     ]
    },
    {
     "cell_type": "heading",
     "level": 2,
     "metadata": {},
     "source": [
      "Preliminaries"
     ]
    },
    {
     "cell_type": "markdown",
     "metadata": {},
     "source": [
      "First we need some imports. This includes importing the example data from a unittest module, which is given as `endog` and `exog` already.\n",
      "\n",
      "The intial version, and the internal implementation uses a helper function `get_robustcov_results` that does the sandwich covariance calculations. This function is not for users anymore. The standard usage is now through the `cov_type` argument in the `fit` method of the model. Besides a simpler access to the robust covariances, this also provides a more robust code path that avoids potential conflicts in calculations based on different covariance types."
     ]
    },
    {
     "cell_type": "code",
     "collapsed": false,
     "input": [
      "import pandas as pd"
     ],
     "language": "python",
     "metadata": {},
     "outputs": [],
     "prompt_number": 1
    },
    {
     "cell_type": "markdown",
     "metadata": {},
     "source": [
      "The following is reusing some setup code from a test module"
     ]
    },
    {
     "cell_type": "code",
     "collapsed": false,
     "input": [
      "from statsmodels.discrete.tests.test_sandwich_cov import *"
     ],
     "language": "python",
     "metadata": {},
     "outputs": [],
     "prompt_number": 2
    },
    {
     "cell_type": "markdown",
     "metadata": {},
     "source": [
      "Imports for Generalized Estimating Equations, GEE, which is not part of the unit test module."
     ]
    },
    {
     "cell_type": "code",
     "collapsed": false,
     "input": [
      "from statsmodels.genmod.generalized_linear_model import GLM\n",
      "from statsmodels.genmod.generalized_estimating_equations import GEE\n",
      "from statsmodels.genmod.cov_struct import Independence"
     ],
     "language": "python",
     "metadata": {},
     "outputs": [],
     "prompt_number": 3
    },
    {
     "cell_type": "heading",
     "level": 2,
     "metadata": {},
     "source": [
      "Poisson"
     ]
    },
    {
     "cell_type": "heading",
     "level": 3,
     "metadata": {},
     "source": [
      "Discrete Model Poisson"
     ]
    },
    {
     "cell_type": "code",
     "collapsed": false,
     "input": [
      "res2 = results_st.results_poisson_hc1\n",
      "mod = smd.Poisson(endog, exog)\n",
      "res1 = mod.fit(disp=False)\n",
      "print(res1.bse)"
     ],
     "language": "python",
     "metadata": {},
     "outputs": [
      {
       "output_type": "stream",
       "stream": "stdout",
       "text": [
        "yr_con      0.053336\n",
        "op_75_79    0.112778\n",
        "const       0.135680\n",
        "dtype: float64\n"
       ]
      }
     ],
     "prompt_number": 4
    },
    {
     "cell_type": "code",
     "collapsed": false,
     "input": [
      "# TODO: move to an Appendix\n",
      "\n",
      "# the code fragility with cached attributes and retro-fitting of results\n",
      "\n",
      "from statsmodels.base.covtype import get_robustcov_results\n",
      "\n",
      "# Warning: why gives this different results than cov_type in fit in next cell, \n",
      "#          because bse has already been cached in print in previous cell\n",
      "#res_hc0_ = cls.res1.get_robustcov_results('HC1')\n",
      "get_robustcov_results(res1._results, 'HC1', use_self=True)\n",
      "bse_rob = res1.bse\n",
      "nobs, k_vars = mod.exog.shape\n",
      "corr_fact = (nobs) / float(nobs - 1.)\n",
      "# for bse we need sqrt of correction factor\n",
      "corr_fact = np.sqrt(1./corr_fact)\n",
      "print(res1.bse)\n",
      "\n",
      "# create result but don't do anything before calculating robust cov, then it works\n",
      "res1h = mod.fit(disp=False)\n",
      "get_robustcov_results(res1h._results, 'HC1', use_self=True)\n",
      "print(res1h.bse)\n",
      "\n",
      "# this raises exception, use_self=False is not supported anymore\n",
      "#res1h2 = get_robustcov_results(res1h._results, 'HC1', use_self=False)   \n"
     ],
     "language": "python",
     "metadata": {},
     "outputs": [
      {
       "output_type": "stream",
       "stream": "stdout",
       "text": [
        "yr_con      0.053336\n",
        "op_75_79    0.112778\n",
        "const       0.135680\n",
        "dtype: float64\n",
        "yr_con      0.189488\n",
        "op_75_79    0.544821\n",
        "const       0.655468\n",
        "dtype: float64\n"
       ]
      }
     ],
     "prompt_number": 5
    },
    {
     "cell_type": "markdown",
     "metadata": {},
     "source": [
      "The default covariance in Poisson and GLM is `cov_type=\"nonrobust\"`, which assumes that the likelihood function, or, in LEF, that mean and covariance of the response variable are correctly specified."
     ]
    },
    {
     "cell_type": "code",
     "collapsed": false,
     "input": [
      "res1f_nr = mod.fit(disp=False)\n",
      "print(res1f_nr.cov_type)\n",
      "print(res1f_nr.bse)"
     ],
     "language": "python",
     "metadata": {},
     "outputs": [
      {
       "output_type": "stream",
       "stream": "stdout",
       "text": [
        "nonrobust\n",
        "yr_con      0.053336\n",
        "op_75_79    0.112778\n",
        "const       0.135680\n",
        "dtype: float64\n"
       ]
      }
     ],
     "prompt_number": 6
    },
    {
     "cell_type": "markdown",
     "metadata": {},
     "source": [
      "If the cov_type is one of the \"HC\" variants, then the Goddambe-Eicker-Huber-White robust standard error is calulated. This is robust to heteroscedasticity and misspecified distribution, but assumes that the observations are independently distributed or uncorrelated.\n",
      "\n",
      "**Note**: The HCx variants are only available for the linear regression models. In other models, all HCx variants are **currently** treated in the same way and do not differ in their small sample adjustments."
     ]
    },
    {
     "cell_type": "code",
     "collapsed": false,
     "input": [
      "res1f_hc1 = mod.fit(disp=False, cov_type='HC1', cov_kwds={})\n",
      "print(res1f_hc1.cov_type)\n",
      "print(res1f_hc1.bse)"
     ],
     "language": "python",
     "metadata": {},
     "outputs": [
      {
       "output_type": "stream",
       "stream": "stdout",
       "text": [
        "HC1\n",
        "yr_con      0.189488\n",
        "op_75_79    0.544821\n",
        "const       0.655468\n",
        "dtype: float64\n"
       ]
      }
     ],
     "prompt_number": 7
    },
    {
     "cell_type": "code",
     "collapsed": false,
     "input": [
      "res1f_hc1 = mod.fit(disp=False, cov_type='HC1')\n",
      "print(res1f_hc1.cov_type)\n",
      "print(res1f_hc1.bse)"
     ],
     "language": "python",
     "metadata": {},
     "outputs": [
      {
       "output_type": "stream",
       "stream": "stdout",
       "text": [
        "HC1\n",
        "yr_con      0.189488\n",
        "op_75_79    0.544821\n",
        "const       0.655468\n",
        "dtype: float64\n"
       ]
      }
     ],
     "prompt_number": 8
    },
    {
     "cell_type": "markdown",
     "metadata": {},
     "source": [
      "We can calculate cluster robust standard errors using `cov_type='cluster'` and providing the groups labels that indicate cluster membership in `cov_kwds`. `cov_kwds` needs to be a dictionary with the information and keys corresponding to the `cov_type`."
     ]
    },
    {
     "cell_type": "code",
     "collapsed": false,
     "input": [
      "res1f = mod.fit(disp=False, cov_type='cluster', cov_kwds=dict(groups=group))\n",
      "print(res1f.cov_type)\n",
      "print(res1f.bse)"
     ],
     "language": "python",
     "metadata": {},
     "outputs": [
      {
       "output_type": "stream",
       "stream": "stdout",
       "text": [
        "cluster\n",
        "yr_con      0.205667\n",
        "op_75_79    0.114459\n",
        "const       1.139941\n",
        "dtype: float64\n"
       ]
      }
     ],
     "prompt_number": 9
    },
    {
     "cell_type": "code",
     "collapsed": false,
     "input": [
      "res_clu_nc = mod.fit(cov_type='cluster', cov_kwds=dict(groups=group, use_correction=False))\n",
      "print(res_clu_nc.bse)"
     ],
     "language": "python",
     "metadata": {},
     "outputs": [
      {
       "output_type": "stream",
       "stream": "stdout",
       "text": [
        "Optimization terminated successfully.\n",
        "         Current function value: 10.418931\n",
        "         Iterations 14\n",
        "yr_con      0.178293\n",
        "op_75_79    0.099224\n",
        "const       0.988214\n",
        "dtype: float64\n"
       ]
      }
     ],
     "prompt_number": 10
    },
    {
     "cell_type": "heading",
     "level": 3,
     "metadata": {},
     "source": [
      "GLM Poisson"
     ]
    },
    {
     "cell_type": "markdown",
     "metadata": {},
     "source": [
      "GLM with family Poisson and the default link function which is `log` is equivalent to Poisson model in `discrete`. "
     ]
    },
    {
     "cell_type": "code",
     "collapsed": false,
     "input": [
      "print('\\nGLM')\n",
      "from statsmodels.genmod.generalized_linear_model import GLM\n",
      "from statsmodels.genmod.families import Poisson\n",
      "from statsmodels.genmod import families\n",
      "\n",
      "mod = GLM(endog, exog, family=Poisson())\n",
      "#old version\n",
      "#res_glm_nr = mod.fit()\n",
      "#get_robustcov_results(res_glm_nr._results, 'HC1', use_self=True)\n",
      "\n",
      "res_glm_nr = mod.fit(cov_type='nonrobust')  # this is also the default\n",
      "print(res_glm_nr.cov_type)\n",
      "print(res_glm_nr.bse)\n",
      "print(np.sqrt(np.diag(res_glm_nr.cov_params())))  # just checking"
     ],
     "language": "python",
     "metadata": {},
     "outputs": [
      {
       "output_type": "stream",
       "stream": "stdout",
       "text": [
        "\n",
        "GLM\n",
        "nonrobust\n",
        "yr_con      0.053336\n",
        "op_75_79    0.112778\n",
        "const       0.135680\n",
        "dtype: float64\n",
        "[ 0.05333642  0.11277776  0.13568042]\n"
       ]
      }
     ],
     "prompt_number": 11
    },
    {
     "cell_type": "code",
     "collapsed": false,
     "input": [
      "\n",
      "res_glm_clu = mod.fit()\n",
      "get_robustcov_results(res_glm_clu._results, cov_type='cluster', groups=group, use_self=True)\n",
      "\n",
      "print(res_glm_clu.cov_type)\n",
      "print(res_glm_clu.bse)\n",
      "print(np.sqrt(np.diag(res_glm_clu.cov_params())))"
     ],
     "language": "python",
     "metadata": {},
     "outputs": [
      {
       "output_type": "stream",
       "stream": "stdout",
       "text": [
        "cluster\n",
        "yr_con      0.205667\n",
        "op_75_79    0.114459\n",
        "const       1.139941\n",
        "dtype: float64\n",
        "[ 0.20566683  0.11445894  1.13994051]\n"
       ]
      }
     ],
     "prompt_number": 12
    },
    {
     "cell_type": "code",
     "collapsed": false,
     "input": [
      "res_glm_clu2 = mod.fit(cov_type='cluster', cov_kwds=dict(groups=group))\n",
      "print(res_glm_clu2.cov_type + ' - fit')\n",
      "print(res_glm_clu2.bse)\n",
      "print(np.sqrt(np.diag(res_glm_clu2.cov_params())))"
     ],
     "language": "python",
     "metadata": {},
     "outputs": [
      {
       "output_type": "stream",
       "stream": "stdout",
       "text": [
        "cluster - fit\n",
        "yr_con      0.205667\n",
        "op_75_79    0.114459\n",
        "const       1.139941\n",
        "dtype: float64\n",
        "[ 0.20566683  0.11445894  1.13994051]\n"
       ]
      }
     ],
     "prompt_number": 13
    },
    {
     "cell_type": "code",
     "collapsed": false,
     "input": [
      "res_glm_hc1 = mod.fit(cov_type='HC1', cov_kwds={})\n",
      "print(res_glm_hc1.cov_type + ' - fit')\n",
      "print(res_glm_hc1.bse)"
     ],
     "language": "python",
     "metadata": {},
     "outputs": [
      {
       "output_type": "stream",
       "stream": "stdout",
       "text": [
        "HC1 - fit\n",
        "yr_con      0.189488\n",
        "op_75_79    0.544821\n",
        "const       0.655468\n",
        "dtype: float64\n"
       ]
      }
     ],
     "prompt_number": 14
    },
    {
     "cell_type": "code",
     "collapsed": false,
     "input": [
      "res_glm_clu_nsc = mod.fit(cov_type='cluster', cov_kwds=dict(groups=group, correction=False))\n",
      "print(res_glm_clu_nsc.bse)"
     ],
     "language": "python",
     "metadata": {},
     "outputs": [
      {
       "output_type": "stream",
       "stream": "stdout",
       "text": [
        "yr_con      0.205667\n",
        "op_75_79    0.114459\n",
        "const       1.139941\n",
        "dtype: float64\n"
       ]
      }
     ],
     "prompt_number": 15
    },
    {
     "cell_type": "heading",
     "level": 3,
     "metadata": {},
     "source": [
      "GEE Poisson"
     ]
    },
    {
     "cell_type": "markdown",
     "metadata": {},
     "source": [
      "GEE has three options for the covariance of the parameters that are specific to GEE. Covariance type 'naive' is the standard nonrobust covariance and assumes that the correlation and variances are correctly specified and is under independence identical the one of in GLM or in the corresponding discrete model. `\"robust\"` requests cluster robust standard errors that does not use the small sample degrees of freedom correction in the denominator that GLM and discrete models use by default. `\"bias_reduced\"` covariance is a cluster robust covariance that  reduces the bias in the estimate and improves the coverage and size of Wald tests in small samples."
     ]
    },
    {
     "cell_type": "code",
     "collapsed": false,
     "input": [
      "fam = Poisson() #families.Poisson()\n",
      "ind = Independence()\n",
      "mod1 = GEE(endog, exog, group, cov_struct=ind, family=fam)\n",
      "res_gee = mod1.fit()\n",
      "#print res_gee.summary()\n",
      "print(res_gee.bse)"
     ],
     "language": "python",
     "metadata": {},
     "outputs": [
      {
       "output_type": "stream",
       "stream": "stdout",
       "text": [
        "yr_con      0.178293\n",
        "op_75_79    0.099224\n",
        "const       0.988214\n",
        "dtype: float64\n"
       ]
      }
     ],
     "prompt_number": 16
    },
    {
     "cell_type": "code",
     "collapsed": false,
     "input": [
      "res_gee_nr = mod1.fit(cov_type='naive')\n",
      "print(res_gee_nr.bse)"
     ],
     "language": "python",
     "metadata": {},
     "outputs": [
      {
       "output_type": "stream",
       "stream": "stdout",
       "text": [
        "yr_con      0.053336\n",
        "op_75_79    0.112778\n",
        "const       0.135680\n",
        "dtype: float64\n"
       ]
      }
     ],
     "prompt_number": 17
    },
    {
     "cell_type": "code",
     "collapsed": false,
     "input": [
      "res_gee_bc = mod1.fit(cov_type='bias_reduced')\n",
      "print(res_gee_bc.bse)"
     ],
     "language": "python",
     "metadata": {},
     "outputs": [
      {
       "output_type": "stream",
       "stream": "stdout",
       "text": [
        "yr_con      0.235464\n",
        "op_75_79    0.119337\n",
        "const       1.260559\n",
        "dtype: float64\n"
       ]
      }
     ],
     "prompt_number": 18
    },
    {
     "cell_type": "markdown",
     "metadata": {},
     "source": [
      "The robust standard error differ from those of the cluster robust GLM or Poisson model, which are in between the robust and the bias corrected robust standard errors of GEE."
     ]
    },
    {
     "cell_type": "code",
     "collapsed": false,
     "input": [
      "print(res_glm_clu2.bse.values, 'GLM')\n",
      "print(res_gee.bse.values, 'GEE robust')\n",
      "print(res_gee_bc.bse.values, 'GEE bias reduced')"
     ],
     "language": "python",
     "metadata": {},
     "outputs": [
      {
       "output_type": "stream",
       "stream": "stdout",
       "text": [
        "[ 0.20566683  0.11445894  1.13994051] GLM\n",
        "[ 0.17829252  0.09922443  0.98821413] GEE robust\n",
        "[ 0.23546361  0.11933672  1.26055918] GEE bias reduced\n"
       ]
      }
     ],
     "prompt_number": 19
    },
    {
     "cell_type": "markdown",
     "metadata": {},
     "source": [
      "The cluster robust covariance matrices in GLM and discrete models makes by default a correction for a small number of cluster. The default 'robust' standard errors in GEE do not make this adjustment which explains the scale differences\n",
      "Note that we have a very small number of clusters in this example, and any differences in small sample adjustments can have a large effect in this case.\n",
      "\n",
      "The bias reduced robust covariance in GEE is not just a scale adjustment, and the standard errors differe in this example between 4% to 15% to the GLM cluster robust standard errors with small sample correction."
     ]
    },
    {
     "cell_type": "code",
     "collapsed": false,
     "input": [
      "# compare GEE with robust and Poisson with cluster with correction.\n",
      "res_gee.bse / res_glm_clu2.bse.values"
     ],
     "language": "python",
     "metadata": {},
     "outputs": [
      {
       "metadata": {},
       "output_type": "pyout",
       "prompt_number": 20,
       "text": [
        "yr_con      0.8669\n",
        "op_75_79    0.8669\n",
        "const       0.8669\n",
        "dtype: float64"
       ]
      }
     ],
     "prompt_number": 20
    },
    {
     "cell_type": "code",
     "collapsed": false,
     "input": [
      "# compare GEE with robust and Poisson with cluster without correction.\n",
      "res_gee.bse / res_clu_nc.bse   "
     ],
     "language": "python",
     "metadata": {},
     "outputs": [
      {
       "metadata": {},
       "output_type": "pyout",
       "prompt_number": 21,
       "text": [
        "yr_con      1\n",
        "op_75_79    1\n",
        "const       1\n",
        "dtype: float64"
       ]
      }
     ],
     "prompt_number": 21
    },
    {
     "cell_type": "code",
     "collapsed": false,
     "input": [],
     "language": "python",
     "metadata": {},
     "outputs": [],
     "prompt_number": 21
    },
    {
     "cell_type": "code",
     "collapsed": false,
     "input": [
      "# compare GEE with bias-reduced and GLM with cluster with correction.\n",
      "print(res_gee_bc.bse.values / res_glm_clu2.bse.values)"
     ],
     "language": "python",
     "metadata": {},
     "outputs": [
      {
       "output_type": "stream",
       "stream": "stdout",
       "text": [
        "[ 1.14487891  1.04261596  1.10581136]\n"
       ]
      }
     ],
     "prompt_number": 22
    },
    {
     "cell_type": "markdown",
     "metadata": {},
     "source": [
      "The estimated Poisson model shows overdispersion. There is currently no option for robust covariance matrices in GLM or Poisson that only correct for over or under dispersion. The HC standard errors correct for dispersion but also for general unspecified heteroscedasticity. An estimate of the dispersion can be obtained by dividing the sum of squared pearson residuals by the number of observations minus the number of estimated parameters."
     ]
    },
    {
     "cell_type": "code",
     "collapsed": false,
     "input": [
      "np.sqrt(res_glm_clu2.pearson_chi2 / res_glm_clu2.df_resid)"
     ],
     "language": "python",
     "metadata": {},
     "outputs": [
      {
       "metadata": {},
       "output_type": "pyout",
       "prompt_number": 23,
       "text": [
        "5.0365298571458696"
       ]
      }
     ],
     "prompt_number": 23
    },
    {
     "cell_type": "code",
     "collapsed": false,
     "input": [
      "print(res_gee.summary())"
     ],
     "language": "python",
     "metadata": {},
     "outputs": [
      {
       "output_type": "stream",
       "stream": "stdout",
       "text": [
        "                               GEE Regression Results                              \n",
        "===================================================================================\n",
        "Dep. Variable:                    accident   No. Observations:                   34\n",
        "Model:                                 GEE   No. clusters:                        5\n",
        "Method:                        Generalized   Min. cluster size:                   6\n",
        "                      Estimating Equations   Max. cluster size:                   7\n",
        "Family:                            Poisson   Mean cluster size:                 6.8\n",
        "Dependence structure:         Independence   Num. iterations:                    14\n",
        "Date:                     Sun, 18 Oct 2015   Scale:                           1.000\n",
        "Covariance type:                    robust   Time:                         15:12:32\n",
        "==============================================================================\n",
        "                 coef    std err          z      P>|z|      [0.025      0.975]\n",
        "------------------------------------------------------------------------------\n",
        "yr_con        -0.0217      0.178     -0.122      0.903      -0.371       0.328\n",
        "op_75_79       0.2215      0.099      2.232      0.026       0.027       0.416\n",
        "const          2.2697      0.988      2.297      0.022       0.333       4.207\n",
        "==============================================================================\n",
        "Skew:                          1.8833   Kurtosis:                       2.5279\n",
        "Centered skew:                -0.0381   Centered kurtosis:              2.2025\n",
        "==============================================================================\n"
       ]
      }
     ],
     "prompt_number": 24
    },
    {
     "cell_type": "heading",
     "level": 3,
     "metadata": {},
     "source": [
      "Comparison Poisson"
     ]
    },
    {
     "cell_type": "markdown",
     "metadata": {},
     "source": [
      "In the following we can compare the results of the three models for cluster robust standard errors. The first table confirms that the parameter estimates are identical except for different convergence criteria in the optimization."
     ]
    },
    {
     "cell_type": "code",
     "collapsed": false,
     "input": [
      "res_all = [res1f, res_glm_clu, res_gee]\n",
      "res_names = ['Poisson-cluster', 'GLM-cluster', 'GEE']\n",
      "\n",
      "#print pd.concat((res_glm_clu.params, res_gee.params), axis=1)\n",
      "print('Parameters')\n",
      "pd.DataFrame(np.round(np.column_stack([np.asarray(getattr(res, 'params')) for res in res_all]), 4), \n",
      "                 index=res_glm_clu.params.index, columns=res_names)"
     ],
     "language": "python",
     "metadata": {},
     "outputs": [
      {
       "output_type": "stream",
       "stream": "stdout",
       "text": [
        "Parameters\n"
       ]
      },
      {
       "html": [
        "<div style=\"max-height:1000px;max-width:1500px;overflow:auto;\">\n",
        "<table border=\"1\" class=\"dataframe\">\n",
        "  <thead>\n",
        "    <tr style=\"text-align: right;\">\n",
        "      <th></th>\n",
        "      <th>Poisson-cluster</th>\n",
        "      <th>GLM-cluster</th>\n",
        "      <th>GEE</th>\n",
        "    </tr>\n",
        "  </thead>\n",
        "  <tbody>\n",
        "    <tr>\n",
        "      <th>yr_con</th>\n",
        "      <td>-0.0217</td>\n",
        "      <td>-0.0217</td>\n",
        "      <td>-0.0217</td>\n",
        "    </tr>\n",
        "    <tr>\n",
        "      <th>op_75_79</th>\n",
        "      <td> 0.2215</td>\n",
        "      <td> 0.2215</td>\n",
        "      <td> 0.2215</td>\n",
        "    </tr>\n",
        "    <tr>\n",
        "      <th>const</th>\n",
        "      <td> 2.2697</td>\n",
        "      <td> 2.2697</td>\n",
        "      <td> 2.2697</td>\n",
        "    </tr>\n",
        "  </tbody>\n",
        "</table>\n",
        "</div>"
       ],
       "metadata": {},
       "output_type": "pyout",
       "prompt_number": 25,
       "text": [
        "          Poisson-cluster  GLM-cluster     GEE\n",
        "yr_con            -0.0217      -0.0217 -0.0217\n",
        "op_75_79           0.2215       0.2215  0.2215\n",
        "const              2.2697       2.2697  2.2697"
       ]
      }
     ],
     "prompt_number": 25
    },
    {
     "cell_type": "code",
     "collapsed": false,
     "input": [
      "print('Standard Errors')\n",
      "pd.DataFrame(np.round(np.column_stack([np.asarray(getattr(res, 'bse')) for res in res_all]), 4), \n",
      "                 index=res_glm_clu.params.index, columns=res_names)"
     ],
     "language": "python",
     "metadata": {},
     "outputs": [
      {
       "output_type": "stream",
       "stream": "stdout",
       "text": [
        "Standard Errors\n"
       ]
      },
      {
       "html": [
        "<div style=\"max-height:1000px;max-width:1500px;overflow:auto;\">\n",
        "<table border=\"1\" class=\"dataframe\">\n",
        "  <thead>\n",
        "    <tr style=\"text-align: right;\">\n",
        "      <th></th>\n",
        "      <th>Poisson-cluster</th>\n",
        "      <th>GLM-cluster</th>\n",
        "      <th>GEE</th>\n",
        "    </tr>\n",
        "  </thead>\n",
        "  <tbody>\n",
        "    <tr>\n",
        "      <th>yr_con</th>\n",
        "      <td> 0.2057</td>\n",
        "      <td> 0.2057</td>\n",
        "      <td> 0.1783</td>\n",
        "    </tr>\n",
        "    <tr>\n",
        "      <th>op_75_79</th>\n",
        "      <td> 0.1145</td>\n",
        "      <td> 0.1145</td>\n",
        "      <td> 0.0992</td>\n",
        "    </tr>\n",
        "    <tr>\n",
        "      <th>const</th>\n",
        "      <td> 1.1399</td>\n",
        "      <td> 1.1399</td>\n",
        "      <td> 0.9882</td>\n",
        "    </tr>\n",
        "  </tbody>\n",
        "</table>\n",
        "</div>"
       ],
       "metadata": {},
       "output_type": "pyout",
       "prompt_number": 26,
       "text": [
        "          Poisson-cluster  GLM-cluster     GEE\n",
        "yr_con             0.2057       0.2057  0.1783\n",
        "op_75_79           0.1145       0.1145  0.0992\n",
        "const              1.1399       1.1399  0.9882"
       ]
      }
     ],
     "prompt_number": 26
    },
    {
     "cell_type": "heading",
     "level": 2,
     "metadata": {},
     "source": [
      "Negative Binomial"
     ]
    },
    {
     "cell_type": "code",
     "collapsed": false,
     "input": [
      "print('\\nNegative Binomial')\n",
      "mod = smd.NegativeBinomial(endog, exog)\n",
      "res_glm_nr = mod.fit(disp=False)\n",
      "get_robustcov_results(res_glm_nr._results, 'HC1', use_self=True)\n",
      "print(res_glm_nr.cov_type)\n",
      "print(res_glm_nr.bse)\n",
      "print(np.sqrt(np.diag(res_glm_nr.cov_params())))"
     ],
     "language": "python",
     "metadata": {},
     "outputs": [
      {
       "output_type": "stream",
       "stream": "stdout",
       "text": [
        "\n",
        "Negative Binomial\n",
        "HC1\n",
        "yr_con      0.257201\n",
        "op_75_79    0.554121\n",
        "const       0.749135\n",
        "alpha       0.551116\n",
        "dtype: float64\n",
        "[ 0.25720074  0.55412081  0.74913526  0.55111619]\n"
       ]
      }
     ],
     "prompt_number": 27
    },
    {
     "cell_type": "code",
     "collapsed": false,
     "input": [
      "# old version TODO delete\n",
      "res_glm_clu = mod.fit(disp=False)\n",
      "get_robustcov_results(res_glm_clu._results, cov_type='cluster', groups=group, use_self=True)\n",
      "print(res_glm_clu.cov_type)\n",
      "print(res_glm_clu.bse)\n",
      "print(np.sqrt(np.diag(res_glm_clu.cov_params())))"
     ],
     "language": "python",
     "metadata": {},
     "outputs": [
      {
       "output_type": "stream",
       "stream": "stdout",
       "text": [
        "cluster\n",
        "yr_con      0.285445\n",
        "op_75_79    0.104592\n",
        "const       1.293787\n",
        "alpha       0.549495\n",
        "dtype: float64\n",
        "[ 0.2854446   0.1045925   1.29378708  0.54949506]\n"
       ]
      }
     ],
     "prompt_number": 28
    },
    {
     "cell_type": "code",
     "collapsed": false,
     "input": [
      "res_glm_clu2 = mod.fit(disp=False, cov_type='cluster', cov_kwds=dict(groups=group))\n",
      "print(res_glm_clu2.cov_type + ' - fit')\n",
      "print(res_glm_clu2.bse)\n",
      "print(np.sqrt(np.diag(res_glm_clu2.cov_params())))\n",
      "bse_st = np.array([ 0.2721609 ,  0.09972456,  1.23357855,  0.5239233 ])\n",
      "print(bse_st),\n",
      "print('Stata')\n",
      "print(res_glm_clu2.bse.values / bse_st)"
     ],
     "language": "python",
     "metadata": {},
     "outputs": [
      {
       "output_type": "stream",
       "stream": "stdout",
       "text": [
        "cluster - fit\n",
        "yr_con      0.285445\n",
        "op_75_79    0.104592\n",
        "const       1.293787\n",
        "alpha       0.549495\n",
        "dtype: float64\n",
        "[ 0.2854446   0.1045925   1.29378708  0.54949506]\n",
        "[ 0.2721609   0.09972456  1.23357855  0.5239233 ]\n",
        "Stata\n",
        "[ 1.04880825  1.04881382  1.04880803  1.04880822]\n"
       ]
      }
     ],
     "prompt_number": 29
    },
    {
     "cell_type": "code",
     "collapsed": false,
     "input": [
      "res_glm_hc1 = mod.fit(disp=False, cov_type='HC1', cov_kwds={})\n",
      "print(res_glm_hc1.cov_type + ' - fit')\n",
      "print(res_glm_hc1.bse)"
     ],
     "language": "python",
     "metadata": {},
     "outputs": [
      {
       "output_type": "stream",
       "stream": "stdout",
       "text": [
        "HC1 - fit\n",
        "yr_con      0.257201\n",
        "op_75_79    0.554121\n",
        "const       0.749135\n",
        "alpha       0.551116\n",
        "dtype: float64\n"
       ]
      }
     ],
     "prompt_number": 30
    },
    {
     "cell_type": "heading",
     "level": 2,
     "metadata": {},
     "source": [
      "Logit"
     ]
    },
    {
     "cell_type": "heading",
     "level": 3,
     "metadata": {},
     "source": [
      "GLM Logit (Binomial)"
     ]
    },
    {
     "cell_type": "code",
     "collapsed": false,
     "input": [
      "print('\\nGLM Logit')\n",
      "endog_bin = (endog > endog.mean()).astype(int)\n",
      "mod1 = GLM(endog_bin, exog,\n",
      "                   family=families.Binomial())\n",
      "\n",
      "res_glm_logit_clu = mod1.fit()\n",
      "print(res_glm_logit_clu.cov_type + ' - fit')\n",
      "print(res_glm_logit_clu.bse)\n",
      "\n",
      "res_glm_logit_clu2 = mod1.fit(cov_type='cluster', cov_kwds=dict(groups=group))\n",
      "print(res_glm_logit_clu2.cov_type + ' - fit')\n",
      "print(res_glm_logit_clu2.bse)\n",
      "print(np.sqrt(np.diag(res_glm_logit_clu2.cov_params())))    "
     ],
     "language": "python",
     "metadata": {},
     "outputs": [
      {
       "output_type": "stream",
       "stream": "stdout",
       "text": [
        "\n",
        "GLM Logit\n",
        "nonrobust - fit\n",
        "yr_con      0.385787\n",
        "op_75_79    0.826742\n",
        "const       1.048827\n",
        "dtype: float64\n",
        "cluster - fit\n",
        "yr_con      0.337142\n",
        "op_75_79    0.593020\n",
        "const       1.864865\n",
        "dtype: float64\n",
        "[ 0.33714199  0.59302014  1.86486478]\n"
       ]
      }
     ],
     "prompt_number": 31
    },
    {
     "cell_type": "heading",
     "level": 3,
     "metadata": {},
     "source": [
      "Discrete Model Logit"
     ]
    },
    {
     "cell_type": "markdown",
     "metadata": {},
     "source": [
      "Note: copy-paste results names are wrong"
     ]
    },
    {
     "cell_type": "code",
     "collapsed": false,
     "input": [
      "print('\\nLogit')\n",
      "endog_bin = (endog > endog.mean()).astype(int)\n",
      "mod1 = smd.Logit(endog_bin, exog)\n",
      "\n",
      "res_logit_clu = mod1.fit()\n",
      "print(res_logit_clu.cov_type + ' - fit')\n",
      "print(res_logit_clu.bse)\n",
      "\n",
      "res_logit_clu2 = mod1.fit(cov_type='cluster', cov_kwds=dict(groups=group))\n",
      "print(res_logit_clu2.cov_type + ' - fit')\n",
      "print(res_logit_clu2.bse)\n",
      "print(np.sqrt(np.diag(res_logit_clu2.cov_params())))   "
     ],
     "language": "python",
     "metadata": {},
     "outputs": [
      {
       "output_type": "stream",
       "stream": "stdout",
       "text": [
        "\n",
        "Logit\n",
        "Optimization terminated successfully.\n",
        "         Current function value: 0.589409\n",
        "         Iterations 5\n",
        "nonrobust - fit\n",
        "yr_con      0.385787\n",
        "op_75_79    0.826742\n",
        "const       1.048827\n",
        "dtype: float64\n",
        "Optimization terminated successfully.\n",
        "         Current function value: 0.589409\n",
        "         Iterations 5\n",
        "cluster - fit\n",
        "yr_con      0.337142\n",
        "op_75_79    0.593020\n",
        "const       1.864865\n",
        "dtype: float64\n",
        "[ 0.33714199  0.59302014  1.86486478]\n"
       ]
      }
     ],
     "prompt_number": 32
    },
    {
     "cell_type": "heading",
     "level": 3,
     "metadata": {},
     "source": [
      "GEE Logit"
     ]
    },
    {
     "cell_type": "code",
     "collapsed": false,
     "input": [
      "fam = families.Binomial()\n",
      "ind = Independence()\n",
      "mod1 = GEE(endog_bin, exog, group, cov_struct=ind, family=fam)\n",
      "res_gee = mod1.fit() #start_params=res_glm_logit_clu.params)\n",
      "#print res_gee.summary()\n",
      "print(res_gee.bse)"
     ],
     "language": "python",
     "metadata": {},
     "outputs": [
      {
       "output_type": "stream",
       "stream": "stdout",
       "text": [
        "yr_con      0.292268\n",
        "op_75_79    0.514089\n",
        "const       1.616651\n",
        "dtype: float64\n"
       ]
      }
     ],
     "prompt_number": 33
    },
    {
     "cell_type": "markdown",
     "metadata": {},
     "source": [
      "compare"
     ]
    },
    {
     "cell_type": "code",
     "collapsed": false,
     "input": [
      "print(res_glm_logit_clu2.bse.values)\n",
      "print(np.sqrt(np.diag(res_gee.cov_robust_bc))) \n"
     ],
     "language": "python",
     "metadata": {},
     "outputs": [
      {
       "output_type": "stream",
       "stream": "stdout",
       "text": [
        "[ 0.33714199  0.59302014  1.86486478]\n",
        "[ 0.37699761  0.62587787  2.0525678 ]\n"
       ]
      }
     ],
     "prompt_number": 34
    },
    {
     "cell_type": "heading",
     "level": 3,
     "metadata": {},
     "source": [
      "Comparison Logit"
     ]
    },
    {
     "cell_type": "code",
     "collapsed": false,
     "input": [
      "res_all = [res_logit_clu2, res_glm_logit_clu2, res_gee]\n",
      "res_names = ['Logit-cluster', 'GLM-cluster', 'GEE']\n",
      "\n",
      "#print pd.concat((res_glm_clu.params, res_gee.params), axis=1)\n",
      "print('Parameters')\n",
      "pd.DataFrame(np.round(np.column_stack([np.asarray(getattr(res, 'params')) for res in res_all]), 4), \n",
      "                 index=res_glm_logit_clu.params.index, columns=res_names)"
     ],
     "language": "python",
     "metadata": {},
     "outputs": [
      {
       "output_type": "stream",
       "stream": "stdout",
       "text": [
        "Parameters\n"
       ]
      },
      {
       "html": [
        "<div style=\"max-height:1000px;max-width:1500px;overflow:auto;\">\n",
        "<table border=\"1\" class=\"dataframe\">\n",
        "  <thead>\n",
        "    <tr style=\"text-align: right;\">\n",
        "      <th></th>\n",
        "      <th>Logit-cluster</th>\n",
        "      <th>GLM-cluster</th>\n",
        "      <th>GEE</th>\n",
        "    </tr>\n",
        "  </thead>\n",
        "  <tbody>\n",
        "    <tr>\n",
        "      <th>yr_con</th>\n",
        "      <td> 0.3394</td>\n",
        "      <td> 0.3394</td>\n",
        "      <td> 0.3394</td>\n",
        "    </tr>\n",
        "    <tr>\n",
        "      <th>op_75_79</th>\n",
        "      <td> 0.8832</td>\n",
        "      <td> 0.8832</td>\n",
        "      <td> 0.8832</td>\n",
        "    </tr>\n",
        "    <tr>\n",
        "      <th>const</th>\n",
        "      <td>-2.0881</td>\n",
        "      <td>-2.0881</td>\n",
        "      <td>-2.0881</td>\n",
        "    </tr>\n",
        "  </tbody>\n",
        "</table>\n",
        "</div>"
       ],
       "metadata": {},
       "output_type": "pyout",
       "prompt_number": 35,
       "text": [
        "          Logit-cluster  GLM-cluster     GEE\n",
        "yr_con           0.3394       0.3394  0.3394\n",
        "op_75_79         0.8832       0.8832  0.8832\n",
        "const           -2.0881      -2.0881 -2.0881"
       ]
      }
     ],
     "prompt_number": 35
    },
    {
     "cell_type": "code",
     "collapsed": false,
     "input": [
      "print('Standard Errors')\n",
      "pd.DataFrame(np.round(np.column_stack([np.asarray(getattr(res, 'bse')) for res in res_all]), 4), \n",
      "                 index=res_glm_logit_clu.params.index, columns=res_names)"
     ],
     "language": "python",
     "metadata": {},
     "outputs": [
      {
       "output_type": "stream",
       "stream": "stdout",
       "text": [
        "Standard Errors\n"
       ]
      },
      {
       "html": [
        "<div style=\"max-height:1000px;max-width:1500px;overflow:auto;\">\n",
        "<table border=\"1\" class=\"dataframe\">\n",
        "  <thead>\n",
        "    <tr style=\"text-align: right;\">\n",
        "      <th></th>\n",
        "      <th>Logit-cluster</th>\n",
        "      <th>GLM-cluster</th>\n",
        "      <th>GEE</th>\n",
        "    </tr>\n",
        "  </thead>\n",
        "  <tbody>\n",
        "    <tr>\n",
        "      <th>yr_con</th>\n",
        "      <td> 0.3371</td>\n",
        "      <td> 0.3371</td>\n",
        "      <td> 0.2923</td>\n",
        "    </tr>\n",
        "    <tr>\n",
        "      <th>op_75_79</th>\n",
        "      <td> 0.5930</td>\n",
        "      <td> 0.5930</td>\n",
        "      <td> 0.5141</td>\n",
        "    </tr>\n",
        "    <tr>\n",
        "      <th>const</th>\n",
        "      <td> 1.8649</td>\n",
        "      <td> 1.8649</td>\n",
        "      <td> 1.6167</td>\n",
        "    </tr>\n",
        "  </tbody>\n",
        "</table>\n",
        "</div>"
       ],
       "metadata": {},
       "output_type": "pyout",
       "prompt_number": 36,
       "text": [
        "          Logit-cluster  GLM-cluster     GEE\n",
        "yr_con           0.3371       0.3371  0.2923\n",
        "op_75_79         0.5930       0.5930  0.5141\n",
        "const            1.8649       1.8649  1.6167"
       ]
      }
     ],
     "prompt_number": 36
    },
    {
     "cell_type": "heading",
     "level": 2,
     "metadata": {},
     "source": [
      "Probit"
     ]
    },
    {
     "cell_type": "heading",
     "level": 3,
     "metadata": {},
     "source": [
      "Discrete Model Probit"
     ]
    },
    {
     "cell_type": "code",
     "collapsed": false,
     "input": [
      "print('\\nProbit')\n",
      "endog_bin = (endog > endog.mean()).astype(int)\n",
      "mod1 = smd.Probit(endog_bin, exog)\n",
      "\n",
      "res_probit_clu = mod1.fit()\n",
      "print(res_probit_clu.cov_type + ' - fit')\n",
      "print(res_probit_clu.bse)\n",
      "\n",
      "res_probit_clu2 = mod1.fit(cov_type='cluster', cov_kwds=dict(groups=group))\n",
      "print(res_probit_clu2.cov_type + ' - fit')\n",
      "print(res_probit_clu2.bse)\n",
      "print(np.sqrt(np.diag(res_probit_clu2.cov_params()))) \n",
      "\n",
      "res_probit_hac = mod1.fit(cov_type='HAC', cov_kwds=dict(maxlags=3))\n",
      "print(res_probit_hac.cov_type + ' - fit')\n",
      "print(res_probit_hac.bse)\n",
      "print(np.sqrt(np.diag(res_probit_hac.cov_params())))"
     ],
     "language": "python",
     "metadata": {},
     "outputs": [
      {
       "output_type": "stream",
       "stream": "stdout",
       "text": [
        "\n",
        "Probit\n",
        "Optimization terminated successfully.\n",
        "         Current function value: 0.589823\n",
        "         Iterations 5\n",
        "nonrobust - fit\n",
        "yr_con      0.232729\n",
        "op_75_79    0.490381\n",
        "const       0.604882\n",
        "dtype: float64\n",
        "Optimization terminated successfully.\n",
        "         Current function value: 0.589823\n",
        "         Iterations 5\n",
        "cluster - fit\n",
        "yr_con      0.192395\n",
        "op_75_79    0.307330\n",
        "const       1.041974\n",
        "dtype: float64\n",
        "[ 0.19239499  0.30732984  1.04197447]\n",
        "Optimization terminated successfully.\n",
        "         Current function value: 0.589823\n",
        "         Iterations 5\n",
        "HAC - fit\n",
        "yr_con      0.241707\n",
        "op_75_79    0.256575\n",
        "const       0.820305\n",
        "dtype: float64\n",
        "[ 0.24170689  0.25657473  0.82030549]\n"
       ]
      }
     ],
     "prompt_number": 37
    },
    {
     "cell_type": "heading",
     "level": 2,
     "metadata": {},
     "source": [
      "GLM Probit"
     ]
    },
    {
     "cell_type": "code",
     "collapsed": false,
     "input": [
      "#mod1 = GLM(endog_bin, exog, family=families.Binomial(links.CDFLink))\n",
      "mod1 = GLM(endog_bin, exog, family=families.Binomial(links.probit))\n",
      "\n",
      "res_glm_probit_clu = mod1.fit()\n",
      "print(res_glm_probit_clu.cov_type + ' - fit')\n",
      "print(res_glm_probit_clu.bse)\n",
      "print(np.sqrt(np.diag(res_glm_probit_clu.cov_params()))) "
     ],
     "language": "python",
     "metadata": {},
     "outputs": [
      {
       "output_type": "stream",
       "stream": "stdout",
       "text": [
        "nonrobust - fit\n",
        "yr_con      0.232456\n",
        "op_75_79    0.487844\n",
        "const       0.610261\n",
        "dtype: float64\n",
        "[ 0.23245625  0.4878443   0.61026116]\n"
       ]
      }
     ],
     "prompt_number": 38
    },
    {
     "cell_type": "code",
     "collapsed": false,
     "input": [
      "res_glm_probit_clu2 = mod1.fit(cov_type='cluster', cov_kwds=dict(groups=group))\n",
      "print(res_glm_probit_clu2.cov_type + ' - fit')\n",
      "print(res_glm_probit_clu2.bse)\n",
      "print(np.sqrt(np.diag(res_glm_probit_clu2.cov_params()))) "
     ],
     "language": "python",
     "metadata": {},
     "outputs": [
      {
       "output_type": "stream",
       "stream": "stdout",
       "text": [
        "cluster - fit\n",
        "yr_con      0.194533\n",
        "op_75_79    0.312240\n",
        "const       1.052924\n",
        "dtype: float64\n",
        "[ 0.19453294  0.31223975  1.05292424]\n"
       ]
      }
     ],
     "prompt_number": 39
    },
    {
     "cell_type": "code",
     "collapsed": false,
     "input": [
      "print('\\nprobit params')\n",
      "print(res_probit_clu.params)\n",
      "print(res_glm_probit_clu.params)\n",
      "print(res_probit_clu.bse)\n",
      "print(res_glm_probit_clu.bse)"
     ],
     "language": "python",
     "metadata": {},
     "outputs": [
      {
       "output_type": "stream",
       "stream": "stdout",
       "text": [
        "\n",
        "probit params\n",
        "yr_con      0.202947\n",
        "op_75_79    0.523378\n",
        "const      -1.253350\n",
        "dtype: float64\n",
        "yr_con      0.202947\n",
        "op_75_79    0.523378\n",
        "const      -1.253350\n",
        "dtype: float64\n",
        "yr_con      0.232729\n",
        "op_75_79    0.490381\n",
        "const       0.604882\n",
        "dtype: float64\n",
        "yr_con      0.232456\n",
        "op_75_79    0.487844\n",
        "const       0.610261\n",
        "dtype: float64\n"
       ]
      }
     ],
     "prompt_number": 40
    },
    {
     "cell_type": "code",
     "collapsed": false,
     "input": [
      "print(pd.concat((res_probit_clu.params, res_glm_probit_clu.params), axis=1))\n",
      "print(pd.concat((res_probit_clu.bse, res_glm_probit_clu.bse), axis=1))\n",
      "\n",
      "print(pd.concat((res_probit_clu2.params, res_glm_probit_clu2.params), axis=1))\n",
      "print(pd.concat((res_probit_clu2.bse, res_glm_probit_clu2.bse), axis=1))\n",
      "\n",
      "# TODO: use summary_col to compare estimators"
     ],
     "language": "python",
     "metadata": {},
     "outputs": [
      {
       "output_type": "stream",
       "stream": "stdout",
       "text": [
        "                 0         1\n",
        "yr_con    0.202947  0.202947\n",
        "op_75_79  0.523378  0.523378\n",
        "const    -1.253350 -1.253350\n",
        "                 0         1\n",
        "yr_con    0.232729  0.232456\n",
        "op_75_79  0.490381  0.487844\n",
        "const     0.604882  0.610261\n",
        "                 0         1\n",
        "yr_con    0.202947  0.202947\n",
        "op_75_79  0.523378  0.523378\n",
        "const    -1.253350 -1.253350\n",
        "                 0         1\n",
        "yr_con    0.192395  0.194533\n",
        "op_75_79  0.307330  0.312240\n",
        "const     1.041974  1.052924\n"
       ]
      }
     ],
     "prompt_number": 41
    },
    {
     "cell_type": "markdown",
     "metadata": {},
     "source": [
      "There is a difference in the numerical Hessian between GLM-Probit and discrete Probit, and consequently in the standard errors. Discrete Probit uses an analytical expression for the Hessian while GLM-Probit uses the generic GLM calculation where one part is based on finite difference calculations."
     ]
    },
    {
     "cell_type": "code",
     "collapsed": false,
     "input": [
      "#res_probit_clu = res_probit_clu._results  # not wrapped\n",
      "res_glm_probit_clu = res_glm_probit_clu._results\n",
      "sc_probit = res_probit_clu.model.jac(res_probit_clu.params)\n",
      "sc_glm_probit = res_glm_probit_clu.model.score_obs(res_probit_clu.params)\n",
      "print(np.max(np.abs(sc_probit - sc_glm_probit)))\n",
      "hess_glm_probit = res_glm_probit_clu.model.hessian(res_probit_clu.params)\n",
      "hess_probit = res_probit_clu.model.hessian(res_probit_clu.params)\n",
      "print(np.max(np.abs(hess_probit - hess_glm_probit)))\n",
      "print(hess_probit / hess_glm_probit)"
     ],
     "language": "python",
     "metadata": {},
     "outputs": [
      {
       "output_type": "stream",
       "stream": "stdout",
       "text": [
        "8.881784197e-16\n",
        "0.0319808160248\n",
        "[[ 0.99975476  1.0007156   0.99958227]\n",
        " [ 1.0007156   0.99793767  0.99793767]\n",
        " [ 0.99958227  0.99793767  1.00047687]]\n"
       ]
      }
     ],
     "prompt_number": 42
    },
    {
     "cell_type": "heading",
     "level": 3,
     "metadata": {},
     "source": [
      "GEE Probit"
     ]
    },
    {
     "cell_type": "code",
     "collapsed": false,
     "input": [
      "fam = families.Binomial(links.probit)\n",
      "ind = Independence()\n",
      "mod1 = GEE(endog_bin, exog, group, cov_struct=ind, family=fam)\n",
      "res_gee = mod1.fit(start_params=res_glm_probit_clu.params)\n",
      "#print res_gee.summary()\n",
      "print(res_gee.bse)"
     ],
     "language": "python",
     "metadata": {},
     "outputs": [
      {
       "output_type": "stream",
       "stream": "stdout",
       "text": [
        "yr_con      0.169572\n",
        "op_75_79    0.274044\n",
        "const       0.916809\n",
        "dtype: float64\n"
       ]
      }
     ],
     "prompt_number": 43
    },
    {
     "cell_type": "heading",
     "level": 3,
     "metadata": {},
     "source": [
      "Comparison Probit"
     ]
    },
    {
     "cell_type": "markdown",
     "metadata": {},
     "source": [
      "compare"
     ]
    },
    {
     "cell_type": "code",
     "collapsed": false,
     "input": [
      "print(res_glm_probit_clu2.bse.values)\n",
      "print(np.sqrt(np.diag(res_gee.cov_robust_bc)))"
     ],
     "language": "python",
     "metadata": {},
     "outputs": [
      {
       "output_type": "stream",
       "stream": "stdout",
       "text": [
        "[ 0.19453294  0.31223975  1.05292424]\n",
        "[ 0.21855456  0.33301099  1.16412386]\n"
       ]
      }
     ],
     "prompt_number": 44
    },
    {
     "cell_type": "code",
     "collapsed": false,
     "input": [
      "res_all = [res_probit_clu, res_glm_probit_clu, res_gee]\n",
      "res_names = ['Probit-cluster', 'GLM-cluster', 'GEE']\n",
      "\n",
      "#print pd.concat((res_glm_clu.params, res_gee.params), axis=1)\n",
      "print('Parameters')\n",
      "pd.DataFrame(np.round(np.column_stack([np.asarray(getattr(res, 'params')) for res in res_all]), 4), \n",
      "                 index=res_probit_clu.params.index, columns=res_names)"
     ],
     "language": "python",
     "metadata": {},
     "outputs": [
      {
       "output_type": "stream",
       "stream": "stdout",
       "text": [
        "Parameters\n"
       ]
      },
      {
       "html": [
        "<div style=\"max-height:1000px;max-width:1500px;overflow:auto;\">\n",
        "<table border=\"1\" class=\"dataframe\">\n",
        "  <thead>\n",
        "    <tr style=\"text-align: right;\">\n",
        "      <th></th>\n",
        "      <th>Probit-cluster</th>\n",
        "      <th>GLM-cluster</th>\n",
        "      <th>GEE</th>\n",
        "    </tr>\n",
        "  </thead>\n",
        "  <tbody>\n",
        "    <tr>\n",
        "      <th>yr_con</th>\n",
        "      <td> 0.2029</td>\n",
        "      <td> 0.2029</td>\n",
        "      <td> 0.2029</td>\n",
        "    </tr>\n",
        "    <tr>\n",
        "      <th>op_75_79</th>\n",
        "      <td> 0.5234</td>\n",
        "      <td> 0.5234</td>\n",
        "      <td> 0.5234</td>\n",
        "    </tr>\n",
        "    <tr>\n",
        "      <th>const</th>\n",
        "      <td>-1.2534</td>\n",
        "      <td>-1.2534</td>\n",
        "      <td>-1.2534</td>\n",
        "    </tr>\n",
        "  </tbody>\n",
        "</table>\n",
        "</div>"
       ],
       "metadata": {},
       "output_type": "pyout",
       "prompt_number": 45,
       "text": [
        "          Probit-cluster  GLM-cluster     GEE\n",
        "yr_con            0.2029       0.2029  0.2029\n",
        "op_75_79          0.5234       0.5234  0.5234\n",
        "const            -1.2534      -1.2534 -1.2534"
       ]
      }
     ],
     "prompt_number": 45
    },
    {
     "cell_type": "code",
     "collapsed": false,
     "input": [
      "print('Standard Errors')\n",
      "pd.DataFrame(np.round(np.column_stack([np.asarray(getattr(res, 'bse')) for res in res_all]), 4), \n",
      "                 index=res_probit_clu.params.index, columns=res_names)"
     ],
     "language": "python",
     "metadata": {},
     "outputs": [
      {
       "output_type": "stream",
       "stream": "stdout",
       "text": [
        "Standard Errors\n"
       ]
      },
      {
       "html": [
        "<div style=\"max-height:1000px;max-width:1500px;overflow:auto;\">\n",
        "<table border=\"1\" class=\"dataframe\">\n",
        "  <thead>\n",
        "    <tr style=\"text-align: right;\">\n",
        "      <th></th>\n",
        "      <th>Probit-cluster</th>\n",
        "      <th>GLM-cluster</th>\n",
        "      <th>GEE</th>\n",
        "    </tr>\n",
        "  </thead>\n",
        "  <tbody>\n",
        "    <tr>\n",
        "      <th>yr_con</th>\n",
        "      <td> 0.2327</td>\n",
        "      <td> 0.2325</td>\n",
        "      <td> 0.1696</td>\n",
        "    </tr>\n",
        "    <tr>\n",
        "      <th>op_75_79</th>\n",
        "      <td> 0.4904</td>\n",
        "      <td> 0.4878</td>\n",
        "      <td> 0.2740</td>\n",
        "    </tr>\n",
        "    <tr>\n",
        "      <th>const</th>\n",
        "      <td> 0.6049</td>\n",
        "      <td> 0.6103</td>\n",
        "      <td> 0.9168</td>\n",
        "    </tr>\n",
        "  </tbody>\n",
        "</table>\n",
        "</div>"
       ],
       "metadata": {},
       "output_type": "pyout",
       "prompt_number": 46,
       "text": [
        "          Probit-cluster  GLM-cluster     GEE\n",
        "yr_con            0.2327       0.2325  0.1696\n",
        "op_75_79          0.4904       0.4878  0.2740\n",
        "const             0.6049       0.6103  0.9168"
       ]
      }
     ],
     "prompt_number": 46
    },
    {
     "cell_type": "code",
     "collapsed": false,
     "input": [],
     "language": "python",
     "metadata": {},
     "outputs": [],
     "prompt_number": 46
    },
    {
     "cell_type": "code",
     "collapsed": false,
     "input": [],
     "language": "python",
     "metadata": {},
     "outputs": [],
     "prompt_number": 46
    },
    {
     "cell_type": "heading",
     "level": 2,
     "metadata": {},
     "source": [
      "Linear Model"
     ]
    },
    {
     "cell_type": "markdown",
     "metadata": {},
     "source": [
      "this is a stump, just for a quick comparison\n",
      "\n",
      "We compare OLS and GLM and GEE both with gaussian family and linear link, which are the defaults for GLM and GEE.\n",
      "\n",
      "As we can see below, both nonrobust and cluster robust without correction are identical in the three models"
     ]
    },
    {
     "cell_type": "code",
     "collapsed": false,
     "input": [
      "import statsmodels.regression.linear_model as linear\n",
      "\n",
      "mod_ols = linear.OLS(endog, exog)\n",
      "res_ols_nr = mod_ols.fit()\n",
      "res_ols_clu_nc = mod_ols.fit(cov_type='cluster', cov_kwds=dict(groups=group, use_correction=False))\n",
      "\n",
      "mod_glmgau = GLM(endog, exog)\n",
      "res_glmgau_nr = mod_glmgau.fit()\n",
      "res_glmgau_clu_nc = mod_glmgau.fit(cov_type='cluster', cov_kwds=dict(groups=group, use_correction=False))\n",
      "\n",
      "\n",
      "mod_geegau = GEE(endog, exog, group, cov_struct=Independence())\n",
      "res_geegau_nr = mod_geegau.fit(cov_type='naive')\n",
      "res_geegau_rob = mod_geegau.fit(cov_type='robust')\n",
      "res_geegau_bc = mod_geegau.fit(cov_type='bias_reduced')"
     ],
     "language": "python",
     "metadata": {},
     "outputs": [],
     "prompt_number": 47
    },
    {
     "cell_type": "code",
     "collapsed": false,
     "input": [
      "print(res_ols_nr.bse.values)\n",
      "print(res_glmgau_nr.bse.values)\n",
      "print(res_geegau_nr.bse.values)"
     ],
     "language": "python",
     "metadata": {},
     "outputs": [
      {
       "output_type": "stream",
       "stream": "stdout",
       "text": [
        "[ 2.83491152  5.82922209  7.04487696]\n",
        "[ 2.83491152  5.82922209  7.04487696]\n",
        "[ 2.83491152  5.82922209  7.04487696]\n"
       ]
      }
     ],
     "prompt_number": 48
    },
    {
     "cell_type": "code",
     "collapsed": false,
     "input": [
      "print(res_ols_clu_nc.bse.values)\n",
      "print(res_glmgau_clu_nc.bse.values)\n",
      "print(res_geegau_rob.bse.values)"
     ],
     "language": "python",
     "metadata": {},
     "outputs": [
      {
       "output_type": "stream",
       "stream": "stdout",
       "text": [
        "[ 2.03582198  1.27532744  9.94937361]\n",
        "[ 2.03582198  1.27532744  9.94937361]\n",
        "[ 2.03582198  1.27532744  9.94937361]\n"
       ]
      }
     ],
     "prompt_number": 49
    },
    {
     "cell_type": "markdown",
     "metadata": {},
     "source": [
      "As reference we print just the summary for GEE which contains information about the cluster structure."
     ]
    },
    {
     "cell_type": "code",
     "collapsed": false,
     "input": [
      "print(res_geegau_rob.summary())"
     ],
     "language": "python",
     "metadata": {},
     "outputs": [
      {
       "output_type": "stream",
       "stream": "stdout",
       "text": [
        "                               GEE Regression Results                              \n",
        "===================================================================================\n",
        "Dep. Variable:                    accident   No. Observations:                   34\n",
        "Model:                                 GEE   No. clusters:                        5\n",
        "Method:                        Generalized   Min. cluster size:                   6\n",
        "                      Estimating Equations   Max. cluster size:                   7\n",
        "Family:                           Gaussian   Mean cluster size:                 6.8\n",
        "Dependence structure:         Independence   Num. iterations:                     2\n",
        "Date:                     Sun, 18 Oct 2015   Scale:                         262.251\n",
        "Covariance type:                    robust   Time:                         15:12:35\n",
        "==============================================================================\n",
        "                 coef    std err          z      P>|z|      [0.025      0.975]\n",
        "------------------------------------------------------------------------------\n",
        "yr_con        -0.2339      2.036     -0.115      0.909      -4.224       3.756\n",
        "op_75_79       2.2898      1.275      1.795      0.073      -0.210       4.789\n",
        "const          9.7344      9.949      0.978      0.328      -9.766      29.235\n",
        "==============================================================================\n",
        "Skew:                          1.8831   Kurtosis:                       2.5279\n",
        "Centered skew:                -0.0364   Centered kurtosis:              2.2008\n",
        "==============================================================================\n"
       ]
      }
     ],
     "prompt_number": 50
    },
    {
     "cell_type": "code",
     "collapsed": false,
     "input": [],
     "language": "python",
     "metadata": {},
     "outputs": [],
     "prompt_number": 50
    }
   ],
   "metadata": {}
  }
 ]
}