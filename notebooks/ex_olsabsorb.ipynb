{
 "cells": [
  {
   "cell_type": "markdown",
   "metadata": {},
   "source": [
    "# OLSAbsorb: Absorbing categorical variables in OLS"
   ]
  },
  {
   "cell_type": "markdown",
   "metadata": {},
   "source": [
    "One of the main usecases for this is absorbing fixed effects in panel data.\n",
    "\n",
    "The fixed effects are included as sparse dummy matrix and partialled out of the main explanatory variables."
   ]
  },
  {
   "cell_type": "markdown",
   "metadata": {},
   "source": [
    "**Note** the first part is broken because I changed the structure of the simulated data. (IIRC)"
   ]
  },
  {
   "cell_type": "code",
   "execution_count": 1,
   "metadata": {
    "collapsed": true
   },
   "outputs": [],
   "source": [
    "import time\n",
    "\n",
    "import numpy as np\n",
    "from scipy import sparse\n",
    "import pandas as pd\n",
    "\n",
    "from statsmodels.regression.linear_model import OLS\n",
    "from statsmodels.regression.special_linear_model import OLSAbsorb, cat2dummy_sparse\n",
    "from statsmodels.tools._sparse import PartialingSparse, dummy_sparse\n"
   ]
  },
  {
   "cell_type": "code",
   "execution_count": null,
   "metadata": {
    "collapsed": true
   },
   "outputs": [],
   "source": []
  },
  {
   "cell_type": "code",
   "execution_count": 2,
   "metadata": {
    "collapsed": false
   },
   "outputs": [],
   "source": [
    "k_cat1, k_cat2 = 500, 100\n",
    "\n",
    "keep = (np.random.rand(k_cat1 * k_cat2) > 0.1).astype(bool)\n",
    "\n",
    "xcat1 = np.repeat(np.arange(k_cat1), k_cat2)[keep]\n",
    "xcat2 = np.tile(np.arange(k_cat2), k_cat1)[keep]\n",
    "exog_absorb = np.column_stack((xcat1, xcat2))\n",
    "nobs = len(xcat1)\n",
    "\n",
    "exog_sparse = cat2dummy_sparse(exog_absorb)\n",
    "beta_sparse = 1. / np.r_[np.arange(1, k_cat1), np.arange(1, k_cat2 + 1)]\n",
    "\n",
    "np.random.seed(999)\n",
    "beta_dense = np.ones(3)\n",
    "exog_dense = np.column_stack((np.ones(exog_sparse.shape[0]), np.random.randn(exog_sparse.shape[0], len(beta_dense) - 1)))\n",
    "y = exog_dense.dot(beta_dense) + exog_sparse.dot(beta_sparse) + 0.01 * np.random.randn(nobs)\n"
   ]
  },
  {
   "cell_type": "code",
   "execution_count": null,
   "metadata": {
    "collapsed": true
   },
   "outputs": [],
   "source": []
  },
  {
   "cell_type": "code",
   "execution_count": 3,
   "metadata": {
    "collapsed": false
   },
   "outputs": [
    {
     "data": {
      "text/plain": [
       "((44928, 2), (44928, 599), (599,))"
      ]
     },
     "execution_count": 3,
     "metadata": {},
     "output_type": "execute_result"
    }
   ],
   "source": [
    "exog_absorb.shape, exog_sparse.shape, beta_sparse.shape"
   ]
  },
  {
   "cell_type": "code",
   "execution_count": 4,
   "metadata": {
    "collapsed": false
   },
   "outputs": [
    {
     "name": "stdout",
     "output_type": "stream",
     "text": [
      "time:  0.06258296966552734\n"
     ]
    }
   ],
   "source": [
    "t0 = time.time()\n",
    "mod_absorb = OLSAbsorb(y, exog_dense, exog_absorb)\n",
    "res_absorb = mod_absorb.fit()\n",
    "t1 = time.time()\n",
    "print('time: ', t1 - t0)"
   ]
  },
  {
   "cell_type": "code",
   "execution_count": 5,
   "metadata": {
    "collapsed": false
   },
   "outputs": [
    {
     "name": "stdout",
     "output_type": "stream",
     "text": [
      "                         OLSAbsorb Regression Results                         \n",
      "==============================================================================\n",
      "Dep. Variable:                      y   R-squared:                       1.000\n",
      "Model:                      OLSAbsorb   Adj. R-squared:                  1.000\n",
      "Method:                 Least Squares   F-statistic:                 1.517e+06\n",
      "Date:                Sun, 03 Apr 2016   Prob (F-statistic):               0.00\n",
      "Time:                        15:58:50   Log-Likelihood:             1.4362e+05\n",
      "No. Observations:               44928   AIC:                        -2.860e+05\n",
      "Df Residuals:                   44327   BIC:                        -2.808e+05\n",
      "Df Model:                         600                                         \n",
      "Covariance Type:            nonrobust                                         \n",
      "==============================================================================\n",
      "                 coef    std err          t      P>|t|      [0.025      0.975]\n",
      "------------------------------------------------------------------------------\n",
      "const          1.0657    4.7e-05   2.27e+04      0.000       1.066       1.066\n",
      "x1             1.0000   4.72e-05   2.12e+04      0.000       1.000       1.000\n",
      "x2             0.9999   4.75e-05    2.1e+04      0.000       1.000       1.000\n",
      "==============================================================================\n",
      "Omnibus:                        1.061   Durbin-Watson:                   2.026\n",
      "Prob(Omnibus):                  0.588   Jarque-Bera (JB):                1.047\n",
      "Skew:                          -0.005   Prob(JB):                        0.592\n",
      "Kurtosis:                       3.022   Cond. No.                         1.01\n",
      "==============================================================================\n",
      "\n",
      "Warnings:\n",
      "[1] Standard Errors assume that the covariance matrix of the errors is correctly specified.\n"
     ]
    }
   ],
   "source": [
    "print(res_absorb.summary())"
   ]
  },
  {
   "cell_type": "code",
   "execution_count": 6,
   "metadata": {
    "collapsed": false
   },
   "outputs": [
    {
     "data": {
      "text/plain": [
       "array([  0,   0,   0, ..., 499, 499, 499])"
      ]
     },
     "execution_count": 6,
     "metadata": {},
     "output_type": "execute_result"
    }
   ],
   "source": [
    "xcat1"
   ]
  },
  {
   "cell_type": "code",
   "execution_count": 7,
   "metadata": {
    "collapsed": false
   },
   "outputs": [
    {
     "data": {
      "text/plain": [
       "array([ 0,  1,  2, ..., 97, 98, 99])"
      ]
     },
     "execution_count": 7,
     "metadata": {},
     "output_type": "execute_result"
    }
   ],
   "source": [
    "xcat2"
   ]
  },
  {
   "cell_type": "code",
   "execution_count": 8,
   "metadata": {
    "collapsed": false
   },
   "outputs": [
    {
     "data": {
      "text/plain": [
       "dict_keys(['_ih', '_i5', '__doc__', '_i1', 'xcat1', '__name__', '__builtin__', '_iii', 'pd', 'quit', '__builtins__', 't1', '_i8', 'dummy_sparse', '_i2', '_i6', '_7', 'exog_sparse', 'np', 'beta_dense', 'OLSAbsorb', '_i', 'mod_absorb', 'sparse', 'beta_sparse', 't0', '_ii', 'k_cat2', '_', 'PartialingSparse', '_3', 'get_ipython', '_i7', '_i3', '__package__', 'exog_absorb', '_dh', '___', '_i4', 'xcat2', '_oh', '_6', '__spec__', 'cat2dummy_sparse', '_sh', 'exog_dense', '__loader__', 'res_absorb', 'Out', 'OLS', 'In', '__', 'nobs', 'keep', 'y', 'exit', 'time', 'k_cat1'])"
      ]
     },
     "execution_count": 8,
     "metadata": {},
     "output_type": "execute_result"
    }
   ],
   "source": [
    "locals().keys()"
   ]
  },
  {
   "cell_type": "code",
   "execution_count": 9,
   "metadata": {
    "collapsed": false
   },
   "outputs": [
    {
     "data": {
      "text/plain": [
       "89761"
      ]
     },
     "execution_count": 9,
     "metadata": {},
     "output_type": "execute_result"
    }
   ],
   "source": [
    "exog_sparse.nnz"
   ]
  },
  {
   "cell_type": "code",
   "execution_count": 10,
   "metadata": {
    "collapsed": false
   },
   "outputs": [
    {
     "data": {
      "text/plain": [
       "<44928x599 sparse matrix of type '<class 'numpy.float64'>'\n",
       "\twith 89761 stored elements in Compressed Sparse Row format>"
      ]
     },
     "execution_count": 10,
     "metadata": {},
     "output_type": "execute_result"
    }
   ],
   "source": [
    "exog_sparse\n"
   ]
  },
  {
   "cell_type": "code",
   "execution_count": 11,
   "metadata": {
    "collapsed": false
   },
   "outputs": [
    {
     "data": {
      "text/plain": [
       "<599x599 sparse matrix of type '<class 'numpy.float64'>'\n",
       "\twith 90265 stored elements in Compressed Sparse Column format>"
      ]
     },
     "execution_count": 11,
     "metadata": {},
     "output_type": "execute_result"
    }
   ],
   "source": [
    "exog_sparse.T.dot(exog_sparse)"
   ]
  },
  {
   "cell_type": "code",
   "execution_count": 12,
   "metadata": {
    "collapsed": false
   },
   "outputs": [
    {
     "ename": "ValueError",
     "evalue": "total size of new array must be unchanged",
     "output_type": "error",
     "traceback": [
      "\u001b[1;31m---------------------------------------------------------------------------\u001b[0m",
      "\u001b[1;31mValueError\u001b[0m                                Traceback (most recent call last)",
      "\u001b[1;32m<ipython-input-12-f733de6bec74>\u001b[0m in \u001b[0;36m<module>\u001b[1;34m()\u001b[0m\n\u001b[1;32m----> 1\u001b[1;33m \u001b[0mxcat2\u001b[0m\u001b[1;33m.\u001b[0m\u001b[0mreshape\u001b[0m\u001b[1;33m(\u001b[0m\u001b[0mk_cat1\u001b[0m\u001b[1;33m,\u001b[0m \u001b[0mk_cat2\u001b[0m\u001b[1;33m)\u001b[0m\u001b[1;33m[\u001b[0m\u001b[1;33m:\u001b[0m\u001b[1;36m20\u001b[0m\u001b[1;33m,\u001b[0m \u001b[1;33m:\u001b[0m\u001b[1;36m20\u001b[0m\u001b[1;33m]\u001b[0m\u001b[1;33m\u001b[0m\u001b[0m\n\u001b[0m",
      "\u001b[1;31mValueError\u001b[0m: total size of new array must be unchanged"
     ]
    }
   ],
   "source": [
    "xcat2.reshape(k_cat1, k_cat2)[:20, :20]"
   ]
  },
  {
   "cell_type": "code",
   "execution_count": 13,
   "metadata": {
    "collapsed": false
   },
   "outputs": [
    {
     "ename": "ValueError",
     "evalue": "total size of new array must be unchanged",
     "output_type": "error",
     "traceback": [
      "\u001b[1;31m---------------------------------------------------------------------------\u001b[0m",
      "\u001b[1;31mValueError\u001b[0m                                Traceback (most recent call last)",
      "\u001b[1;32m<ipython-input-13-a497cc3ea3c9>\u001b[0m in \u001b[0;36m<module>\u001b[1;34m()\u001b[0m\n\u001b[1;32m----> 1\u001b[1;33m \u001b[0mxm\u001b[0m \u001b[1;33m=\u001b[0m \u001b[0mexog_dense\u001b[0m\u001b[1;33m[\u001b[0m\u001b[1;33m:\u001b[0m\u001b[1;33m,\u001b[0m\u001b[1;33m-\u001b[0m\u001b[1;36m1\u001b[0m\u001b[1;33m]\u001b[0m\u001b[1;33m.\u001b[0m\u001b[0mreshape\u001b[0m\u001b[1;33m(\u001b[0m\u001b[0mk_cat1\u001b[0m\u001b[1;33m,\u001b[0m \u001b[0mk_cat2\u001b[0m\u001b[1;33m)\u001b[0m\u001b[1;33m\u001b[0m\u001b[0m\n\u001b[0m",
      "\u001b[1;31mValueError\u001b[0m: total size of new array must be unchanged"
     ]
    }
   ],
   "source": [
    "xm = exog_dense[:,-1].reshape(k_cat1, k_cat2)"
   ]
  },
  {
   "cell_type": "code",
   "execution_count": 14,
   "metadata": {
    "collapsed": false
   },
   "outputs": [
    {
     "ename": "NameError",
     "evalue": "name 'xm' is not defined",
     "output_type": "error",
     "traceback": [
      "\u001b[1;31m---------------------------------------------------------------------------\u001b[0m",
      "\u001b[1;31mNameError\u001b[0m                                 Traceback (most recent call last)",
      "\u001b[1;32m<ipython-input-14-b30cbf593ab7>\u001b[0m in \u001b[0;36m<module>\u001b[1;34m()\u001b[0m\n\u001b[1;32m----> 1\u001b[1;33m \u001b[0mxm\u001b[0m \u001b[1;33m-=\u001b[0m \u001b[0mxm\u001b[0m\u001b[1;33m.\u001b[0m\u001b[0mmean\u001b[0m\u001b[1;33m(\u001b[0m\u001b[1;36m1\u001b[0m\u001b[1;33m)\u001b[0m\u001b[1;33m[\u001b[0m\u001b[1;33m:\u001b[0m\u001b[1;33m,\u001b[0m\u001b[1;32mNone\u001b[0m\u001b[1;33m]\u001b[0m\u001b[1;33m\u001b[0m\u001b[0m\n\u001b[0m\u001b[0;32m      2\u001b[0m \u001b[0mxm\u001b[0m \u001b[1;33m-=\u001b[0m \u001b[0mxm\u001b[0m\u001b[1;33m.\u001b[0m\u001b[0mmean\u001b[0m\u001b[1;33m(\u001b[0m\u001b[1;36m0\u001b[0m\u001b[1;33m)\u001b[0m\u001b[1;33m\u001b[0m\u001b[0m\n",
      "\u001b[1;31mNameError\u001b[0m: name 'xm' is not defined"
     ]
    }
   ],
   "source": [
    "xm -= xm.mean(1)[:,None]\n",
    "xm -= xm.mean(0)"
   ]
  },
  {
   "cell_type": "code",
   "execution_count": null,
   "metadata": {
    "collapsed": false
   },
   "outputs": [],
   "source": [
    "xm[:5, :5]"
   ]
  },
  {
   "cell_type": "code",
   "execution_count": null,
   "metadata": {
    "collapsed": false
   },
   "outputs": [],
   "source": [
    "res_absorb.model.exog[:20, -1]"
   ]
  },
  {
   "cell_type": "code",
   "execution_count": null,
   "metadata": {
    "collapsed": false
   },
   "outputs": [],
   "source": [
    "xm.ravel()[:20]"
   ]
  },
  {
   "cell_type": "code",
   "execution_count": null,
   "metadata": {
    "collapsed": false
   },
   "outputs": [],
   "source": [
    "np.max(np.abs(xm.ravel() - res_absorb.model.exog[:, -1]))"
   ]
  },
  {
   "cell_type": "code",
   "execution_count": null,
   "metadata": {
    "collapsed": false
   },
   "outputs": [],
   "source": [
    "(xm.ravel(), res_absorb.model.exog[:, -1])[:20]"
   ]
  },
  {
   "cell_type": "code",
   "execution_count": null,
   "metadata": {
    "collapsed": false
   },
   "outputs": [],
   "source": [
    "xm = exog_dense.reshape(-1, k_cat1, k_cat2)\n",
    "xm -= xm.mean(1, keepdims=True)\n",
    "xm -= xm.mean(2, keepdims=True)\n",
    "np.max(np.abs(xm.reshape(-1, exog_dense.shape[-1]) - res_absorb.model.exog))"
   ]
  },
  {
   "cell_type": "code",
   "execution_count": null,
   "metadata": {
    "collapsed": false
   },
   "outputs": [],
   "source": [
    "xm = exog_dense.reshape(-1, k_cat1, k_cat2)\n",
    "xm -= np.nanmean(xm, axis=1, keepdims=True)\n",
    "xm -= np.nanmean(xm, axis=2, keepdims=True)\n",
    "np.max(np.abs(xm.reshape(-1, exog_dense.shape[-1]) - res_absorb.model.exog))"
   ]
  },
  {
   "cell_type": "code",
   "execution_count": null,
   "metadata": {
    "collapsed": false
   },
   "outputs": [],
   "source": [
    "k_cat = (k_cat1, k_cat2)\n",
    "xm = exog_dense.reshape(-1, *k_cat)\n",
    "for axis in range(xm.ndim):\n",
    "    xm -= np.nanmean(xm, axis=axis, keepdims=True)\n",
    "np.max(np.abs(xm.reshape(-1, exog_dense.shape[-1]) - res_absorb.model.exog))"
   ]
  },
  {
   "cell_type": "code",
   "execution_count": 15,
   "metadata": {
    "collapsed": false
   },
   "outputs": [
    {
     "data": {
      "text/html": [
       "<div>\n",
       "<table border=\"1\" class=\"dataframe\">\n",
       "  <thead>\n",
       "    <tr style=\"text-align: right;\">\n",
       "      <th></th>\n",
       "      <th>A</th>\n",
       "      <th>B</th>\n",
       "      <th>C</th>\n",
       "    </tr>\n",
       "  </thead>\n",
       "  <tbody>\n",
       "    <tr>\n",
       "      <th>0</th>\n",
       "      <td>3</td>\n",
       "      <td>0.299347</td>\n",
       "      <td>0.412738</td>\n",
       "    </tr>\n",
       "    <tr>\n",
       "      <th>21</th>\n",
       "      <td>3</td>\n",
       "      <td>-0.063758</td>\n",
       "      <td>0.049633</td>\n",
       "    </tr>\n",
       "    <tr>\n",
       "      <th>26</th>\n",
       "      <td>3</td>\n",
       "      <td>-1.000889</td>\n",
       "      <td>-0.887498</td>\n",
       "    </tr>\n",
       "    <tr>\n",
       "      <th>28</th>\n",
       "      <td>3</td>\n",
       "      <td>0.159520</td>\n",
       "      <td>0.272911</td>\n",
       "    </tr>\n",
       "    <tr>\n",
       "      <th>30</th>\n",
       "      <td>3</td>\n",
       "      <td>0.028340</td>\n",
       "      <td>0.141731</td>\n",
       "    </tr>\n",
       "    <tr>\n",
       "      <th>32</th>\n",
       "      <td>3</td>\n",
       "      <td>-0.712358</td>\n",
       "      <td>-0.598967</td>\n",
       "    </tr>\n",
       "    <tr>\n",
       "      <th>51</th>\n",
       "      <td>3</td>\n",
       "      <td>-0.288721</td>\n",
       "      <td>-0.175330</td>\n",
       "    </tr>\n",
       "    <tr>\n",
       "      <th>60</th>\n",
       "      <td>3</td>\n",
       "      <td>0.418900</td>\n",
       "      <td>0.532291</td>\n",
       "    </tr>\n",
       "    <tr>\n",
       "      <th>99</th>\n",
       "      <td>3</td>\n",
       "      <td>0.139099</td>\n",
       "      <td>0.252490</td>\n",
       "    </tr>\n",
       "  </tbody>\n",
       "</table>\n",
       "</div>"
      ],
      "text/plain": [
       "    A         B         C\n",
       "0   3  0.299347  0.412738\n",
       "21  3 -0.063758  0.049633\n",
       "26  3 -1.000889 -0.887498\n",
       "28  3  0.159520  0.272911\n",
       "30  3  0.028340  0.141731\n",
       "32  3 -0.712358 -0.598967\n",
       "51  3 -0.288721 -0.175330\n",
       "60  3  0.418900  0.532291\n",
       "99  3  0.139099  0.252490"
      ]
     },
     "execution_count": 15,
     "metadata": {},
     "output_type": "execute_result"
    }
   ],
   "source": [
    "from pandas import DataFrame\n",
    "np.random.seed(1234)\n",
    "df = DataFrame({'A' : np.random.randint(0,10,size=100), 'B' : np.random.randn(100)})\n",
    "df['C'] = df['B'] - df.groupby('A')['B'].transform('mean')\n",
    "df.head()\n",
    "df[df.A==3]"
   ]
  },
  {
   "cell_type": "code",
   "execution_count": 16,
   "metadata": {
    "collapsed": false
   },
   "outputs": [
    {
     "data": {
      "text/plain": [
       "-0.11339119534010732"
      ]
     },
     "execution_count": 16,
     "metadata": {},
     "output_type": "execute_result"
    }
   ],
   "source": [
    "df[df.A==3].B.mean()"
   ]
  },
  {
   "cell_type": "code",
   "execution_count": 17,
   "metadata": {
    "collapsed": false
   },
   "outputs": [
    {
     "data": {
      "text/html": [
       "<div>\n",
       "<table border=\"1\" class=\"dataframe\">\n",
       "  <thead>\n",
       "    <tr style=\"text-align: right;\">\n",
       "      <th></th>\n",
       "      <th>A</th>\n",
       "      <th>B</th>\n",
       "      <th>C</th>\n",
       "    </tr>\n",
       "  </thead>\n",
       "  <tbody>\n",
       "    <tr>\n",
       "      <th>0</th>\n",
       "      <td>3</td>\n",
       "      <td>0.299347</td>\n",
       "      <td>0.412738</td>\n",
       "    </tr>\n",
       "    <tr>\n",
       "      <th>1</th>\n",
       "      <td>6</td>\n",
       "      <td>0.127277</td>\n",
       "      <td>0.161831</td>\n",
       "    </tr>\n",
       "    <tr>\n",
       "      <th>2</th>\n",
       "      <td>5</td>\n",
       "      <td>0.926190</td>\n",
       "      <td>0.838768</td>\n",
       "    </tr>\n",
       "    <tr>\n",
       "      <th>3</th>\n",
       "      <td>4</td>\n",
       "      <td>2.455240</td>\n",
       "      <td>1.855498</td>\n",
       "    </tr>\n",
       "    <tr>\n",
       "      <th>4</th>\n",
       "      <td>8</td>\n",
       "      <td>-0.320890</td>\n",
       "      <td>0.129203</td>\n",
       "    </tr>\n",
       "  </tbody>\n",
       "</table>\n",
       "</div>"
      ],
      "text/plain": [
       "   A         B         C\n",
       "0  3  0.299347  0.412738\n",
       "1  6  0.127277  0.161831\n",
       "2  5  0.926190  0.838768\n",
       "3  4  2.455240  1.855498\n",
       "4  8 -0.320890  0.129203"
      ]
     },
     "execution_count": 17,
     "metadata": {},
     "output_type": "execute_result"
    }
   ],
   "source": [
    "df.head()"
   ]
  },
  {
   "cell_type": "code",
   "execution_count": 18,
   "metadata": {
    "collapsed": false
   },
   "outputs": [
    {
     "data": {
      "text/html": [
       "<div>\n",
       "<table border=\"1\" class=\"dataframe\">\n",
       "  <thead>\n",
       "    <tr style=\"text-align: right;\">\n",
       "      <th></th>\n",
       "      <th>A</th>\n",
       "      <th>B</th>\n",
       "      <th>C</th>\n",
       "    </tr>\n",
       "  </thead>\n",
       "  <tbody>\n",
       "    <tr>\n",
       "      <th>0</th>\n",
       "      <td>3</td>\n",
       "      <td>0.412738</td>\n",
       "      <td>0.412738</td>\n",
       "    </tr>\n",
       "    <tr>\n",
       "      <th>1</th>\n",
       "      <td>6</td>\n",
       "      <td>0.161831</td>\n",
       "      <td>0.161831</td>\n",
       "    </tr>\n",
       "    <tr>\n",
       "      <th>2</th>\n",
       "      <td>5</td>\n",
       "      <td>0.838768</td>\n",
       "      <td>0.838768</td>\n",
       "    </tr>\n",
       "    <tr>\n",
       "      <th>3</th>\n",
       "      <td>4</td>\n",
       "      <td>1.855498</td>\n",
       "      <td>1.855498</td>\n",
       "    </tr>\n",
       "    <tr>\n",
       "      <th>4</th>\n",
       "      <td>8</td>\n",
       "      <td>0.129203</td>\n",
       "      <td>0.129203</td>\n",
       "    </tr>\n",
       "  </tbody>\n",
       "</table>\n",
       "</div>"
      ],
      "text/plain": [
       "   A         B         C\n",
       "0  3  0.412738  0.412738\n",
       "1  6  0.161831  0.161831\n",
       "2  5  0.838768  0.838768\n",
       "3  4  1.855498  1.855498\n",
       "4  8  0.129203  0.129203"
      ]
     },
     "execution_count": 18,
     "metadata": {},
     "output_type": "execute_result"
    }
   ],
   "source": [
    "df['B'] -= df.groupby('A')['B'].transform('mean')\n",
    "df.head()"
   ]
  },
  {
   "cell_type": "code",
   "execution_count": 19,
   "metadata": {
    "collapsed": false
   },
   "outputs": [
    {
     "data": {
      "text/plain": [
       "-6.1679056923619804e-18"
      ]
     },
     "execution_count": 19,
     "metadata": {},
     "output_type": "execute_result"
    }
   ],
   "source": [
    "np.random.seed(1234)\n",
    "df = DataFrame({'A' : np.random.randint(0,10,size=100), 'B' : np.random.randn(100), 'D' : np.random.randn(100)})\n",
    "df[['B', 'D']] -= df.groupby('A')[['B', 'D']].transform('mean')\n",
    "df[df.A==3].B.mean()"
   ]
  },
  {
   "cell_type": "code",
   "execution_count": 20,
   "metadata": {
    "collapsed": false
   },
   "outputs": [
    {
     "data": {
      "text/html": [
       "<div>\n",
       "<table border=\"1\" class=\"dataframe\">\n",
       "  <thead>\n",
       "    <tr style=\"text-align: right;\">\n",
       "      <th></th>\n",
       "      <th>A</th>\n",
       "      <th>B</th>\n",
       "      <th>D</th>\n",
       "    </tr>\n",
       "  </thead>\n",
       "  <tbody>\n",
       "    <tr>\n",
       "      <th>0</th>\n",
       "      <td>3</td>\n",
       "      <td>0.412738</td>\n",
       "      <td>-0.257500</td>\n",
       "    </tr>\n",
       "    <tr>\n",
       "      <th>21</th>\n",
       "      <td>3</td>\n",
       "      <td>0.049633</td>\n",
       "      <td>-0.613769</td>\n",
       "    </tr>\n",
       "    <tr>\n",
       "      <th>26</th>\n",
       "      <td>3</td>\n",
       "      <td>-0.887498</td>\n",
       "      <td>-0.414497</td>\n",
       "    </tr>\n",
       "    <tr>\n",
       "      <th>28</th>\n",
       "      <td>3</td>\n",
       "      <td>0.272911</td>\n",
       "      <td>1.268343</td>\n",
       "    </tr>\n",
       "    <tr>\n",
       "      <th>30</th>\n",
       "      <td>3</td>\n",
       "      <td>0.141731</td>\n",
       "      <td>-0.714718</td>\n",
       "    </tr>\n",
       "    <tr>\n",
       "      <th>32</th>\n",
       "      <td>3</td>\n",
       "      <td>-0.598967</td>\n",
       "      <td>0.549872</td>\n",
       "    </tr>\n",
       "    <tr>\n",
       "      <th>51</th>\n",
       "      <td>3</td>\n",
       "      <td>-0.175330</td>\n",
       "      <td>-0.013277</td>\n",
       "    </tr>\n",
       "    <tr>\n",
       "      <th>60</th>\n",
       "      <td>3</td>\n",
       "      <td>0.532291</td>\n",
       "      <td>1.490721</td>\n",
       "    </tr>\n",
       "    <tr>\n",
       "      <th>99</th>\n",
       "      <td>3</td>\n",
       "      <td>0.252490</td>\n",
       "      <td>-1.295175</td>\n",
       "    </tr>\n",
       "  </tbody>\n",
       "</table>\n",
       "</div>"
      ],
      "text/plain": [
       "    A         B         D\n",
       "0   3  0.412738 -0.257500\n",
       "21  3  0.049633 -0.613769\n",
       "26  3 -0.887498 -0.414497\n",
       "28  3  0.272911  1.268343\n",
       "30  3  0.141731 -0.714718\n",
       "32  3 -0.598967  0.549872\n",
       "51  3 -0.175330 -0.013277\n",
       "60  3  0.532291  1.490721\n",
       "99  3  0.252490 -1.295175"
      ]
     },
     "execution_count": 20,
     "metadata": {},
     "output_type": "execute_result"
    }
   ],
   "source": [
    "df[df.A==3]"
   ]
  },
  {
   "cell_type": "code",
   "execution_count": 21,
   "metadata": {
    "collapsed": false
   },
   "outputs": [
    {
     "data": {
      "text/plain": [
       "-6.1679056923619804e-18"
      ]
     },
     "execution_count": 21,
     "metadata": {},
     "output_type": "execute_result"
    }
   ],
   "source": [
    "np.random.seed(1234)\n",
    "df = DataFrame({'A' : np.random.randint(0,10,size=100), 'B' : np.random.randn(100), 'D' : np.random.randn(100)})\n",
    "df2 = df[['B', 'D']].copy()\n",
    "df2[df2.columns] -= df2.groupby(df['A'])[df2.columns].transform('mean')\n",
    "df2[df.A==3].B.mean()"
   ]
  },
  {
   "cell_type": "code",
   "execution_count": 22,
   "metadata": {
    "collapsed": false
   },
   "outputs": [
    {
     "data": {
      "text/plain": [
       "'0.17.0'"
      ]
     },
     "execution_count": 22,
     "metadata": {},
     "output_type": "execute_result"
    }
   ],
   "source": [
    "import pandas as pd\n",
    "pd.__version__"
   ]
  },
  {
   "cell_type": "code",
   "execution_count": 23,
   "metadata": {
    "collapsed": false
   },
   "outputs": [
    {
     "data": {
      "text/plain": [
       "array([  2.18292051e-12,   1.31658505e-08,   1.17322930e-08])"
      ]
     },
     "execution_count": 23,
     "metadata": {},
     "output_type": "execute_result"
    }
   ],
   "source": [
    "# with unbalanced panel\n",
    "\n",
    "k_cat = (k_cat1, k_cat2)\n",
    "xm = np.empty(exog_dense.shape[1:] + k_cat)\n",
    "xm.fill(np.nan)\n",
    "xm[:, xcat1, xcat2] = exog_dense.T\n",
    "for it in range(3):\n",
    "    for axis in range(1, xm.ndim):\n",
    "        xm = xm - np.nanmean(xm, axis=axis, keepdims=True)\n",
    "np.max(np.abs(xm.reshape(exog_dense.shape[-1], -1).T[keep] + exog_dense.mean(0) - res_absorb.model.wexog), axis=0)"
   ]
  },
  {
   "cell_type": "code",
   "execution_count": 24,
   "metadata": {
    "collapsed": false
   },
   "outputs": [
    {
     "data": {
      "text/plain": [
       "array([  1.00000000e+00,   5.41525565e-03,   2.46788810e-04])"
      ]
     },
     "execution_count": 24,
     "metadata": {},
     "output_type": "execute_result"
    }
   ],
   "source": [
    "np.mean(np.abs(xm.reshape(exog_dense.shape[-1], -1).T[keep] - res_absorb.model.wexog), axis=0)"
   ]
  },
  {
   "cell_type": "code",
   "execution_count": 25,
   "metadata": {
    "collapsed": false
   },
   "outputs": [
    {
     "data": {
      "text/plain": [
       "array([  1.00000000e+00,   5.41525565e-03,  -2.46788810e-04])"
      ]
     },
     "execution_count": 25,
     "metadata": {},
     "output_type": "execute_result"
    }
   ],
   "source": [
    "exog_dense.mean(0)"
   ]
  },
  {
   "cell_type": "code",
   "execution_count": 26,
   "metadata": {
    "collapsed": false
   },
   "outputs": [
    {
     "data": {
      "text/plain": [
       "(3, 500, 100)"
      ]
     },
     "execution_count": 26,
     "metadata": {},
     "output_type": "execute_result"
    }
   ],
   "source": [
    "xm.shape"
   ]
  },
  {
   "cell_type": "code",
   "execution_count": 27,
   "metadata": {
    "collapsed": false
   },
   "outputs": [
    {
     "data": {
      "text/plain": [
       "array([[ 1.26394181,  0.46584819,  0.17011328,  1.06900329,         nan],\n",
       "       [-1.02487023, -1.762962  , -1.52234638,  0.03682222,  0.99348826],\n",
       "       [-0.83472351,  0.69393611,  0.77325961,  0.36375427, -0.49617988],\n",
       "       [-2.28437002,         nan,  0.46866376,  0.33590589,  0.47699803],\n",
       "       [ 0.88806842,  0.2459097 ,  1.17683859, -0.12981495, -0.11435113]])"
      ]
     },
     "execution_count": 27,
     "metadata": {},
     "output_type": "execute_result"
    }
   ],
   "source": [
    "xm[2, :5, :5].T"
   ]
  },
  {
   "cell_type": "code",
   "execution_count": 28,
   "metadata": {
    "collapsed": false
   },
   "outputs": [
    {
     "data": {
      "text/plain": [
       "array([[ 0.        ,  0.0618275 ,  1.26394181],\n",
       "       [ 0.        ,  0.32023664, -1.02487023],\n",
       "       [ 0.        , -0.33022879, -0.83472351],\n",
       "       [ 0.        ,  1.56766166, -2.28437002],\n",
       "       [ 0.        ,  1.4179184 ,  0.88806842],\n",
       "       [ 0.        , -0.5359787 ,  0.14074843],\n",
       "       [ 0.        , -1.15966516, -0.74430016],\n",
       "       [ 0.        , -0.19365902,  0.69566126],\n",
       "       [ 0.        , -0.22343062,  1.4047113 ],\n",
       "       [ 0.        ,  0.96204049, -1.02748029],\n",
       "       [ 0.        , -0.30124072, -1.03084757],\n",
       "       [ 0.        , -0.75626532, -1.55046141],\n",
       "       [        nan,         nan,         nan],\n",
       "       [ 0.        ,  1.59802982,  2.00746502],\n",
       "       [        nan,         nan,         nan],\n",
       "       [ 0.        , -0.01003573, -1.92520494],\n",
       "       [ 0.        , -0.40861778, -0.56808069],\n",
       "       [ 0.        ,  0.58939296,  0.3435565 ],\n",
       "       [ 0.        , -1.75669705, -1.48613444],\n",
       "       [ 0.        ,  0.4545901 , -0.16261058],\n",
       "       [ 0.        , -0.51823586,  0.42770078],\n",
       "       [ 0.        ,  0.99553055,  0.95663055],\n",
       "       [ 0.        , -0.01472599, -0.09669268],\n",
       "       [ 0.        ,  0.83325512,  0.50576366],\n",
       "       [ 0.        , -0.70600765, -0.64713744],\n",
       "       [ 0.        ,  0.54489533,  0.21106958],\n",
       "       [ 0.        , -0.26145548,  0.42735781],\n",
       "       [ 0.        ,  0.46783368, -0.0284861 ],\n",
       "       [        nan,         nan,         nan],\n",
       "       [ 0.        , -0.80321617,  0.47863758],\n",
       "       [ 0.        ,  1.27549858, -0.2785596 ],\n",
       "       [ 0.        , -1.5807568 ,  1.6383275 ],\n",
       "       [ 0.        , -0.123598  ,  0.83123112],\n",
       "       [ 0.        ,  1.77151123,  0.68758591],\n",
       "       [ 0.        , -0.56441986,  0.78804046]])"
      ]
     },
     "execution_count": 28,
     "metadata": {},
     "output_type": "execute_result"
    }
   ],
   "source": [
    "xm.reshape(exog_dense.shape[-1], -1).T[:35]"
   ]
  },
  {
   "cell_type": "code",
   "execution_count": 29,
   "metadata": {
    "collapsed": false
   },
   "outputs": [
    {
     "data": {
      "text/plain": [
       "array([[ 1.        ,  0.06724276,  1.26369502],\n",
       "       [ 1.        ,  0.3256519 , -1.02511702],\n",
       "       [ 1.        , -0.32481353, -0.8349703 ],\n",
       "       [ 1.        ,  1.57307692, -2.2846168 ],\n",
       "       [ 1.        ,  1.42333365,  0.88782163]])"
      ]
     },
     "execution_count": 29,
     "metadata": {},
     "output_type": "execute_result"
    }
   ],
   "source": [
    "res_absorb.model.wexog[:5]"
   ]
  },
  {
   "cell_type": "code",
   "execution_count": 30,
   "metadata": {
    "collapsed": false
   },
   "outputs": [
    {
     "data": {
      "text/plain": [
       "array([[95, 95, 88, ..., 86, 91, 91],\n",
       "       [95, 95, 88, ..., 86, 91, 91],\n",
       "       [95, 95, 88, ..., 86, 91, 91]])"
      ]
     },
     "execution_count": 30,
     "metadata": {},
     "output_type": "execute_result"
    }
   ],
   "source": [
    "(1 - np.isnan(xm)).sum(2)"
   ]
  },
  {
   "cell_type": "code",
   "execution_count": 31,
   "metadata": {
    "collapsed": false
   },
   "outputs": [
    {
     "data": {
      "text/plain": [
       "array([ True,  True,  True,  True,  True,  True,  True,  True,  True,\n",
       "        True,  True,  True, False,  True, False,  True,  True,  True,\n",
       "        True,  True,  True,  True,  True,  True,  True], dtype=bool)"
      ]
     },
     "execution_count": 31,
     "metadata": {},
     "output_type": "execute_result"
    }
   ],
   "source": [
    "keep[:25]"
   ]
  },
  {
   "cell_type": "code",
   "execution_count": 32,
   "metadata": {
    "collapsed": false
   },
   "outputs": [
    {
     "data": {
      "text/plain": [
       "(44928, 3, 500, 100)"
      ]
     },
     "execution_count": 32,
     "metadata": {},
     "output_type": "execute_result"
    }
   ],
   "source": [
    "exog_dense.shape + k_cat"
   ]
  },
  {
   "cell_type": "code",
   "execution_count": null,
   "metadata": {
    "collapsed": true
   },
   "outputs": [],
   "source": []
  },
  {
   "cell_type": "code",
   "execution_count": 33,
   "metadata": {
    "collapsed": false
   },
   "outputs": [
    {
     "data": {
      "text/plain": [
       "(3, 500, 100)"
      ]
     },
     "execution_count": 33,
     "metadata": {},
     "output_type": "execute_result"
    }
   ],
   "source": [
    "xm.shape"
   ]
  },
  {
   "cell_type": "code",
   "execution_count": 34,
   "metadata": {
    "collapsed": false
   },
   "outputs": [
    {
     "data": {
      "text/plain": [
       "(3, 44928)"
      ]
     },
     "execution_count": 34,
     "metadata": {},
     "output_type": "execute_result"
    }
   ],
   "source": [
    "xm[:, xcat1, xcat2].shape"
   ]
  },
  {
   "cell_type": "code",
   "execution_count": 35,
   "metadata": {
    "collapsed": false
   },
   "outputs": [
    {
     "data": {
      "text/plain": [
       "(3, 500, 100)"
      ]
     },
     "execution_count": 35,
     "metadata": {},
     "output_type": "execute_result"
    }
   ],
   "source": [
    "xm.shape"
   ]
  },
  {
   "cell_type": "code",
   "execution_count": 36,
   "metadata": {
    "collapsed": false
   },
   "outputs": [
    {
     "data": {
      "text/plain": [
       "array([[ 1.26394181, -1.02487023, -0.83472351, -2.28437002,  0.88806842],\n",
       "       [ 0.46584819, -1.762962  ,  0.69393611,         nan,  0.2459097 ],\n",
       "       [ 0.17011328, -1.52234638,  0.77325961,  0.46866376,  1.17683859],\n",
       "       [ 1.06900329,  0.03682222,  0.36375427,  0.33590589, -0.12981495],\n",
       "       [        nan,  0.99348826, -0.49617988,  0.47699803, -0.11435113]])"
      ]
     },
     "execution_count": 36,
     "metadata": {},
     "output_type": "execute_result"
    }
   ],
   "source": [
    "xm[-1, :5,:5]"
   ]
  },
  {
   "cell_type": "code",
   "execution_count": 37,
   "metadata": {
    "collapsed": false
   },
   "outputs": [
    {
     "data": {
      "text/plain": [
       "array([[  0.,   0.,   0.],\n",
       "       [  0.,   0.,   0.],\n",
       "       [  0.,   0.,   0.],\n",
       "       [  0.,   0.,   0.],\n",
       "       [ nan,   0.,  nan],\n",
       "       [  0.,   0.,   0.],\n",
       "       [  0.,   0.,   0.],\n",
       "       [  0.,   0.,   0.],\n",
       "       [  0.,   0.,   0.],\n",
       "       [  0.,  nan,   0.],\n",
       "       [  0.,   0.,   0.],\n",
       "       [  0.,   0.,   0.],\n",
       "       [  0.,   0.,   0.],\n",
       "       [  0.,   0.,   0.],\n",
       "       [  0.,   0.,   0.]])"
      ]
     },
     "execution_count": 37,
     "metadata": {},
     "output_type": "execute_result"
    }
   ],
   "source": [
    "xm.reshape(-1, exog_dense.shape[-1])[:15]\n"
   ]
  },
  {
   "cell_type": "code",
   "execution_count": null,
   "metadata": {
    "collapsed": true
   },
   "outputs": [],
   "source": []
  },
  {
   "cell_type": "code",
   "execution_count": 38,
   "metadata": {
    "collapsed": false
   },
   "outputs": [
    {
     "data": {
      "text/plain": [
       "array([ True,  True,  True,  True,  True,  True,  True,  True,  True,\n",
       "        True,  True,  True, False,  True, False], dtype=bool)"
      ]
     },
     "execution_count": 38,
     "metadata": {},
     "output_type": "execute_result"
    }
   ],
   "source": [
    "keep[:15]"
   ]
  },
  {
   "cell_type": "code",
   "execution_count": 39,
   "metadata": {
    "collapsed": false
   },
   "outputs": [
    {
     "data": {
      "text/plain": [
       "array([[ 1.        ,  0.12715784,  1.40189088],\n",
       "       [ 1.        ,  0.31481499, -0.85844916],\n",
       "       [ 1.        , -0.26613444, -0.64890071],\n",
       "       [ 1.        ,  1.56626757, -2.09137019],\n",
       "       [ 1.        ,  1.45632806,  0.94529342],\n",
       "       [ 1.        , -0.40020119,  0.3152273 ],\n",
       "       [ 1.        , -1.11006083, -0.58482153],\n",
       "       [ 1.        , -0.18840956,  0.81302365],\n",
       "       [ 1.        , -0.16130472,  1.60087155],\n",
       "       [ 1.        ,  0.98434258, -0.83544737],\n",
       "       [ 1.        , -0.18664934, -0.85806707],\n",
       "       [ 1.        , -0.75977816, -1.51205424],\n",
       "       [ 1.        ,  1.74777474,  2.13005498],\n",
       "       [ 1.        ,  0.07115422, -1.84164224],\n",
       "       [ 1.        , -0.3525907 , -0.40890379]])"
      ]
     },
     "execution_count": 39,
     "metadata": {},
     "output_type": "execute_result"
    }
   ],
   "source": [
    "res_absorb.model.exog[:15]"
   ]
  },
  {
   "cell_type": "code",
   "execution_count": 40,
   "metadata": {
    "collapsed": false
   },
   "outputs": [
    {
     "data": {
      "text/plain": [
       "5072"
      ]
     },
     "execution_count": 40,
     "metadata": {},
     "output_type": "execute_result"
    }
   ],
   "source": [
    "(1-keep).sum()"
   ]
  },
  {
   "cell_type": "code",
   "execution_count": 41,
   "metadata": {
    "collapsed": false
   },
   "outputs": [
    {
     "data": {
      "text/plain": [
       "(50000,)"
      ]
     },
     "execution_count": 41,
     "metadata": {},
     "output_type": "execute_result"
    }
   ],
   "source": [
    "keep.shape"
   ]
  },
  {
   "cell_type": "code",
   "execution_count": 42,
   "metadata": {
    "collapsed": true
   },
   "outputs": [],
   "source": [
    "k_cat = (k_cat1, k_cat2)\n",
    "xm = np.empty(exog_dense.shape[1:] + k_cat)\n",
    "xm.fill(np.nan)\n",
    "xm2 = xm.copy()\n",
    "xm[:, xcat1, xcat2] = exog_dense.T\n",
    "xm2[2, xcat1, xcat2] = exog_dense[:, 2]"
   ]
  },
  {
   "cell_type": "code",
   "execution_count": 43,
   "metadata": {
    "collapsed": false
   },
   "outputs": [
    {
     "data": {
      "text/plain": [
       "array([[[ 1.        ,  1.        ,  1.        ,  1.        ,  1.        ],\n",
       "        [ 1.        ,  1.        ,  1.        ,         nan,  1.        ],\n",
       "        [ 1.        ,  1.        ,  1.        ,  1.        ,  1.        ],\n",
       "        [ 1.        ,  1.        ,  1.        ,  1.        ,  1.        ],\n",
       "        [        nan,  1.        ,  1.        ,  1.        ,  1.        ]],\n",
       "\n",
       "       [[ 0.12715784,  0.31481499, -0.26613444,  1.56626757,  1.45632806],\n",
       "        [ 0.77265645,  0.76373973,  0.79221509,         nan,  0.27631403],\n",
       "        [ 0.03066691, -0.47453864,  1.77630876, -1.21232846, -0.99585271],\n",
       "        [ 0.97388496, -0.48073742,  0.42265325, -1.02174976,  0.41540718],\n",
       "        [        nan,  0.37263869,  1.26175176, -0.32165036, -0.46199352]],\n",
       "\n",
       "       [[ 1.40189088, -0.85844916, -0.64890071, -2.09137019,  0.94529342],\n",
       "        [ 0.29786262, -1.90247557,  0.57382427,         nan, -0.00279995],\n",
       "        [ 0.07698096, -1.5870067 ,  0.72800102,  0.43058219,  1.00298219],\n",
       "        [ 1.09573095,  0.09202187,  0.43835566,  0.4176843 , -0.18381137],\n",
       "        [        nan,  1.05032622, -0.41994018,  0.56041475, -0.16670924]]])"
      ]
     },
     "execution_count": 43,
     "metadata": {},
     "output_type": "execute_result"
    }
   ],
   "source": [
    "xm[:, :5, :5]"
   ]
  },
  {
   "cell_type": "code",
   "execution_count": 44,
   "metadata": {
    "collapsed": false
   },
   "outputs": [
    {
     "data": {
      "text/plain": [
       "array([12, 14, 28, 70, 80], dtype=int64)"
      ]
     },
     "execution_count": 44,
     "metadata": {},
     "output_type": "execute_result"
    }
   ],
   "source": [
    "np.nonzero(np.isnan(xm[2, :, :].ravel()))[0][:5]"
   ]
  },
  {
   "cell_type": "code",
   "execution_count": 45,
   "metadata": {
    "collapsed": false
   },
   "outputs": [
    {
     "data": {
      "text/plain": [
       "array([ 1.40189088, -0.85844916, -0.64890071, -2.09137019,  0.94529342,\n",
       "        0.3152273 , -0.58482153,  0.81302365,  1.60087155, -0.83544737,\n",
       "       -0.85806707, -1.51205424,  2.13005498, -1.84164224, -0.40890379])"
      ]
     },
     "execution_count": 45,
     "metadata": {},
     "output_type": "execute_result"
    }
   ],
   "source": [
    "exog_dense[:15, 2]"
   ]
  },
  {
   "cell_type": "code",
   "execution_count": 46,
   "metadata": {
    "collapsed": false
   },
   "outputs": [
    {
     "data": {
      "text/plain": [
       "array([ 1.06431957, -0.45038494,  0.15887889,  1.73184946,  0.67221779,\n",
       "        1.30466212,  0.10767882, -0.7530067 ,  0.22635772,  0.46991989,\n",
       "       -0.26436464,  1.16655405,  1.36775412,  0.13920489,  1.42370617])"
      ]
     },
     "execution_count": 46,
     "metadata": {},
     "output_type": "execute_result"
    }
   ],
   "source": [
    "exog_dense[500:515, 2]"
   ]
  },
  {
   "cell_type": "code",
   "execution_count": 47,
   "metadata": {
    "collapsed": false
   },
   "outputs": [
    {
     "data": {
      "text/plain": [
       "array([[ 1.        ,  0.03066691,  0.07698096],\n",
       "       [ 1.        , -0.47453864, -1.5870067 ],\n",
       "       [ 1.        ,  1.77630876,  0.72800102],\n",
       "       [ 1.        , -1.21232846,  0.43058219],\n",
       "       [ 1.        , -0.99585271,  1.00298219]])"
      ]
     },
     "execution_count": 47,
     "metadata": {},
     "output_type": "execute_result"
    }
   ],
   "source": [
    "exog_dense[xcat1 == 2][:5]"
   ]
  },
  {
   "cell_type": "code",
   "execution_count": 48,
   "metadata": {
    "collapsed": false
   },
   "outputs": [
    {
     "data": {
      "text/plain": [
       "array([[[ 1.        ],\n",
       "        [ 1.        ],\n",
       "        [ 1.        ],\n",
       "        ..., \n",
       "        [ 1.        ],\n",
       "        [ 1.        ],\n",
       "        [ 1.        ]],\n",
       "\n",
       "       [[ 0.03411261],\n",
       "        [-0.18137585],\n",
       "        [ 0.01521646],\n",
       "        ..., \n",
       "        [-0.10891095],\n",
       "        [ 0.06244571],\n",
       "        [-0.02150389]],\n",
       "\n",
       "       [[ 0.1407578 ],\n",
       "        [-0.16312331],\n",
       "        [-0.08665161],\n",
       "        ..., \n",
       "        [-0.16764642],\n",
       "        [-0.14435056],\n",
       "        [ 0.18666585]]])"
      ]
     },
     "execution_count": 48,
     "metadata": {},
     "output_type": "execute_result"
    }
   ],
   "source": [
    "np.nanmean(xm, axis=axis, keepdims=True)[:10]"
   ]
  },
  {
   "cell_type": "code",
   "execution_count": 49,
   "metadata": {
    "collapsed": false
   },
   "outputs": [
    {
     "data": {
      "text/plain": [
       "array([ 0,  1,  2,  3,  4,  5,  6,  7,  8,  9, 10, 11, 13, 15, 16, 17, 18,\n",
       "       19, 20, 21])"
      ]
     },
     "execution_count": 49,
     "metadata": {},
     "output_type": "execute_result"
    }
   ],
   "source": [
    "xcat2[:20]"
   ]
  },
  {
   "cell_type": "code",
   "execution_count": 50,
   "metadata": {
    "collapsed": false
   },
   "outputs": [
    {
     "data": {
      "text/plain": [
       "array([12, 14, 28, 70, 80], dtype=int64)"
      ]
     },
     "execution_count": 50,
     "metadata": {},
     "output_type": "execute_result"
    }
   ],
   "source": [
    "np.nonzero(1 - keep)[0][:5]"
   ]
  },
  {
   "cell_type": "code",
   "execution_count": 51,
   "metadata": {
    "collapsed": false
   },
   "outputs": [
    {
     "data": {
      "text/plain": [
       "array([[ 0,  0],\n",
       "       [ 0,  1],\n",
       "       [ 0,  2],\n",
       "       [ 0,  3],\n",
       "       [ 0,  4],\n",
       "       [ 0,  5],\n",
       "       [ 0,  6],\n",
       "       [ 0,  7],\n",
       "       [ 0,  8],\n",
       "       [ 0,  9],\n",
       "       [ 0, 10],\n",
       "       [ 0, 11],\n",
       "       [ 0, 13],\n",
       "       [ 0, 15],\n",
       "       [ 0, 16],\n",
       "       [ 0, 17],\n",
       "       [ 0, 18],\n",
       "       [ 0, 19],\n",
       "       [ 0, 20],\n",
       "       [ 0, 21],\n",
       "       [ 0, 22],\n",
       "       [ 0, 23],\n",
       "       [ 0, 24],\n",
       "       [ 0, 25],\n",
       "       [ 0, 26],\n",
       "       [ 0, 27],\n",
       "       [ 0, 29],\n",
       "       [ 0, 30],\n",
       "       [ 0, 31],\n",
       "       [ 0, 32],\n",
       "       [ 0, 33],\n",
       "       [ 0, 34],\n",
       "       [ 0, 35],\n",
       "       [ 0, 36],\n",
       "       [ 0, 37]])"
      ]
     },
     "execution_count": 51,
     "metadata": {},
     "output_type": "execute_result"
    }
   ],
   "source": [
    "exog_absorb[:35]"
   ]
  },
  {
   "cell_type": "code",
   "execution_count": 52,
   "metadata": {
    "collapsed": false
   },
   "outputs": [
    {
     "data": {
      "text/plain": [
       "array([[ 1.40189088, -0.85844916, -0.64890071, -2.09137019,  0.94529342],\n",
       "       [ 0.29786262, -1.90247557,  0.57382427,         nan, -0.00279995],\n",
       "       [ 0.07698096, -1.5870067 ,  0.72800102,  0.43058219,  1.00298219],\n",
       "       [ 1.09573095,  0.09202187,  0.43835566,  0.4176843 , -0.18381137],\n",
       "       [        nan,  1.05032622, -0.41994018,  0.56041475, -0.16670924]])"
      ]
     },
     "execution_count": 52,
     "metadata": {},
     "output_type": "execute_result"
    }
   ],
   "source": [
    "xm[2, :5, :5]"
   ]
  },
  {
   "cell_type": "code",
   "execution_count": 53,
   "metadata": {
    "collapsed": false
   },
   "outputs": [
    {
     "data": {
      "text/plain": [
       "array([[-0.00617544,  0.02179778,  0.04245469,  0.05077307, -0.08571387]])"
      ]
     },
     "execution_count": 53,
     "metadata": {},
     "output_type": "execute_result"
    }
   ],
   "source": [
    "np.nanmean(xm2[2, :,:], axis=0, keepdims=True)[:, :5]"
   ]
  },
  {
   "cell_type": "code",
   "execution_count": 54,
   "metadata": {
    "collapsed": false
   },
   "outputs": [
    {
     "data": {
      "text/plain": [
       "0.042454688732928542"
      ]
     },
     "execution_count": 54,
     "metadata": {},
     "output_type": "execute_result"
    }
   ],
   "source": [
    "exog_dense[xcat2 == 2, 2].mean()"
   ]
  },
  {
   "cell_type": "code",
   "execution_count": 55,
   "metadata": {
    "collapsed": false
   },
   "outputs": [
    {
     "data": {
      "text/plain": [
       "(500, 100)"
      ]
     },
     "execution_count": 55,
     "metadata": {},
     "output_type": "execute_result"
    }
   ],
   "source": [
    "k_cat\n"
   ]
  },
  {
   "cell_type": "code",
   "execution_count": 56,
   "metadata": {
    "collapsed": false
   },
   "outputs": [
    {
     "data": {
      "text/plain": [
       "False"
      ]
     },
     "execution_count": 56,
     "metadata": {},
     "output_type": "execute_result"
    }
   ],
   "source": [
    "np.isnan(xm[2, :, :].ravel()[keep]).any()"
   ]
  },
  {
   "cell_type": "code",
   "execution_count": 57,
   "metadata": {
    "collapsed": false
   },
   "outputs": [
    {
     "data": {
      "text/plain": [
       "(44928, 3)"
      ]
     },
     "execution_count": 57,
     "metadata": {},
     "output_type": "execute_result"
    }
   ],
   "source": [
    "exog_dense.shape"
   ]
  },
  {
   "cell_type": "code",
   "execution_count": 58,
   "metadata": {
    "collapsed": false
   },
   "outputs": [
    {
     "data": {
      "text/plain": [
       "(500, 100)"
      ]
     },
     "execution_count": 58,
     "metadata": {},
     "output_type": "execute_result"
    }
   ],
   "source": [
    "(xm2[2, :,:] - np.nanmean(xm2[2, :,:], axis=0, keepdims=True)).shape"
   ]
  },
  {
   "cell_type": "code",
   "execution_count": 59,
   "metadata": {
    "collapsed": false
   },
   "outputs": [
    {
     "data": {
      "text/plain": [
       "((3, 500, 100), 3)"
      ]
     },
     "execution_count": 59,
     "metadata": {},
     "output_type": "execute_result"
    }
   ],
   "source": [
    "def _group_demean_iterative(exog_dense, groups, add_mean=True, max_iter=10, atol=1e-8, get_groupmeans=False):\n",
    "    \"\"\"iteratively demean an array for two-way fixed effects\n",
    "    \n",
    "    This is intended for almost balanced panels. The data is converted\n",
    "    to a 3-dimensional array with nans for missing cells.\n",
    "    \n",
    "    currently works only for two-way effects\n",
    "    groups have to be integers corresponding to range(k_cati)\n",
    "    \n",
    "    no input error checking\n",
    "    \n",
    "    This function will change as more options and special cases are\n",
    "    included.\n",
    "    \n",
    "    Parameters\n",
    "    ----------\n",
    "    exog_dense : 2d ndarray\n",
    "        data with observations in rows and variables in columns.\n",
    "        This array will currently not be modified.\n",
    "    groups : 2d ndarray, int\n",
    "        groups labels specified as consecutive integers starting at zero\n",
    "    max_iter : int\n",
    "        maximum number of iterations\n",
    "    atol : float\n",
    "        tolerance for convergence. Convergence is achieved if the\n",
    "        maximum absolute change (np.ptp) is smaller than atol.\n",
    "        \n",
    "    Returns\n",
    "    -------\n",
    "    ex_dm_w : ndarray\n",
    "        group demeaned exog_dense array in wide format\n",
    "    ex_dm : ndarray\n",
    "        group demeaned exog_dense array in long format\n",
    "    it : int\n",
    "        number of iterations used. If convergence has not been\n",
    "        achieved then it will be equal to max_iter - 1\n",
    "    \n",
    "    \"\"\"\n",
    "    # with unbalanced panel\n",
    "\n",
    "    k_cat = tuple((groups.max(0) + 1).tolist())\n",
    "    xm = np.empty(exog_dense.shape[1:] + k_cat)\n",
    "    xm.fill(np.nan)\n",
    "    xm[:, groups[:, 0], groups[:, 1]] = exog_dense.T\n",
    "    # for final group means\n",
    "    gmean = []\n",
    "    if get_groupmeans:\n",
    "        gmean = [np.nanmean(xm, axis=axis) for axis in range(len(k_cat))]\n",
    "    keep = ~np.isnan(xm[0]).ravel()\n",
    "    finished = False\n",
    "    for it in range(max_iter):\n",
    "        for axis in range(1, xm.ndim):\n",
    "            group_mean = np.nanmean(xm, axis=axis, keepdims=True)\n",
    "            xm -= group_mean\n",
    "            if np.ptp(group_mean) < atol:\n",
    "                finished = True\n",
    "                break\n",
    "        if finished:\n",
    "            break\n",
    "    \n",
    "    xd = xm.reshape(exog_dense.shape[-1], -1).T[keep]\n",
    "    if add_mean:\n",
    "        xmean = exog_dense.mean(0)\n",
    "        xd += xmean\n",
    "        xm += xmean[:, None, None]\n",
    "    return xm, xd, it\n",
    "\n",
    "xm, xd, it = _group_demean_iterative(exog_dense, exog_absorb, max_iter=50, add_mean=False)\n",
    "xm.shape, it"
   ]
  },
  {
   "cell_type": "code",
   "execution_count": 60,
   "metadata": {
    "collapsed": false
   },
   "outputs": [
    {
     "data": {
      "text/plain": [
       "array([  2.18292051e-12,   2.44853027e-11,   2.45419240e-11])"
      ]
     },
     "execution_count": 60,
     "metadata": {},
     "output_type": "execute_result"
    }
   ],
   "source": [
    "np.max(np.abs(xm.reshape(exog_dense.shape[-1], -1).T[keep] + exog_dense.mean(0) - res_absorb.model.wexog), axis=0)"
   ]
  },
  {
   "cell_type": "code",
   "execution_count": 61,
   "metadata": {
    "collapsed": false
   },
   "outputs": [
    {
     "data": {
      "text/plain": [
       "array([  2.18292051e-12,   2.44853027e-11,   2.45419240e-11])"
      ]
     },
     "execution_count": 61,
     "metadata": {},
     "output_type": "execute_result"
    }
   ],
   "source": [
    "np.max(np.abs(xd + exog_dense.mean(0) - res_absorb.model.wexog), axis=0)"
   ]
  },
  {
   "cell_type": "code",
   "execution_count": 62,
   "metadata": {
    "collapsed": false
   },
   "outputs": [
    {
     "data": {
      "text/plain": [
       "array([  2.18292051e-12,   2.44853027e-11,   2.45419240e-11])"
      ]
     },
     "execution_count": 62,
     "metadata": {},
     "output_type": "execute_result"
    }
   ],
   "source": [
    "xm, xd, it = _group_demean_iterative(exog_dense, exog_absorb, max_iter=50, add_mean=True)\n",
    "np.max(np.abs(xd - res_absorb.model.wexog), axis=0)"
   ]
  },
  {
   "cell_type": "code",
   "execution_count": 63,
   "metadata": {
    "collapsed": false
   },
   "outputs": [
    {
     "data": {
      "text/plain": [
       "(44928, 3)"
      ]
     },
     "execution_count": 63,
     "metadata": {},
     "output_type": "execute_result"
    }
   ],
   "source": [
    "xd.shape"
   ]
  },
  {
   "cell_type": "code",
   "execution_count": 64,
   "metadata": {
    "collapsed": true
   },
   "outputs": [],
   "source": [
    "ym, yd, it = _group_demean_iterative(y[:,None], exog_absorb, max_iter=50, add_mean=True)"
   ]
  },
  {
   "cell_type": "code",
   "execution_count": 65,
   "metadata": {
    "collapsed": true
   },
   "outputs": [],
   "source": [
    "mod_ols2 = OLS(yd, xd)\n",
    "ddof = k_cat1 + k_cat2 - 2\n",
    "mod_ols2.df_resid = mod_ols2.df_resid - ddof\n",
    "mod_ols2.df_model = mod_ols2.df_model + ddof\n",
    "res_ols2 = mod_ols2.fit()"
   ]
  },
  {
   "cell_type": "code",
   "execution_count": 66,
   "metadata": {
    "collapsed": false
   },
   "outputs": [
    {
     "data": {
      "text/plain": [
       "array([ 1.06568984,  0.99998518,  0.99991756])"
      ]
     },
     "execution_count": 66,
     "metadata": {},
     "output_type": "execute_result"
    }
   ],
   "source": [
    "res_ols2.params\n"
   ]
  },
  {
   "cell_type": "code",
   "execution_count": 67,
   "metadata": {
    "collapsed": false
   },
   "outputs": [
    {
     "data": {
      "text/plain": [
       "array([ 1.06568984,  0.99998518,  0.99991756])"
      ]
     },
     "execution_count": 67,
     "metadata": {},
     "output_type": "execute_result"
    }
   ],
   "source": [
    "res_absorb.params"
   ]
  },
  {
   "cell_type": "code",
   "execution_count": 68,
   "metadata": {
    "collapsed": false
   },
   "outputs": [
    {
     "data": {
      "text/plain": [
       "array([  4.70042741e-05,   4.72122565e-05,   4.75344441e-05])"
      ]
     },
     "execution_count": 68,
     "metadata": {},
     "output_type": "execute_result"
    }
   ],
   "source": [
    "res_ols2.bse"
   ]
  },
  {
   "cell_type": "code",
   "execution_count": 69,
   "metadata": {
    "collapsed": false
   },
   "outputs": [
    {
     "data": {
      "text/plain": [
       "array([  4.70042741e-05,   4.72122565e-05,   4.75344441e-05])"
      ]
     },
     "execution_count": 69,
     "metadata": {},
     "output_type": "execute_result"
    }
   ],
   "source": [
    "res_absorb.bse"
   ]
  },
  {
   "cell_type": "code",
   "execution_count": 70,
   "metadata": {
    "collapsed": false
   },
   "outputs": [
    {
     "data": {
      "text/plain": [
       "array([ 1.,  1.,  1.])"
      ]
     },
     "execution_count": 70,
     "metadata": {},
     "output_type": "execute_result"
    }
   ],
   "source": [
    "res_ols2.bse / res_absorb.bse"
   ]
  },
  {
   "cell_type": "code",
   "execution_count": 71,
   "metadata": {
    "collapsed": false
   },
   "outputs": [
    {
     "data": {
      "text/plain": [
       "598"
      ]
     },
     "execution_count": 71,
     "metadata": {},
     "output_type": "execute_result"
    }
   ],
   "source": [
    "ddof"
   ]
  },
  {
   "cell_type": "code",
   "execution_count": 72,
   "metadata": {
    "collapsed": false
   },
   "outputs": [
    {
     "data": {
      "text/plain": [
       "(44327.0, 44327.0, 600.0, 600.0)"
      ]
     },
     "execution_count": 72,
     "metadata": {},
     "output_type": "execute_result"
    }
   ],
   "source": [
    "res_ols2.df_resid, res_absorb.df_resid, res_ols2.df_model, res_absorb.df_model"
   ]
  },
  {
   "cell_type": "code",
   "execution_count": 73,
   "metadata": {
    "collapsed": false
   },
   "outputs": [
    {
     "name": "stdout",
     "output_type": "stream",
     "text": [
      "                            OLS Regression Results                            \n",
      "==============================================================================\n",
      "Dep. Variable:                      y   R-squared:                       1.000\n",
      "Model:                            OLS   Adj. R-squared:                  1.000\n",
      "Method:                 Least Squares   F-statistic:                 1.484e+06\n",
      "Date:                Sun, 03 Apr 2016   Prob (F-statistic):               0.00\n",
      "Time:                        16:01:10   Log-Likelihood:             1.4362e+05\n",
      "No. Observations:               44928   AIC:                        -2.860e+05\n",
      "Df Residuals:                   44327   BIC:                        -2.808e+05\n",
      "Df Model:                         600                                         \n",
      "Covariance Type:            nonrobust                                         \n",
      "==============================================================================\n",
      "                 coef    std err          t      P>|t|      [0.025      0.975]\n",
      "------------------------------------------------------------------------------\n",
      "const          1.0657    4.7e-05   2.27e+04      0.000       1.066       1.066\n",
      "x1             1.0000   4.72e-05   2.12e+04      0.000       1.000       1.000\n",
      "x2             0.9999   4.75e-05    2.1e+04      0.000       1.000       1.000\n",
      "==============================================================================\n",
      "Omnibus:                        1.061   Durbin-Watson:                   2.026\n",
      "Prob(Omnibus):                  0.588   Jarque-Bera (JB):                1.047\n",
      "Skew:                          -0.005   Prob(JB):                        0.592\n",
      "Kurtosis:                       3.022   Cond. No.                         1.01\n",
      "==============================================================================\n",
      "\n",
      "Warnings:\n",
      "[1] Standard Errors assume that the covariance matrix of the errors is correctly specified.\n"
     ]
    }
   ],
   "source": [
    "print(res_ols2.summary())"
   ]
  },
  {
   "cell_type": "code",
   "execution_count": 74,
   "metadata": {
    "collapsed": false
   },
   "outputs": [
    {
     "name": "stdout",
     "output_type": "stream",
     "text": [
      "                         OLSAbsorb Regression Results                         \n",
      "==============================================================================\n",
      "Dep. Variable:                      y   R-squared:                       1.000\n",
      "Model:                      OLSAbsorb   Adj. R-squared:                  1.000\n",
      "Method:                 Least Squares   F-statistic:                 1.517e+06\n",
      "Date:                Sun, 03 Apr 2016   Prob (F-statistic):               0.00\n",
      "Time:                        16:01:10   Log-Likelihood:             1.4362e+05\n",
      "No. Observations:               44928   AIC:                        -2.860e+05\n",
      "Df Residuals:                   44327   BIC:                        -2.808e+05\n",
      "Df Model:                         600                                         \n",
      "Covariance Type:            nonrobust                                         \n",
      "==============================================================================\n",
      "                 coef    std err          t      P>|t|      [0.025      0.975]\n",
      "------------------------------------------------------------------------------\n",
      "const          1.0657    4.7e-05   2.27e+04      0.000       1.066       1.066\n",
      "x1             1.0000   4.72e-05   2.12e+04      0.000       1.000       1.000\n",
      "x2             0.9999   4.75e-05    2.1e+04      0.000       1.000       1.000\n",
      "==============================================================================\n",
      "Omnibus:                        1.061   Durbin-Watson:                   2.026\n",
      "Prob(Omnibus):                  0.588   Jarque-Bera (JB):                1.047\n",
      "Skew:                          -0.005   Prob(JB):                        0.592\n",
      "Kurtosis:                       3.022   Cond. No.                         1.01\n",
      "==============================================================================\n",
      "\n",
      "Warnings:\n",
      "[1] Standard Errors assume that the covariance matrix of the errors is correctly specified.\n"
     ]
    }
   ],
   "source": [
    "print(res_absorb.summary())"
   ]
  },
  {
   "cell_type": "code",
   "execution_count": 75,
   "metadata": {
    "collapsed": false
   },
   "outputs": [
    {
     "data": {
      "text/plain": [
       "False"
      ]
     },
     "execution_count": 75,
     "metadata": {},
     "output_type": "execute_result"
    }
   ],
   "source": [
    "xx = np.array((1e4, 10))\n",
    "dfxx = pd.DataFrame(xx)\n",
    "dfxx.values.base is xx.base"
   ]
  },
  {
   "cell_type": "code",
   "execution_count": null,
   "metadata": {
    "collapsed": true
   },
   "outputs": [],
   "source": []
  }
 ],
 "metadata": {
  "kernelspec": {
   "display_name": "Python 3",
   "language": "python",
   "name": "python3"
  },
  "language_info": {
   "codemirror_mode": {
    "name": "ipython",
    "version": 3
   },
   "file_extension": ".py",
   "mimetype": "text/x-python",
   "name": "python",
   "nbconvert_exporter": "python",
   "pygments_lexer": "ipython3",
   "version": "3.4.3"
  }
 },
 "nbformat": 4,
 "nbformat_minor": 0
}
