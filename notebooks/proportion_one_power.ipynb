{
 "cells": [
  {
   "cell_type": "markdown",
   "metadata": {},
   "source": [
    "# One proportion: Hypothesis Tests, Sample Size and Power"
   ]
  },
  {
   "cell_type": "markdown",
   "metadata": {},
   "source": [
    "This is a experimental notebook to try to organize various parts for hypothesis tests and related methods.\n",
    "\n",
    "This should roughly include the following\n",
    "\n",
    "- given a sample\n",
    "  - estimate parameter or effect size\n",
    "  - hypothesis test given Null and Alternative\n",
    "  - confidence interval\n",
    "\n",
    "- prospective or evaluative\n",
    "  - size of test and power\n",
    "  - sample size required\n",
    "\n",
    "- sensitivity to misspecification\n",
    "  - bias of estimate and of estimated variance\n",
    "  - size and power of hypothesis tests\n"
   ]
  },
  {
   "cell_type": "code",
   "execution_count": 1,
   "metadata": {
    "collapsed": false
   },
   "outputs": [],
   "source": [
    "from __future__ import division   # for py2 compatibility, I'm using Python 3.4\n",
    "import numpy as np\n",
    "from scipy import stats\n",
    "import statsmodels.stats.proportion as smprop\n",
    "import statsmodels.stats.power as smpow\n",
    "\n",
    "import pandas as pd # to store results with labels"
   ]
  },
  {
   "cell_type": "code",
   "execution_count": 2,
   "metadata": {
    "collapsed": true
   },
   "outputs": [],
   "source": [
    "%matplotlib inline"
   ]
  },
  {
   "cell_type": "markdown",
   "metadata": {},
   "source": [
    "## Sample"
   ]
  },
  {
   "cell_type": "code",
   "execution_count": 3,
   "metadata": {
    "collapsed": false
   },
   "outputs": [],
   "source": [
    "p_true = 0.3\n",
    "nobs = 30\n",
    "p_null = p_true\n",
    "\n",
    "#y = np.random.binomial(nobs, p_true)\n",
    "y = 7"
   ]
  },
  {
   "cell_type": "markdown",
   "metadata": {},
   "source": [
    "Assume we have observed 7 events in a sample of size 30. What are our estimates, confidence interval, and test whether the true proportion = 0.3."
   ]
  },
  {
   "cell_type": "code",
   "execution_count": 4,
   "metadata": {
    "collapsed": false
   },
   "outputs": [
    {
     "name": "stdout",
     "output_type": "stream",
     "text": [
      "estimate:  0.23333333333333334\n"
     ]
    },
    {
     "data": {
      "text/html": [
       "<div>\n",
       "<table border=\"1\" class=\"dataframe\">\n",
       "  <thead>\n",
       "    <tr style=\"text-align: right;\">\n",
       "      <th></th>\n",
       "      <th>lower</th>\n",
       "      <th>upper</th>\n",
       "    </tr>\n",
       "  </thead>\n",
       "  <tbody>\n",
       "    <tr>\n",
       "      <th>beta</th>\n",
       "      <td>0.099338</td>\n",
       "      <td>0.422837</td>\n",
       "    </tr>\n",
       "    <tr>\n",
       "      <th>wilson</th>\n",
       "      <td>0.117924</td>\n",
       "      <td>0.409283</td>\n",
       "    </tr>\n",
       "    <tr>\n",
       "      <th>normal</th>\n",
       "      <td>0.081984</td>\n",
       "      <td>0.384682</td>\n",
       "    </tr>\n",
       "    <tr>\n",
       "      <th>agresti_coull</th>\n",
       "      <td>0.115162</td>\n",
       "      <td>0.412045</td>\n",
       "    </tr>\n",
       "    <tr>\n",
       "      <th>jeffrey</th>\n",
       "      <td>0.110921</td>\n",
       "      <td>0.404400</td>\n",
       "    </tr>\n",
       "  </tbody>\n",
       "</table>\n",
       "</div>"
      ],
      "text/plain": [
       "                  lower     upper\n",
       "beta           0.099338  0.422837\n",
       "wilson         0.117924  0.409283\n",
       "normal         0.081984  0.384682\n",
       "agresti_coull  0.115162  0.412045\n",
       "jeffrey        0.110921  0.404400"
      ]
     },
     "execution_count": 4,
     "metadata": {},
     "output_type": "execute_result"
    }
   ],
   "source": [
    "count = y  # alias\n",
    "prop_mle = count / nobs\n",
    "confint_methods = ['beta', 'wilson', 'normal', 'agresti_coull', 'jeffrey']\n",
    "confints = [smprop.proportion_confint(count, nobs, alpha=0.05, method=method) for method in confint_methods]\n",
    "ci_df = pd.DataFrame(confints, index=confint_methods, columns=['lower', 'upper'])\n",
    "print('estimate: ', prop_mle)\n",
    "ci_df"
   ]
  },
  {
   "cell_type": "markdown",
   "metadata": {},
   "source": [
    "We can check some corner case behavior to see if the function handles those correctly. It does not yet do so. beta/exact confidence interval contains a NaN if the count is all of the same kind, normal and agresti_coull return proportions that are negative or larger than one. (I opened https://github.com/statsmodels/statsmodels/issues/2742 )"
   ]
  },
  {
   "cell_type": "code",
   "execution_count": 5,
   "metadata": {
    "collapsed": false
   },
   "outputs": [
    {
     "data": {
      "text/html": [
       "<div>\n",
       "<table border=\"1\" class=\"dataframe\">\n",
       "  <thead>\n",
       "    <tr style=\"text-align: right;\">\n",
       "      <th></th>\n",
       "      <th>0 lower</th>\n",
       "      <th>0 upper</th>\n",
       "      <th>1 lower</th>\n",
       "      <th>1 upper</th>\n",
       "      <th>n-1 lower</th>\n",
       "      <th>n-1 upper</th>\n",
       "      <th>n lower</th>\n",
       "      <th>n upper</th>\n",
       "    </tr>\n",
       "  </thead>\n",
       "  <tbody>\n",
       "    <tr>\n",
       "      <th>beta</th>\n",
       "      <td>NaN</td>\n",
       "      <td>0.115703</td>\n",
       "      <td>0.000844</td>\n",
       "      <td>0.172169</td>\n",
       "      <td>0.827831</td>\n",
       "      <td>0.999156</td>\n",
       "      <td>0.884297</td>\n",
       "      <td>NaN</td>\n",
       "    </tr>\n",
       "    <tr>\n",
       "      <th>wilson</th>\n",
       "      <td>0.000000</td>\n",
       "      <td>0.113513</td>\n",
       "      <td>0.005909</td>\n",
       "      <td>0.166704</td>\n",
       "      <td>0.833296</td>\n",
       "      <td>0.994091</td>\n",
       "      <td>0.886487</td>\n",
       "      <td>1.000000</td>\n",
       "    </tr>\n",
       "    <tr>\n",
       "      <th>normal</th>\n",
       "      <td>0.000000</td>\n",
       "      <td>0.000000</td>\n",
       "      <td>-0.030901</td>\n",
       "      <td>0.097567</td>\n",
       "      <td>0.902433</td>\n",
       "      <td>1.030901</td>\n",
       "      <td>1.000000</td>\n",
       "      <td>1.000000</td>\n",
       "    </tr>\n",
       "    <tr>\n",
       "      <th>agresti_coull</th>\n",
       "      <td>-0.021198</td>\n",
       "      <td>0.134712</td>\n",
       "      <td>-0.008305</td>\n",
       "      <td>0.180918</td>\n",
       "      <td>0.819082</td>\n",
       "      <td>1.008305</td>\n",
       "      <td>0.865288</td>\n",
       "      <td>1.021198</td>\n",
       "    </tr>\n",
       "    <tr>\n",
       "      <th>jeffrey</th>\n",
       "      <td>0.000016</td>\n",
       "      <td>0.079678</td>\n",
       "      <td>0.003620</td>\n",
       "      <td>0.145418</td>\n",
       "      <td>0.854582</td>\n",
       "      <td>0.996380</td>\n",
       "      <td>0.920322</td>\n",
       "      <td>0.999984</td>\n",
       "    </tr>\n",
       "  </tbody>\n",
       "</table>\n",
       "</div>"
      ],
      "text/plain": [
       "                0 lower   0 upper   1 lower   1 upper  n-1 lower  n-1 upper  \\\n",
       "beta                NaN  0.115703  0.000844  0.172169   0.827831   0.999156   \n",
       "wilson         0.000000  0.113513  0.005909  0.166704   0.833296   0.994091   \n",
       "normal         0.000000  0.000000 -0.030901  0.097567   0.902433   1.030901   \n",
       "agresti_coull -0.021198  0.134712 -0.008305  0.180918   0.819082   1.008305   \n",
       "jeffrey        0.000016  0.079678  0.003620  0.145418   0.854582   0.996380   \n",
       "\n",
       "                n lower   n upper  \n",
       "beta           0.884297       NaN  \n",
       "wilson         0.886487  1.000000  \n",
       "normal         1.000000  1.000000  \n",
       "agresti_coull  0.865288  1.021198  \n",
       "jeffrey        0.920322  0.999984  "
      ]
     },
     "execution_count": 5,
     "metadata": {},
     "output_type": "execute_result"
    }
   ],
   "source": [
    "count_ = 0\n",
    "confints0 = [smprop.proportion_confint(count_, nobs, alpha=0.05, method=method) for method in confint_methods]\n",
    "count_ = 1\n",
    "confints1 = [smprop.proportion_confint(count_, nobs, alpha=0.05, method=method) for method in confint_methods]\n",
    "count_ = nobs - 1\n",
    "confintsnm1 = [smprop.proportion_confint(count_, nobs, alpha=0.05, method=method) for method in confint_methods]\n",
    "count_ = nobs\n",
    "confintsn = [smprop.proportion_confint(count_, nobs, alpha=0.05, method=method) for method in confint_methods]\n",
    "pd.DataFrame(np.column_stack((confints0, confints1, confintsnm1, confintsn)), index=confint_methods, \n",
    "             columns=['0 lower', '0 upper', '1 lower', '1 upper', 'n-1 lower', 'n-1 upper', 'n lower', 'n upper'])"
   ]
  },
  {
   "cell_type": "markdown",
   "metadata": {},
   "source": [
    "**Two sided hypothesis**"
   ]
  },
  {
   "cell_type": "code",
   "execution_count": 6,
   "metadata": {
    "collapsed": false
   },
   "outputs": [
    {
     "data": {
      "text/plain": [
       "0.55100632188415744"
      ]
     },
     "execution_count": 6,
     "metadata": {},
     "output_type": "execute_result"
    }
   ],
   "source": [
    "smprop.binom_test(count, nobs, prop=p_null, alternative='two-sided')"
   ]
  },
  {
   "cell_type": "code",
   "execution_count": 7,
   "metadata": {
    "collapsed": false
   },
   "outputs": [
    {
     "data": {
      "text/plain": [
       "(-0.86333169460343107, 0.38795512282614564)"
      ]
     },
     "execution_count": 7,
     "metadata": {},
     "output_type": "execute_result"
    }
   ],
   "source": [
    "smprop.proportions_ztest(count, nobs, value=p_null, alternative='two-sided')"
   ]
  },
  {
   "cell_type": "code",
   "execution_count": 8,
   "metadata": {
    "collapsed": false
   },
   "outputs": [
    {
     "data": {
      "text/plain": [
       "(-0.79681907288959564, 0.42555611641912894)"
      ]
     },
     "execution_count": 8,
     "metadata": {},
     "output_type": "execute_result"
    }
   ],
   "source": [
    "smprop.proportions_ztest(count, nobs, value=p_null, alternative='two-sided', prop_var=p_null)"
   ]
  },
  {
   "cell_type": "markdown",
   "metadata": {},
   "source": [
    "**Aside: Corner case for tests**\n",
    "\n",
    "Many normal distribution based hypothesis tests have problems with observations where the count is zero. Various solutions have been proposed, one of them is to add 0.5 to all zero observations. PASS also adds a small number like 0.001 for the power calculations in this case. There is currently no option for this in my functions."
   ]
  },
  {
   "cell_type": "code",
   "execution_count": 9,
   "metadata": {
    "collapsed": false
   },
   "outputs": [
    {
     "name": "stdout",
     "output_type": "stream",
     "text": [
      "x = 0\n",
      "0.402459950796\n",
      "(-inf, 0.0)\n",
      "(-1.2565617248750864, 0.20891238174069848)\n",
      "\n",
      "x = 1\n",
      "0.402459950796\n",
      "(-6.4900077298790499, 8.5831970263090806e-11)\n",
      "(-1.214676334045917, 0.22448956218811145)\n"
     ]
    }
   ],
   "source": [
    "print('x = 0')\n",
    "count_ = 0\n",
    "p_null_ = 0.05\n",
    "print(smprop.binom_test(count_, nobs, prop=p_null_, alternative='two-sided'))\n",
    "print(smprop.proportions_ztest(count_, nobs, value=p_null_, alternative='two-sided'))\n",
    "print(smprop.proportions_ztest(count_, nobs, value=p_null_, alternative='two-sided', prop_var=p_null_))\n",
    "print('\\nx = 1')\n",
    "count_ = 0.05\n",
    "p_null_ = 0.05\n",
    "print(smprop.binom_test(count_, nobs, prop=p_null_, alternative='two-sided'))\n",
    "print(smprop.proportions_ztest(count_, nobs, value=p_null_, alternative='two-sided'))\n",
    "print(smprop.proportions_ztest(count_, nobs, value=p_null_, alternative='two-sided', prop_var=p_null_))"
   ]
  },
  {
   "cell_type": "code",
   "execution_count": 10,
   "metadata": {
    "collapsed": false
   },
   "outputs": [
    {
     "name": "stdout",
     "output_type": "stream",
     "text": [
      "                 Generalized Linear Model Regression Results                  \n",
      "==============================================================================\n",
      "Dep. Variable:           ['y1', 'y2']   No. Observations:                    1\n",
      "Model:                            GLM   Df Residuals:                        0\n",
      "Model Family:                Binomial   Df Model:                            0\n",
      "Link Function:               identity   Scale:                             1.0\n",
      "Method:                          IRLS   Log-Likelihood:                -1.7718\n",
      "Date:                Sat, 26 Dec 2015   Deviance:                       0.0000\n",
      "Time:                        23:42:34   Pearson chi2:                     0.00\n",
      "No. Iterations:                     4                                         \n",
      "==============================================================================\n",
      "                 coef    std err          z      P>|z|      [0.025      0.975]\n",
      "------------------------------------------------------------------------------\n",
      "const          0.2333      0.077      3.022      0.003       0.082       0.385\n",
      "==============================================================================\n"
     ]
    },
    {
     "name": "stderr",
     "output_type": "stream",
     "text": [
      "m:\\josef_new\\eclipse_ws\\statsmodels\\statsmodels_py34_pr\\statsmodels\\genmod\\generalized_linear_model.py:205: UserWarning: The identity link function does not respect the domain of the Binomial family.\n",
      "  (family.link.__class__.__name__, family.__class__.__name__))\n"
     ]
    }
   ],
   "source": [
    "import statsmodels.api as sm\n",
    "\n",
    "res = sm.GLM([[7, 30 - 7]], [[1]], family=sm.genmod.families.Binomial(link=sm.genmod.families.links.identity)).fit()\n",
    "print(res.summary())"
   ]
  },
  {
   "cell_type": "code",
   "execution_count": 11,
   "metadata": {
    "collapsed": false
   },
   "outputs": [
    {
     "name": "stdout",
     "output_type": "stream",
     "text": [
      "                             Test for Constraints                             \n",
      "==============================================================================\n",
      "                 coef    std err          z      P>|z|      [0.025      0.975]\n",
      "------------------------------------------------------------------------------\n",
      "c0             0.2333      0.077     -0.863      0.388       0.082       0.385\n",
      "==============================================================================\n"
     ]
    },
    {
     "data": {
      "text/plain": [
       "('HO: const = 0.300000',\n",
       " array(0.38795512282614564),\n",
       " array([[ 0.08198448,  0.38468219]]))"
      ]
     },
     "execution_count": 11,
     "metadata": {},
     "output_type": "execute_result"
    }
   ],
   "source": [
    "tt = res.t_test('const - %f' % p_null)\n",
    "print(tt)\n",
    "'HO: const = %f' % p_null, tt.pvalue, tt.conf_int()"
   ]
  },
  {
   "cell_type": "markdown",
   "metadata": {},
   "source": [
    "The pvalue is exactly the same as the Wald test version of `proportions_ztest`. The confidence interval is identical to `proportion_confint` with method `\"normal\"`."
   ]
  },
  {
   "cell_type": "code",
   "execution_count": 12,
   "metadata": {
    "collapsed": false
   },
   "outputs": [
    {
     "name": "stdout",
     "output_type": "stream",
     "text": [
      "                 Generalized Linear Model Regression Results                  \n",
      "==============================================================================\n",
      "Dep. Variable:           ['y1', 'y2']   No. Observations:                    1\n",
      "Model:                            GLM   Df Residuals:                        0\n",
      "Model Family:                Binomial   Df Model:                            0\n",
      "Link Function:               identity   Scale:                             1.0\n",
      "Method:                          IRLS   Log-Likelihood:                -1.7718\n",
      "Date:                Sat, 26 Dec 2015   Deviance:                       0.0000\n",
      "Time:                        23:42:34   Pearson chi2:                     0.00\n",
      "No. Iterations:                     4                                         \n",
      "==============================================================================\n",
      "                 coef    std err          z      P>|z|      [0.025      0.975]\n",
      "------------------------------------------------------------------------------\n",
      "const         -0.0667      0.077     -0.863      0.388      -0.218       0.085\n",
      "==============================================================================\n"
     ]
    },
    {
     "name": "stderr",
     "output_type": "stream",
     "text": [
      "m:\\josef_new\\eclipse_ws\\statsmodels\\statsmodels_py34_pr\\statsmodels\\genmod\\generalized_linear_model.py:205: UserWarning: The identity link function does not respect the domain of the Binomial family.\n",
      "  (family.link.__class__.__name__, family.__class__.__name__))\n"
     ]
    }
   ],
   "source": [
    "res = sm.GLM([[7, 30 - 7]], [[1]], family=sm.genmod.families.Binomial(link=sm.genmod.families.links.identity), offset=[[p_null]]).fit()\n",
    "print(res.summary())"
   ]
  },
  {
   "cell_type": "markdown",
   "metadata": {},
   "source": [
    "**Equivalence**"
   ]
  },
  {
   "cell_type": "code",
   "execution_count": 13,
   "metadata": {
    "collapsed": false
   },
   "outputs": [
    {
     "data": {
      "text/plain": [
       "(0.025000000000000019, 0.025000000000000008, 0.025000000000000019)"
      ]
     },
     "execution_count": 13,
     "metadata": {},
     "output_type": "execute_result"
    }
   ],
   "source": [
    "low, upp = ci_df.loc['beta', :]\n",
    "smprop.binom_tost(count, nobs, low, upp)"
   ]
  },
  {
   "cell_type": "code",
   "execution_count": 14,
   "metadata": {
    "collapsed": false
   },
   "outputs": [
    {
     "name": "stdout",
     "output_type": "stream",
     "text": [
      "score (0.056053065870080819, 0.056053065870080819, 0.034949354314036465)\n",
      "wald  (0.061422217884672649, 0.0093912009590914284, 0.061422217884672649)\n"
     ]
    }
   ],
   "source": [
    "print('score', smprop.binom_tost(count, nobs, *ci_df.loc['wilson', :]))\n",
    "print('wald ', smprop.binom_tost(count, nobs, *ci_df.loc['normal', :]))"
   ]
  },
  {
   "cell_type": "code",
   "execution_count": 15,
   "metadata": {
    "collapsed": false
   },
   "outputs": [
    {
     "data": {
      "text/plain": [
       "(0.067516018566243438,\n",
       " (1.4945495650814802, 0.067516018566243438),\n",
       " (-2.2785472457940248, 0.011346996472929981))"
      ]
     },
     "execution_count": 15,
     "metadata": {},
     "output_type": "execute_result"
    }
   ],
   "source": [
    "smprop.proportions_ztost(count, nobs, *ci_df.loc['wilson', :])"
   ]
  },
  {
   "cell_type": "code",
   "execution_count": 16,
   "metadata": {
    "collapsed": false
   },
   "outputs": [
    {
     "data": {
      "text/plain": [
       "(0.04134932724842634,\n",
       " (1.7352380217245991, 0.04134932724842634),\n",
       " (-2.4540616477331247, 0.0070626381724014512))"
      ]
     },
     "execution_count": 16,
     "metadata": {},
     "output_type": "execute_result"
    }
   ],
   "source": [
    "smprop.proportions_ztost(count, nobs, *ci_df.loc['beta', :])"
   ]
  },
  {
   "cell_type": "markdown",
   "metadata": {},
   "source": [
    "**One-sided tests**\n",
    "\n",
    "\n",
    "The null nypothesis and alternative hypothesis for alternative `'larger'` are\n",
    "\n",
    "H0: p = p0    \n",
    "H1: p > p0\n",
    "\n",
    "where p0 = 0.3"
   ]
  },
  {
   "cell_type": "code",
   "execution_count": 17,
   "metadata": {
    "collapsed": false
   },
   "outputs": [
    {
     "name": "stdout",
     "output_type": "stream",
     "text": [
      "exact:  0.840477017804\n",
      "wald:   0.806022438587\n",
      "score:  0.78722194179\n"
     ]
    }
   ],
   "source": [
    "te = smprop.binom_test(count, nobs, prop=p_null, alternative='larger')\n",
    "tw = smprop.proportions_ztest(count, nobs, value=p_null, alternative='larger')\n",
    "ts = smprop.proportions_ztest(count, nobs, value=p_null, alternative='larger', prop_var=p_null)\n",
    "print('exact: ', te)\n",
    "print('wald:  ', tw[1])\n",
    "print('score: ', ts[1])"
   ]
  },
  {
   "cell_type": "markdown",
   "metadata": {},
   "source": [
    "The null nypothesis and alternative hypothesis for alternative `'smaller'` are\n",
    "\n",
    "H0: p = p0  \n",
    "H1: p < p0\n",
    "\n",
    "where p0 = 0.3"
   ]
  },
  {
   "cell_type": "code",
   "execution_count": 18,
   "metadata": {
    "collapsed": false
   },
   "outputs": [
    {
     "name": "stdout",
     "output_type": "stream",
     "text": [
      "exact:  0.281376708187\n",
      "wald:   0.193977561413\n",
      "score:  0.21277805821\n"
     ]
    }
   ],
   "source": [
    "te = smprop.binom_test(count, nobs, prop=p_null, alternative='smaller')\n",
    "tw = smprop.proportions_ztest(count, nobs, value=p_null, alternative='smaller')\n",
    "ts = smprop.proportions_ztest(count, nobs, value=p_null, alternative='smaller', prop_var=p_null)\n",
    "print('exact: ', te)\n",
    "print('wald:  ', tw[1])\n",
    "print('score: ', ts[1])"
   ]
  },
  {
   "cell_type": "markdown",
   "metadata": {},
   "source": [
    "We can look at null hypothesis that are further away from the observed proportion to see which hypothesis are rejected. The observed proportion is 0.23, our new null hypothesis value is 0.6. "
   ]
  },
  {
   "cell_type": "code",
   "execution_count": 19,
   "metadata": {
    "collapsed": false
   },
   "outputs": [
    {
     "name": "stdout",
     "output_type": "stream",
     "text": [
      "exact:  4.93250255898e-05\n",
      "wald:   1.02554471155e-06\n",
      "score:  5.86612629749e-06\n"
     ]
    }
   ],
   "source": [
    "p_null_ = 0.6\n",
    "te = smprop.binom_test(count, nobs, prop=p_null_, alternative='smaller')\n",
    "tw = smprop.proportions_ztest(count, nobs, value=p_null_, alternative='smaller')\n",
    "ts = smprop.proportions_ztest(count, nobs, value=p_null_, alternative='smaller', prop_var=p_null)\n",
    "print('exact: ', te)\n",
    "print('wald:  ', tw[1])\n",
    "print('score: ', ts[1])"
   ]
  },
  {
   "cell_type": "code",
   "execution_count": 20,
   "metadata": {
    "collapsed": false
   },
   "outputs": [
    {
     "name": "stdout",
     "output_type": "stream",
     "text": [
      "exact:  0.999990777679\n",
      "wald:   0.999998974455\n",
      "score:  0.999994133874\n"
     ]
    }
   ],
   "source": [
    "p_null_ = 0.6\n",
    "te = smprop.binom_test(count, nobs, prop=p_null_, alternative='larger')\n",
    "tw = smprop.proportions_ztest(count, nobs, value=p_null_, alternative='larger')\n",
    "ts = smprop.proportions_ztest(count, nobs, value=p_null_, alternative='larger', prop_var=p_null)\n",
    "print('exact: ', te)\n",
    "print('wald:  ', tw[1])\n",
    "print('score: ', ts[1])"
   ]
  },
  {
   "cell_type": "markdown",
   "metadata": {},
   "source": [
    "The `smaller` hypothesis is strongly rejected, which means that we reject the null hypothesis that the true proportion is 0.6 or larger in favor of the alternative hypothesis that the true proportion is smaller than 0.6.\n",
    "\n",
    "In the case of the `larger` alternative, the p-value is very large and we cannot reject the null hypothesis that the true proportion is 0.6 (or smaller) in favor of the hypothesis that the true proportion is larger than 0.6. \n",
    "\n",
    "Non-inferiority and superiority tests are special cases of these one-sided tests. Often, the specific case is defined in terms of deviations from a benchmark value. The null hypothesis for a non-inferiority test can be defined, for example, by being less than a specified amount, say 5%, below a benchmark proportion. If we reject the test, then we conclude that the proportion is not worse than 5% below the benchmark, at the given confidence level of the test."
   ]
  },
  {
   "cell_type": "markdown",
   "metadata": {},
   "source": [
    "**Aside: Inequality Null hypothesis**\n",
    "\n",
    "In the above definition of the null hypothesis we used an equality. For most methods the p-values for the hypothesis tests are the same for the case when the null hypothesis is an inequality \n",
    "\n",
    "The null nypothesis and alternative hypothesis for alternative `'larger'` specify that the true proportion is smaller than or equal to the hypothesized value versus the alternative that it is larger.\n",
    "\n",
    "H0': p <= p0    \n",
    "H1': p > p0\n",
    "\n",
    "\n",
    "The null nypothesis and alternative hypothesis for alternative 'smaller' are\n",
    "\n",
    "H0': p >= p0  \n",
    "H1': p < p0\n",
    "\n",
    "\n",
    "The score test is an exception to this. If the null hypothesis is a inequality, then the constrained maximum likelihood estimate will depend on whether the constraint of the null hypothesis is binding or not. If it is binding, then the score test is the same as for the test with an equality in the null hypothesis. If the constrained is not binding then the null parameter estimate is the same as the estimate used for the Wald test.\n",
    "Because the equality is the worst case in these hypothesis test, it does not affect the validity of the tests. However, in the asymptotic tests it would add another option to define the variance used in the calculations, and the standard score test does not take the inequality into account in calculating the variance. This is not implemented, so we restrict ourselves to equality null hypothesis, even though the interpretation is mostly the same as for the inequality null hypothesis.\n",
    "\n",
    "Reference for a score analysis with inequality null hypothesis for the case of comparing two proportions, see ...\n"
   ]
  },
  {
   "cell_type": "code",
   "execution_count": null,
   "metadata": {
    "collapsed": true
   },
   "outputs": [],
   "source": []
  },
  {
   "cell_type": "markdown",
   "metadata": {},
   "source": [
    "**Standard t-test**\n",
    "\n",
    "We can also use the standard t-test in large samples if we encode the data with 0 for no event and 1 for the success event. The t-test estimates the variance from the data and does not take the relationship between mean and variance explicitly into account. However, by the law of large numbers the mean, i.e. the proportion in the current case, will be asymptotically distributed as normal which can be approximated by the t-distribution."
   ]
  },
  {
   "cell_type": "code",
   "execution_count": 21,
   "metadata": {
    "collapsed": false
   },
   "outputs": [
    {
     "data": {
      "text/plain": [
       "(-0.84882088476305617, 0.40293351466675675, 29.0)"
      ]
     },
     "execution_count": 21,
     "metadata": {},
     "output_type": "execute_result"
    }
   ],
   "source": [
    "import statsmodels.stats.weightstats as smsw\n",
    "yy = np.repeat([0, 1], [nobs - count, count])\n",
    "ds = smsw.DescrStatsW(yy)\n",
    "ds.ttest_mean(0.3)"
   ]
  },
  {
   "cell_type": "code",
   "execution_count": 22,
   "metadata": {
    "collapsed": false
   },
   "outputs": [
    {
     "data": {
      "text/plain": [
       "{'data': array([0, 0, 0, 0, 0, 0, 0, 0, 0, 0, 0, 0, 0, 0, 0, 0, 0, 0, 0, 0, 0, 0, 0,\n",
       "        1, 1, 1, 1, 1, 1, 1]),\n",
       " 'ddof': 0,\n",
       " 'demeaned': array([-0.23333333, -0.23333333, -0.23333333, -0.23333333, -0.23333333,\n",
       "        -0.23333333, -0.23333333, -0.23333333, -0.23333333, -0.23333333,\n",
       "        -0.23333333, -0.23333333, -0.23333333, -0.23333333, -0.23333333,\n",
       "        -0.23333333, -0.23333333, -0.23333333, -0.23333333, -0.23333333,\n",
       "        -0.23333333, -0.23333333, -0.23333333,  0.76666667,  0.76666667,\n",
       "         0.76666667,  0.76666667,  0.76666667,  0.76666667,  0.76666667]),\n",
       " 'mean': 0.23333333333333334,\n",
       " 'std': 0.42295258468165065,\n",
       " 'std_mean': 0.078540323245317289,\n",
       " 'sum': 7.0,\n",
       " 'sum_weights': 30.0,\n",
       " 'sumsquares': 5.3666666666666663,\n",
       " 'var': 0.17888888888888888,\n",
       " 'weights': array([ 1.,  1.,  1.,  1.,  1.,  1.,  1.,  1.,  1.,  1.,  1.,  1.,  1.,\n",
       "         1.,  1.,  1.,  1.,  1.,  1.,  1.,  1.,  1.,  1.,  1.,  1.,  1.,\n",
       "         1.,  1.,  1.,  1.])}"
      ]
     },
     "execution_count": 22,
     "metadata": {},
     "output_type": "execute_result"
    }
   ],
   "source": [
    "vars(ds)"
   ]
  },
  {
   "cell_type": "code",
   "execution_count": 23,
   "metadata": {
    "collapsed": false
   },
   "outputs": [
    {
     "data": {
      "text/plain": [
       "(-0.84882088476305617, 0.79853324266662162, 29.0)"
      ]
     },
     "execution_count": 23,
     "metadata": {},
     "output_type": "execute_result"
    }
   ],
   "source": [
    "ds.ttest_mean(0.3, alternative='larger')"
   ]
  },
  {
   "cell_type": "code",
   "execution_count": 24,
   "metadata": {
    "collapsed": false
   },
   "outputs": [
    {
     "data": {
      "text/plain": [
       "(-0.84882088476305617, 0.20146675733337838, 29.0)"
      ]
     },
     "execution_count": 24,
     "metadata": {},
     "output_type": "execute_result"
    }
   ],
   "source": [
    "ds.ttest_mean(0.3, alternative='smaller')"
   ]
  },
  {
   "cell_type": "markdown",
   "metadata": {},
   "source": [
    "In this example the p-values from the t-test are in between the asymptotic score and wald tests based on the normal distribution for all three alternatives. The t-test based toast has a p-value that is slightly larger than the normal distribution based TOST test for proportions, 0.049 versus 0.041 which are both larger than the binomial distribution based TOST, which is 0.025 when we use the latter's confidence interval for the equivalence margins. "
   ]
  },
  {
   "cell_type": "code",
   "execution_count": 25,
   "metadata": {
    "collapsed": false
   },
   "outputs": [
    {
     "data": {
      "text/plain": [
       "(0.049342036125071341,\n",
       " (1.706072280308607, 0.049342036125071341, 29.0),\n",
       " (-2.4128139764969032, 0.011189332556866095, 29.0))"
      ]
     },
     "execution_count": 25,
     "metadata": {},
     "output_type": "execute_result"
    }
   ],
   "source": [
    "ds.ttost_mean(*ci_df.loc['beta', :])"
   ]
  },
  {
   "cell_type": "markdown",
   "metadata": {},
   "source": [
    "We used a full sample with individual observations in the above. However, `DescrStatsW` allows us to use weights and we can specify the sample by the frequency of each level of the observation. The results are the same as before."
   ]
  },
  {
   "cell_type": "code",
   "execution_count": 26,
   "metadata": {
    "collapsed": false
   },
   "outputs": [
    {
     "data": {
      "text/plain": [
       "(-0.84882088476305606, 0.20146675733337843, 29.0)"
      ]
     },
     "execution_count": 26,
     "metadata": {},
     "output_type": "execute_result"
    }
   ],
   "source": [
    "ds2 = smsw.DescrStatsW([0, 1], weights=[nobs - count, count])\n",
    "ds2.ttest_mean(0.3, alternative='smaller')"
   ]
  },
  {
   "cell_type": "code",
   "execution_count": 27,
   "metadata": {
    "collapsed": false
   },
   "outputs": [
    {
     "data": {
      "text/plain": [
       "(0.049342036125071362,\n",
       " (1.7060722803086068, 0.049342036125071362, 29.0),\n",
       " (-2.4128139764969028, 0.011189332556866103, 29.0))"
      ]
     },
     "execution_count": 27,
     "metadata": {},
     "output_type": "execute_result"
    }
   ],
   "source": [
    "ds2.ttost_mean(*ci_df.loc['beta', :])"
   ]
  },
  {
   "cell_type": "code",
   "execution_count": null,
   "metadata": {
    "collapsed": true
   },
   "outputs": [],
   "source": []
  },
  {
   "cell_type": "markdown",
   "metadata": {},
   "source": [
    "## Sample Size and Power"
   ]
  },
  {
   "cell_type": "markdown",
   "metadata": {},
   "source": [
    "First we illustrate the rejection region of a test which is the set of all observations at which we reject the null hypothesis.\n",
    "Size of a test is the probability to sample an observation in the rejection region under the null hypothesis, power is the probability under the alternative hypothesis.\n",
    "\n",
    "The rejection region is a property of the hypothesis test, the following calculates it for the two-sided binomial and the two-sided ztest for a single proportion. This depends on the distribution that we use in the hypothesis test, exact distribution which is the binomial in this case or a normal or t distribution as large sample approximation.\n",
    "Ones we have the rejection region, we can also use different distributions for evaluating the power either based on the exact distribution or an a large sample approximation or asymptotic distribution.\n",
    "\n",
    "The sample size that is required to achieve at least a desired power under a given alternative can be explicitly calculated in the special case one-sided tests where both the hypothesis test distribution and the distribution for the power calculations are the normal distribution. In almost all other cases we have to use an iterative solver to find the required sample size.\n",
    "\n",
    "Power and sample size calculation are currently only implemented for one approximation and for equivalence tests. In the following we illustrate several methods for calculating the power which will be useful for different cases depending on whether simplification or computational shortcuts exist or not.\n"
   ]
  },
  {
   "cell_type": "markdown",
   "metadata": {},
   "source": [
    "**Rejection region**"
   ]
  },
  {
   "cell_type": "code",
   "execution_count": 28,
   "metadata": {
    "collapsed": false
   },
   "outputs": [],
   "source": [
    "rej = np.array([smprop.proportions_ztest(count_, nobs, value=p_null, alternative='two-sided', prop_var=p_null)[1] \n",
    "                for count_ in range(nobs + 1)])\n",
    "rej_indicator = (rej < 0.05) #.astype(int)\n",
    "np.column_stack((rej, rej_indicator))\n",
    "rej_indicator_score = rej_indicator  # keep for later use"
   ]
  },
  {
   "cell_type": "code",
   "execution_count": 29,
   "metadata": {
    "collapsed": false
   },
   "outputs": [
    {
     "data": {
      "text/plain": [
       "array([[  0.00000000e+00,   2.98171757e-05,   1.00000000e+00],\n",
       "       [  1.00000000e+00,   4.74743798e-04,   1.00000000e+00],\n",
       "       [  2.00000000e+00,   4.23786890e-03,   1.00000000e+00],\n",
       "       [  3.00000000e+00,   1.56869137e-02,   1.00000000e+00],\n",
       "       [  4.00000000e+00,   4.70922546e-02,   1.00000000e+00],\n",
       "       [  5.00000000e+00,   1.61064812e-01,   0.00000000e+00],\n",
       "       [  6.00000000e+00,   3.18844777e-01,   0.00000000e+00],\n",
       "       [  7.00000000e+00,   5.51006322e-01,   0.00000000e+00],\n",
       "       [  8.00000000e+00,   8.42709221e-01,   0.00000000e+00],\n",
       "       [  9.00000000e+00,   1.00000000e+00,   0.00000000e+00],\n",
       "       [  1.00000000e+01,   6.92568023e-01,   0.00000000e+00],\n",
       "       [  1.10000000e+01,   4.29152596e-01,   0.00000000e+00],\n",
       "       [  1.20000000e+01,   2.35916547e-01,   0.00000000e+00],\n",
       "       [  1.30000000e+01,   1.14625003e-01,   0.00000000e+00],\n",
       "       [  1.40000000e+01,   7.02074908e-02,   0.00000000e+00],\n",
       "       [  1.50000000e+01,   2.62538788e-02,   1.00000000e+00],\n",
       "       [  1.60000000e+01,   8.48352453e-03,   1.00000000e+00],\n",
       "       [  1.70000000e+01,   2.43702161e-03,   1.00000000e+00],\n",
       "       [  1.80000000e+01,   9.38554917e-04,   1.00000000e+00],\n",
       "       [  1.90000000e+01,   1.84952280e-04,   1.00000000e+00],\n",
       "       [  2.00000000e+01,   5.94094211e-05,   1.00000000e+00],\n",
       "       [  2.10000000e+01,   7.27783538e-06,   1.00000000e+00],\n",
       "       [  2.20000000e+01,   1.23860162e-06,   1.00000000e+00],\n",
       "       [  2.30000000e+01,   1.79774924e-07,   1.00000000e+00],\n",
       "       [  2.40000000e+01,   2.19374043e-08,   1.00000000e+00],\n",
       "       [  2.50000000e+01,   2.20771429e-09,   1.00000000e+00],\n",
       "       [  2.60000000e+01,   1.78374751e-10,   1.00000000e+00],\n",
       "       [  2.70000000e+01,   1.11214916e-11,   1.00000000e+00],\n",
       "       [  2.80000000e+01,   5.02237102e-13,   1.00000000e+00],\n",
       "       [  2.90000000e+01,   1.46182704e-14,   1.00000000e+00],\n",
       "       [  3.00000000e+01,   2.05891132e-16,   1.00000000e+00]])"
      ]
     },
     "execution_count": 29,
     "metadata": {},
     "output_type": "execute_result"
    }
   ],
   "source": [
    "rej = np.array([smprop.binom_test(count_, nobs, prop=p_null, alternative='two-sided') for count_ in range(nobs + 1)])\n",
    "rej_indicator = (rej < 0.05) #.astype(int)\n",
    "np.column_stack((range(nobs + 1), rej, rej_indicator))"
   ]
  },
  {
   "cell_type": "markdown",
   "metadata": {},
   "source": [
    "### Power calculation - a general method"
   ]
  },
  {
   "cell_type": "markdown",
   "metadata": {},
   "source": [
    "In a general method we can use the rejection region of a hypothesis test directly to calculate the probability.\n",
    "\n",
    "We can use the set of values for which the null hypothesis is rejected instead of using a boolean indicator."
   ]
  },
  {
   "cell_type": "code",
   "execution_count": 30,
   "metadata": {
    "collapsed": true
   },
   "outputs": [],
   "source": [
    "x = np.arange(nobs + 1)\n",
    "x_rej = x[rej_indicator]\n",
    "x_rej_score = x[rej_indicator_score]"
   ]
  },
  {
   "cell_type": "code",
   "execution_count": 31,
   "metadata": {
    "collapsed": false
   },
   "outputs": [
    {
     "name": "stdout",
     "output_type": "stream",
     "text": [
      "binom [ 0  1  2  3  4 15 16 17 18 19 20 21 22 23 24 25 26 27 28 29 30]\n",
      "score [ 0  1  2  3  4 14 15 16 17 18 19 20 21 22 23 24 25 26 27 28 29 30]\n"
     ]
    }
   ],
   "source": [
    "print('binom', x_rej)\n",
    "print('score', x_rej_score)"
   ]
  },
  {
   "cell_type": "markdown",
   "metadata": {},
   "source": [
    "The rejection region of the score test is larger than the one of the exact binomial test. The score test rejects also if 14 events are observed."
   ]
  },
  {
   "cell_type": "markdown",
   "metadata": {},
   "source": [
    "For the current case we use the exact binomial distribution to calculate the power. The null hypothesis in this example is a two-sided test for p = 0.3. Use p1 for the proportion at which the power or rejection probability is calculated. First we check the size of the test, i.e. p1 = p_null = 0.3"
   ]
  },
  {
   "cell_type": "code",
   "execution_count": 32,
   "metadata": {
    "collapsed": false
   },
   "outputs": [
    {
     "data": {
      "text/plain": [
       "0.047092254594638484"
      ]
     },
     "execution_count": 32,
     "metadata": {},
     "output_type": "execute_result"
    }
   ],
   "source": [
    "p1 = 0.3\n",
    "stats.binom.pmf(x_rej, nobs, p1).sum()"
   ]
  },
  {
   "cell_type": "markdown",
   "metadata": {},
   "source": [
    "Because we are using the exact test, the probability of rejection under the null is smaller than the required alpha = 0.05. In this example the exact probability is close to the 0.05 threshold. In contrast to this, the score test is liberal in this example and rejects with probability 0.07 instead of the required 0.05."
   ]
  },
  {
   "cell_type": "code",
   "execution_count": 33,
   "metadata": {
    "collapsed": false
   },
   "outputs": [
    {
     "data": {
      "text/plain": [
       "0.07020749078421995"
      ]
     },
     "execution_count": 33,
     "metadata": {},
     "output_type": "execute_result"
    }
   ],
   "source": [
    "stats.binom.pmf(x_rej_score, nobs, p1).sum()"
   ]
  },
  {
   "cell_type": "markdown",
   "metadata": {},
   "source": [
    "This method with explicit enumeration of the rejection values can be used for any distribution but will require more computational time than explicit calculations that take advantage of the specific structure. In the case of one sample or one parameter hypothesis test, the rejection region consist of two tail intervals. If we have the boundary of the rejection region available, then we can directly use the cumulative distribution or the survival function to calculate the tail probabilities.\n",
    "\n",
    "In the case of the binomial distribution with probability p_null under the null hypothesis has tail probabilities at most alpha / 2 in each tail (for equal tailed hypothesis tests)."
   ]
  },
  {
   "cell_type": "code",
   "execution_count": 34,
   "metadata": {
    "collapsed": false
   },
   "outputs": [
    {
     "data": {
      "text/plain": [
       "(4.0, 14.0)"
      ]
     },
     "execution_count": 34,
     "metadata": {},
     "output_type": "execute_result"
    }
   ],
   "source": [
    "lowi, uppi = stats.binom.interval(0.95, nobs, p_null)\n",
    "lowi, uppi"
   ]
  },
  {
   "cell_type": "markdown",
   "metadata": {},
   "source": [
    "**Detour: open or close interval**\n",
    "\n",
    "The cdf is defined by a weak inequality cdf(t) = Prob(x <= t), the survival function sf is defined by a strict inequality sf(t) = Prob(x > t) so that cdf(t) + sf(t) = 1. Whether the inequalities are strict or weak does not make a difference in continuous distributions that don't have mass points. However, it does make a difference for discrete distribution. If we want a tail probability of alpha, then the cdf has this tail probability including the boundary point, while the sf excludes the boundary point. So to have a upper tail probability alpha for a t such that Prob(x >= t) < alpha but close to it, we need to use sf(t - 1). similarly, we have to subtract one if we want an open interval for the cdf at the lower tail.\n",
    "\n",
    "Specifically, define the lower and upper thresholds that are in the rejection region\n",
    "\n",
    "low = max{x: prob(x <= t) <= alpha / 2 \n",
    "upp = min{x: prob(x >= t) <= alpha / 2 \n",
    "\n",
    "Because of the discreteness of the sample space having tail probabilities equal to alpha / 2 is in general not possible.\n"
   ]
  },
  {
   "cell_type": "code",
   "execution_count": 35,
   "metadata": {
    "collapsed": true
   },
   "outputs": [],
   "source": [
    "low, upp = lowi, uppi"
   ]
  },
  {
   "cell_type": "code",
   "execution_count": 36,
   "metadata": {
    "collapsed": false
   },
   "outputs": [
    {
     "data": {
      "text/plain": [
       "(4.0, 14.0)"
      ]
     },
     "execution_count": 36,
     "metadata": {},
     "output_type": "execute_result"
    }
   ],
   "source": [
    "stats.binom.ppf(0.025, nobs, p_null), stats.binom.isf(0.025, nobs, p_null)"
   ]
  },
  {
   "cell_type": "markdown",
   "metadata": {},
   "source": [
    "If we reject at 4 and smaller and reject at 14 and larger, then the probability of rejection is larger than 0.025 in each tail:"
   ]
  },
  {
   "cell_type": "code",
   "execution_count": 37,
   "metadata": {
    "collapsed": false
   },
   "outputs": [
    {
     "data": {
      "text/plain": [
       "(0.030154943102089313, 0.040052547682131269)"
      ]
     },
     "execution_count": 37,
     "metadata": {},
     "output_type": "execute_result"
    }
   ],
   "source": [
    "stats.binom.cdf(low, nobs, p_null), stats.binom.sf(upp - 1, nobs, p_null)"
   ]
  },
  {
   "cell_type": "markdown",
   "metadata": {},
   "source": [
    "If we shrink the rejection region in each tail by one, so we reject at 3 and smaller and reject at 15 and larger, then the probability of rejection is smaller than 0.025 in each tail. The total rejection probability is at 0.026 smaller than 0.05 and shows the typical case that exact tests are conservative, i.e. reject less often than alpha, often considerably less:"
   ]
  },
  {
   "cell_type": "code",
   "execution_count": 38,
   "metadata": {
    "collapsed": false
   },
   "outputs": [
    {
     "data": {
      "text/plain": [
       "(0.0093165673111771617, 0.016937311492549543, 0.026253878803726705)"
      ]
     },
     "execution_count": 38,
     "metadata": {},
     "output_type": "execute_result"
    }
   ],
   "source": [
    "prob_low = stats.binom.cdf(low - 1, nobs, p_null)\n",
    "prob_upp = stats.binom.sf(upp, nobs, p_null)\n",
    "prob_low, prob_upp, prob_low + prob_upp"
   ]
  },
  {
   "cell_type": "markdown",
   "metadata": {},
   "source": [
    "In this case we can increase the lower rejection threshold by one and still stay below the total rejection probability of 0.05, although in this case the rejection probability in the lower tail is larger than 0.025. In this example the same also works on the other side by expanding only the rejection region in the upper tail."
   ]
  },
  {
   "cell_type": "code",
   "execution_count": 39,
   "metadata": {
    "collapsed": false
   },
   "outputs": [
    {
     "data": {
      "text/plain": [
       "(0.030154943102089313, 0.016937311492549543, 0.047092254594638852)"
      ]
     },
     "execution_count": 39,
     "metadata": {},
     "output_type": "execute_result"
    }
   ],
   "source": [
    "prob_low = stats.binom.cdf(low, nobs, p_null)\n",
    "prob_upp = stats.binom.sf(upp, nobs, p_null)\n",
    "prob_low, prob_upp, prob_low + prob_upp"
   ]
  },
  {
   "cell_type": "code",
   "execution_count": 40,
   "metadata": {
    "collapsed": false
   },
   "outputs": [
    {
     "data": {
      "text/plain": [
       "(0.0093165673111771617, 0.040052547682131269, 0.049369114993308427)"
      ]
     },
     "execution_count": 40,
     "metadata": {},
     "output_type": "execute_result"
    }
   ],
   "source": [
    "prob_low = stats.binom.cdf(low - 1, nobs, p_null)\n",
    "prob_upp = stats.binom.sf(upp - 1, nobs, p_null)\n",
    "prob_low, prob_upp, prob_low + prob_upp"
   ]
  },
  {
   "cell_type": "code",
   "execution_count": 41,
   "metadata": {
    "collapsed": false
   },
   "outputs": [
    {
     "data": {
      "text/plain": [
       "0.95290774540536105"
      ]
     },
     "execution_count": 41,
     "metadata": {},
     "output_type": "execute_result"
    }
   ],
   "source": [
    "stats.binom.cdf(upp, nobs, p_null) - stats.binom.cdf(low, nobs, p_null)"
   ]
  },
  {
   "cell_type": "markdown",
   "metadata": {},
   "source": [
    "TODO: why does binom_test reject at 4? \n",
    "binom_test is used from scipy.stats for the two-sided alternative."
   ]
  },
  {
   "cell_type": "code",
   "execution_count": 42,
   "metadata": {
    "collapsed": false
   },
   "outputs": [
    {
     "data": {
      "text/plain": [
       "(0.0093165673111771617, 0.030154943102089313)"
      ]
     },
     "execution_count": 42,
     "metadata": {},
     "output_type": "execute_result"
    }
   ],
   "source": [
    "smprop.binom_test(3, nobs, prop=p_null, alternative='smaller'), \\\n",
    "smprop.binom_test(4, nobs, prop=p_null, alternative='smaller')"
   ]
  },
  {
   "cell_type": "code",
   "execution_count": 43,
   "metadata": {
    "collapsed": false
   },
   "outputs": [
    {
     "data": {
      "text/plain": [
       "0.047092254594638852"
      ]
     },
     "execution_count": 43,
     "metadata": {},
     "output_type": "execute_result"
    }
   ],
   "source": [
    "smprop.binom_test(4, nobs, prop=p_null, alternative='two-sided')\n",
    "# we get the same answer as in R\n",
    "# in R binom.test(4,30, 0.3, alternative=\"two.sided\")  --> 0.04709225"
   ]
  },
  {
   "cell_type": "markdown",
   "metadata": {},
   "source": [
    "The binomial test is not a centered test. It looks like it adds the probability from the further away tail for all x that have lower pmf than the observed value.\n",
    "check with Fay for the three different ways of defining two-tailed tests and confints.\n",
    "\n",
    "The pvalue for the centered test is based on doubling the probability of the smaller tail. Given that it does not exist, we can implement it quickly, and check against R's exactci package, which matches our results."
   ]
  },
  {
   "cell_type": "code",
   "execution_count": 44,
   "metadata": {
    "collapsed": true
   },
   "outputs": [],
   "source": [
    "def binom_test_centered(count, nobs, prop=0.5):\n",
    "    \"\"\"two-sided centered binomial test\"\"\"\n",
    "    prob_low = stats.binom.cdf(count, nobs, p_null)\n",
    "    prob_upp = stats.binom.sf(count - 1, nobs, p_null)\n",
    "    return 2 * min(prob_low, prob_upp)"
   ]
  },
  {
   "cell_type": "code",
   "execution_count": 45,
   "metadata": {
    "collapsed": false
   },
   "outputs": [
    {
     "data": {
      "text/plain": [
       "(0.018633134622354323, 0.060309886204178625)"
      ]
     },
     "execution_count": 45,
     "metadata": {},
     "output_type": "execute_result"
    }
   ],
   "source": [
    "binom_test_centered(3, nobs, prop=p_null), binom_test_centered(4, nobs, prop=p_null)"
   ]
  },
  {
   "cell_type": "code",
   "execution_count": 46,
   "metadata": {
    "collapsed": false
   },
   "outputs": [
    {
     "data": {
      "text/plain": [
       "(0.16894012072030201, 0.080105095364262538)"
      ]
     },
     "execution_count": 46,
     "metadata": {},
     "output_type": "execute_result"
    }
   ],
   "source": [
    "binom_test_centered(13, nobs, prop=p_null), binom_test_centered(14, nobs, prop=p_null)"
   ]
  },
  {
   "cell_type": "raw",
   "metadata": {},
   "source": [
    "results from R library exactci, with centered binomial test\n",
    "\n",
    "> be = binom.exact(3, 30, p = 0.3)\n",
    "> be$p.value\n",
    "[1] 0.01863313\n",
    "> be = binom.exact(4, 30, p = 0.3)\n",
    "> be$p.value\n",
    "[1] 0.06030989\n",
    "> be = binom.exact(13, 30, p = 0.3)\n",
    "> be$p.value\n",
    "[1] 0.1689401\n",
    "> be = binom.exact(14, 30, p = 0.3)\n",
    "> be$p.value\n",
    "[1] 0.0801051"
   ]
  },
  {
   "cell_type": "markdown",
   "metadata": {},
   "source": [
    "## Exact Power"
   ]
  },
  {
   "cell_type": "markdown",
   "metadata": {},
   "source": [
    "After this more extended detour we go back to our power calculations. So assuming we know the critical values of our rejection region, we can calculate the power using the cdf and sf function of the binomial distribution."
   ]
  },
  {
   "cell_type": "code",
   "execution_count": 47,
   "metadata": {
    "collapsed": false
   },
   "outputs": [],
   "source": [
    "def power_binom_reject(low, upp, prop, nobs):\n",
    "    \"\"\" calculate the power of a test given the rejection intervals\n",
    "    \n",
    "    This assumes that the rejection region is the union of the lower \n",
    "    tail up to and including low, and the upper tail starting at and\n",
    "    including upp.\n",
    "    \n",
    "    The Binomial distribution is used to calculate the power.\n",
    "    \n",
    "    Parameters\n",
    "    ----------\n",
    "    low\n",
    "    upp\n",
    "    prop : float in interval (0, 1)\n",
    "        proportion parameter for the binomial distribution\n",
    "    nobs : int\n",
    "        number of trials for binomial distribution\n",
    "        \n",
    "    Returns\n",
    "    -------\n",
    "    power : float\n",
    "        Probability of rejection if the true proportion is `prop`.\n",
    "        \n",
    "    Notes\n",
    "    -----\n",
    "    Works in vectorized form with appropriate arguments, i.e. \n",
    "    nonscalar arguments are numpy arrays that broadcast correctly.\n",
    "    \n",
    "    \"\"\"\n",
    "    prob_low = prob_upp = 0   # initialize\n",
    "    if low is not None:\n",
    "        prob_low = stats.binom.cdf(low, nobs, prop)\n",
    "    if upp is not None:\n",
    "        prob_upp = stats.binom.sf(upp - 1, nobs, prop)\n",
    "    return prob_low + prob_upp"
   ]
  },
  {
   "cell_type": "code",
   "execution_count": 48,
   "metadata": {
    "collapsed": false
   },
   "outputs": [
    {
     "name": "stdout",
     "output_type": "stream",
     "text": [
      "binom         4 15 0.0470922545946\n",
      "binom_central 3 15 0.0262538788037\n",
      "score         4 14 0.0702074907842\n"
     ]
    }
   ],
   "source": [
    "for test, l, u in [('binom        ', 4, 15), ('binom_central', 3, 15), ('score        ', 4, 14)]:\n",
    "    print(test, l, u, power_binom_reject(l, u, p_null, nobs))"
   ]
  },
  {
   "cell_type": "code",
   "execution_count": null,
   "metadata": {
    "collapsed": true
   },
   "outputs": [],
   "source": []
  },
  {
   "cell_type": "code",
   "execution_count": 49,
   "metadata": {
    "collapsed": true
   },
   "outputs": [],
   "source": [
    "def power_binom_proptest(test_func, p_null, prop, nobs, alpha=0.05, args=(), kwds=None, item=None, use_idx=False):\n",
    "    \"\"\"calculate power for proportion test by explicit numeration of sample space\n",
    "    \n",
    "    \n",
    "    argument `item` is currently to avoid having to figure out the return of test_func\n",
    "    None if return is pvalue, integer for index of pvalue if tuple is returned\n",
    "    \n",
    "    \"\"\"\n",
    "    if kwds is None:\n",
    "        kwds = {}\n",
    "        \n",
    "    sample_space = np.arange(nobs + 1)\n",
    "    try:\n",
    "        # TODO: how do we vectorize, if res were a instance with pvalue attribute, then it would be easier.\n",
    "        res = test_func(sample_space, nobs, *args)\n",
    "        #if len(res) > 1 and not res.shape == sample_space.shape:\n",
    "            # assume p-value is the second term\n",
    "        if item is not None:\n",
    "            res = res[item]\n",
    "    except Exception:\n",
    "        # assume test_func is not vectorized\n",
    "        if item is None:\n",
    "            res = [test_func(x, nobs, p_null, *args, **kwds) for x in sample_space]\n",
    "        else:\n",
    "            res = [test_func(x, nobs, p_null, *args, **kwds)[item] for x in sample_space]\n",
    "    \n",
    "    pvalues = np.asarray(res)\n",
    "    rej_indicator = (pvalues <= alpha)\n",
    "    if use_idx:\n",
    "        # This evaluates the pmf at all points, useful for non-interval rejection regions\n",
    "        x_rej = sample_space[rej_indicator]\n",
    "        power = stats.binom.pmf(x_rej, nobs, prop).sum()\n",
    "        return power, x_rej\n",
    "    else:\n",
    "        # use critical values, assumes standard two tails, two-sided only for now\n",
    "        c = np.nonzero(np.diff(rej_indicator))[0]\n",
    "        if len(c) == 2:\n",
    "            low = c[0]\n",
    "            upp = c[1] + 1\n",
    "        else:\n",
    "            raise NotImplementedError('currently only two sided hypothesis tests')\n",
    "            \n",
    "        power = power_binom_reject(low, upp, prop, nobs)\n",
    "        \n",
    "        return power, (low, upp)\n",
    "    "
   ]
  },
  {
   "cell_type": "markdown",
   "metadata": {},
   "source": [
    "We can use this function to check the size of the two binomial tests. Both results are what we already had before and agree with the results of R packages."
   ]
  },
  {
   "cell_type": "code",
   "execution_count": 50,
   "metadata": {
    "collapsed": false
   },
   "outputs": [
    {
     "name": "stdout",
     "output_type": "stream",
     "text": [
      "(0.047092254594638852, (4, 15))\n",
      "(0.047092254594638484, array([ 0,  1,  2,  3,  4, 15, 16, 17, 18, 19, 20, 21, 22, 23, 24, 25, 26,\n",
      "       27, 28, 29, 30]))\n"
     ]
    }
   ],
   "source": [
    "print(power_binom_proptest(smprop.binom_test, p_null, p_null, nobs))\n",
    "print(power_binom_proptest(smprop.binom_test, p_null, p_null, nobs, use_idx=True))\n",
    "# 0.04709225  R library MESS: power.binom.test(n = 30, p0 = 0.3, pa = 0.3)"
   ]
  },
  {
   "cell_type": "code",
   "execution_count": null,
   "metadata": {
    "collapsed": true
   },
   "outputs": [],
   "source": []
  },
  {
   "cell_type": "code",
   "execution_count": 51,
   "metadata": {
    "collapsed": false
   },
   "outputs": [
    {
     "name": "stdout",
     "output_type": "stream",
     "text": [
      "(0.026253878803726705, (3, 15))\n",
      "(0.026253878803726503, array([ 0,  1,  2,  3, 15, 16, 17, 18, 19, 20, 21, 22, 23, 24, 25, 26, 27,\n",
      "       28, 29, 30]))\n"
     ]
    }
   ],
   "source": [
    "print(power_binom_proptest(binom_test_centered, p_null, p_null, nobs))\n",
    "print(power_binom_proptest(binom_test_centered, p_null, p_null, nobs, use_idx=True))\n",
    "# 0.02625388 from exactci: powerBinom(n = 30, p0 = 0.3, p1 = 0.3, strict=TRUE)"
   ]
  },
  {
   "cell_type": "markdown",
   "metadata": {},
   "source": [
    "We obtain the power of the test at a proportion that is different from the proportion of the null hypothesis. Using the minlike binomial test the power if the true proportion is 0.5 is 0.57, the power for the central binomial test differs only in the 5th decimal from this."
   ]
  },
  {
   "cell_type": "code",
   "execution_count": 52,
   "metadata": {
    "collapsed": false
   },
   "outputs": [
    {
     "name": "stdout",
     "output_type": "stream",
     "text": [
      "(0.57226196210831415, (4, 15))\n",
      "(0.57226196210830982, array([ 0,  1,  2,  3,  4, 15, 16, 17, 18, 19, 20, 21, 22, 23, 24, 25, 26,\n",
      "       27, 28, 29, 30]))\n"
     ]
    }
   ],
   "source": [
    "print(power_binom_proptest(smprop.binom_test, p_null, 0.5, nobs))\n",
    "print(power_binom_proptest(smprop.binom_test, p_null, 0.5, nobs, use_idx=True))\n",
    "# 0.572262  R library MESS: power.binom.test(n = 30, p0 = 0.3, pa = 0.5)"
   ]
  },
  {
   "cell_type": "code",
   "execution_count": 53,
   "metadata": {
    "collapsed": false
   },
   "outputs": [
    {
     "name": "stdout",
     "output_type": "stream",
     "text": [
      "(0.57223643921315681, (3, 15))\n",
      "(0.57223643921315248, array([ 0,  1,  2,  3, 15, 16, 17, 18, 19, 20, 21, 22, 23, 24, 25, 26, 27,\n",
      "       28, 29, 30]))\n"
     ]
    }
   ],
   "source": [
    "print(power_binom_proptest(binom_test_centered, p_null, 0.5, nobs))\n",
    "print(power_binom_proptest(binom_test_centered, p_null, 0.5, nobs, use_idx=True))\n",
    "# 0.5722364 from exactci: powerBinom(n = 30, p0 = 0.3, p1 = 0.5, strict=TRUE)"
   ]
  },
  {
   "cell_type": "markdown",
   "metadata": {},
   "source": [
    "surprisingly this also works in vectorized for to calculate the power for a set of alternatives."
   ]
  },
  {
   "cell_type": "code",
   "execution_count": 54,
   "metadata": {
    "collapsed": false
   },
   "outputs": [
    {
     "data": {
      "text/plain": [
       "array([[ 0.1       ,  0.82450516,  0.64743921],\n",
       "       [ 0.15      ,  0.52447582,  0.32166697],\n",
       "       [ 0.2       ,  0.25546448,  0.12294203],\n",
       "       [ 0.25      ,  0.10061913,  0.04019886],\n",
       "       [ 0.3       ,  0.04709225,  0.02625388],\n",
       "       [ 0.35      ,  0.07270746,  0.067086  ],\n",
       "       [ 0.4       ,  0.17687913,  0.17568238],\n",
       "       [ 0.45      ,  0.35539727,  0.35519769],\n",
       "       [ 0.5       ,  0.57226196,  0.57223644],\n",
       "       [ 0.55      ,  0.76909418,  0.76909177],\n",
       "       [ 0.6       ,  0.90294333,  0.90294317],\n",
       "       [ 0.65      ,  0.96991631,  0.9699163 ],\n",
       "       [ 0.7       ,  0.99362965,  0.99362965],\n",
       "       [ 0.75      ,  0.99918101,  0.99918101],\n",
       "       [ 0.8       ,  0.99994761,  0.99994761]])"
      ]
     },
     "execution_count": 54,
     "metadata": {},
     "output_type": "execute_result"
    }
   ],
   "source": [
    "p1 = np.linspace(0.1, 0.8, 15)\n",
    "pbminlike = power_binom_proptest(smprop.binom_test, p_null, p1, nobs)\n",
    "pbcentral = power_binom_proptest(binom_test_centered, p_null, p1, nobs)\n",
    "pow_bt = np.column_stack((p1, pbminlike[0], pbcentral[0]))\n",
    "pow_bt"
   ]
  },
  {
   "cell_type": "markdown",
   "metadata": {},
   "source": [
    "to check this let's use a list comprehension and explicitly loop over all alternative proportions"
   ]
  },
  {
   "cell_type": "code",
   "execution_count": 55,
   "metadata": {
    "collapsed": false
   },
   "outputs": [
    {
     "data": {
      "text/plain": [
       "[(0.82450515656089784, (4, 15)),\n",
       " (0.52447582459902431, (4, 15)),\n",
       " (0.25546448035198721, (4, 15)),\n",
       " (0.10061913372879633, (4, 15)),\n",
       " (0.047092254594638908, (4, 15)),\n",
       " (0.072707457651031357, (4, 15)),\n",
       " (0.17687912757321209, (4, 15)),\n",
       " (0.3553972715831355, (4, 15)),\n",
       " (0.57226196210831415, (4, 15)),\n",
       " (0.76909417955357151, (4, 15)),\n",
       " (0.90294333311242181, (4, 15)),\n",
       " (0.96991630631719361, (4, 15)),\n",
       " (0.99362965380106261, (4, 15)),\n",
       " (0.99918101085734667, (4, 15)),\n",
       " (0.99994761271288934, (4, 15))]"
      ]
     },
     "execution_count": 55,
     "metadata": {},
     "output_type": "execute_result"
    }
   ],
   "source": [
    "[power_binom_proptest(smprop.binom_test, p_null, p1_, nobs) for p1_ in p1]"
   ]
  },
  {
   "cell_type": "markdown",
   "metadata": {},
   "source": [
    "And finally a plot."
   ]
  },
  {
   "cell_type": "code",
   "execution_count": 56,
   "metadata": {
    "collapsed": false
   },
   "outputs": [
    {
     "data": {
      "text/plain": [
       "<matplotlib.legend.Legend at 0xab87b00>"
      ]
     },
     "execution_count": 56,
     "metadata": {},
     "output_type": "execute_result"
    },
    {
     "data": {
      "image/png": "[encoded data removed]",
      "text/plain": [
       "<matplotlib.figure.Figure at 0xab87860>"
      ]
     },
     "metadata": {},
     "output_type": "display_data"
    }
   ],
   "source": [
    "import matplotlib.pyplot as plt\n",
    "plt.figure(figsize=(8, 6))\n",
    "plt.plot(pow_bt[:, 0], pow_bt[:, 1], label='minlike')\n",
    "plt.plot(pow_bt[:, 0], pow_bt[:, 2], label='central')\n",
    "plt.legend(loc='lower right')\n",
    "#plt.show()"
   ]
  },
  {
   "cell_type": "markdown",
   "metadata": {},
   "source": [
    "From the plot we can see that both binomial test have the same power for large true proportions, but the standard minlike binomial test is more powerful than the central binomial test for small true proportions. For example, if the true proportion is 0.15, then the probability of rejecting the null hypothesis are 0.52 versus 0.32. We can verify that the two R packages produce the same result"
   ]
  },
  {
   "cell_type": "code",
   "execution_count": 57,
   "metadata": {
    "collapsed": false
   },
   "outputs": [
    {
     "name": "stdout",
     "output_type": "stream",
     "text": [
      "[ 0.15        0.52447582  0.32166697]\n"
     ]
    }
   ],
   "source": [
    "# 0.5244758 power.binom.test(n = 30, p0 = 0.3, pa = 0.15)\n",
    "# 0.321667  powerBinom(n = 30, p0 = 0.3, p1 = 0.15, strict=TRUE)\n",
    "print(pow_bt[1,:])"
   ]
  },
  {
   "cell_type": "markdown",
   "metadata": {},
   "source": [
    "### Power as a function of nobs"
   ]
  },
  {
   "cell_type": "code",
   "execution_count": 58,
   "metadata": {
    "collapsed": false
   },
   "outputs": [
    {
     "data": {
      "text/plain": [
       "[(0.57223643921315681, (3, 15)),\n",
       " (0.6399669107049708, (4, 15)),\n",
       " (0.56998461764305863, (4, 16)),\n",
       " (0.63583922386169445, (4, 16)),\n",
       " (0.56791996222455055, (4, 17)),\n",
       " (0.63206233229720976, (4, 17)),\n",
       " (0.69114679822814651, (5, 17)),\n",
       " (0.62858903440064717, (5, 18)),\n",
       " (0.68645084290255953, (5, 18)),\n",
       " (0.7388025247055342, (5, 18)),\n",
       " (0.68209018097786611, (6, 19)),\n",
       " (0.7336478091810934, (6, 19)),\n",
       " (0.67801693625369797, (6, 20)),\n",
       " (0.72880881213382032, (6, 20)),\n",
       " (0.77431005532071151, (6, 20)),\n",
       " (0.72425939575356324, (7, 21)),\n",
       " (0.76930532470325352, (7, 21)),\n",
       " (0.80915383662430451, (7, 21)),\n",
       " (0.76456080520956615, (7, 22)),\n",
       " (0.80419952705314313, (8, 22)),\n",
       " (0.76005675092873848, (8, 23)),\n",
       " (0.79946934784191803, (8, 23)),\n",
       " (0.83412532028134168, (8, 23)),\n",
       " (0.79494925223816315, (9, 24)),\n",
       " (0.82955489381149028, (9, 24)),\n",
       " (0.85969535796997965, (9, 24)),\n",
       " (0.82515915208675972, (9, 25)),\n",
       " (0.85537850209764454, (10, 25)),\n",
       " (0.88147666844959838, (10, 25)),\n",
       " (0.85120253117177069, (10, 26)),\n",
       " (0.87746966430760009, (10, 26)),\n",
       " (0.89998454518500937, (11, 26)),\n",
       " (0.87357294168778787, (11, 27)),\n",
       " (0.89631613374652885, (11, 27)),\n",
       " (0.86978231200457246, (11, 28)),\n",
       " (0.89273043313360578, (11, 28)),\n",
       " (0.9123571875031885, (12, 28)),\n",
       " (0.8892256865435717, (12, 29)),\n",
       " (0.90909500377968189, (12, 29)),\n",
       " (0.92598392836486831, (12, 29)),\n",
       " (0.90589194993819355, (13, 30)),\n",
       " (0.92304364668391603, (13, 30)),\n",
       " (0.93754091885866919, (13, 30)),\n",
       " (0.92014416997635939, (13, 31)),\n",
       " (0.93491119094924324, (14, 31)),\n",
       " (0.947328884601218, (14, 31)),\n",
       " (0.93230745896854683, (14, 32)),\n",
       " (0.94499220757779534, (14, 32)),\n",
       " (0.95560880613226584, (15, 32)),\n",
       " (0.94266983364429702, (15, 33)),\n",
       " (0.95354406594706098, (15, 33)),\n",
       " (0.9403631701569205, (15, 34)),\n",
       " (0.95148455561124845, (16, 34)),\n",
       " (0.96079019453637449, (16, 34)),\n",
       " (0.94943183320176827, (16, 35)),\n",
       " (0.95897285282638978, (16, 35)),\n",
       " (0.96692370801703154, (17, 35)),\n",
       " (0.95715551699587487, (17, 36)),\n",
       " (0.96532698073444512, (17, 36)),\n",
       " (0.97211083775950236, (17, 36)),\n",
       " (0.96372523793914133, (18, 37)),\n",
       " (0.97071323829965117, (18, 37)),\n",
       " (0.97649422072829783, (18, 37)),\n",
       " (0.96930705160545516, (18, 38)),\n",
       " (0.97527496978248207, (19, 38)),\n",
       " (0.98019588266426305, (19, 38)),\n",
       " (0.97404473985665685, (19, 39)),\n",
       " (0.9791353399760685, (19, 39)),\n",
       " (0.98331998698757472, (20, 39)),\n",
       " (0.97806235410269993, (20, 40))]"
      ]
     },
     "execution_count": 58,
     "metadata": {},
     "output_type": "execute_result"
    }
   ],
   "source": [
    "nobs_arr = np.arange(30, 100)\n",
    "#this doesn't work vectorized in nobs\n",
    "pbcentral_nobs = [power_binom_proptest(binom_test_centered, p_null, 0.5, nobs_) for nobs_ in nobs_arr]\n",
    "pbcentral_nobs"
   ]
  },
  {
   "cell_type": "code",
   "execution_count": 59,
   "metadata": {
    "collapsed": false
   },
   "outputs": [
    {
     "data": {
      "text/plain": [
       "[(0.57226196210831415, (4, 15)),\n",
       " (0.6399669107049708, (4, 15)),\n",
       " (0.56998461764305863, (4, 16)),\n",
       " (0.63583922386169445, (4, 16)),\n",
       " (0.69620740180835128, (4, 16)),\n",
       " (0.63207178033189859, (5, 17)),\n",
       " (0.69114679822814651, (5, 17)),\n",
       " (0.74431582297256682, (5, 17)),\n",
       " (0.68645084290255953, (5, 18)),\n",
       " (0.7388025247055342, (5, 18)),\n",
       " (0.68209018097786611, (6, 19)),\n",
       " (0.7336478091810934, (6, 19)),\n",
       " (0.77960188076758619, (6, 19)),\n",
       " (0.81981199159417895, (6, 19)),\n",
       " (0.77431223359280932, (7, 20)),\n",
       " (0.81435254341931784, (7, 20)),\n",
       " (0.76930532470325352, (7, 21)),\n",
       " (0.80915383662430451, (7, 21)),\n",
       " (0.84383690828378721, (7, 21)),\n",
       " (0.80419952705314313, (8, 22)),\n",
       " (0.83888242159912874, (8, 22)),\n",
       " (0.86878157550036506, (8, 22)),\n",
       " (0.83412613720018536, (9, 23)),\n",
       " (0.86416102739275724, (9, 23)),\n",
       " (0.82955489381149028, (9, 24)),\n",
       " (0.85969535796997965, (9, 24)),\n",
       " (0.88559735796142425, (9, 24)),\n",
       " (0.85537850209764454, (10, 25)),\n",
       " (0.88147666844959838, (10, 25)),\n",
       " (0.90373690643325377, (10, 25)),\n",
       " (0.87746996155257628, (11, 26)),\n",
       " (0.89998454518500937, (11, 26)),\n",
       " (0.87357294168778787, (11, 27)),\n",
       " (0.89631613374652885, (11, 27)),\n",
       " (0.91567859457304746, (11, 27)),\n",
       " (0.89273054230762783, (12, 28)),\n",
       " (0.9123571875031885, (12, 28)),\n",
       " (0.92896436165278928, (12, 28)),\n",
       " (0.94287287762251693, (12, 28)),\n",
       " (0.92598399384178798, (13, 29)),\n",
       " (0.94019538363476485, (13, 29)),\n",
       " (0.92304364668391603, (13, 30)),\n",
       " (0.93754091885866919, (13, 30)),\n",
       " (0.94967817277525135, (13, 30)),\n",
       " (0.93491119094924324, (14, 31)),\n",
       " (0.947328884601218, (14, 31)),\n",
       " (0.95767696528284429, (14, 31)),\n",
       " (0.9449922309236829, (15, 32)),\n",
       " (0.95560880613226584, (15, 32)),\n",
       " (0.96441830716955212, (15, 32)),\n",
       " (0.95354406594706098, (15, 33)),\n",
       " (0.96260592717138593, (15, 33)),\n",
       " (0.95148455561124845, (16, 34)),\n",
       " (0.96079019453637449, (16, 34)),\n",
       " (0.96851387575308567, (16, 34)),\n",
       " (0.95897286108157542, (17, 35)),\n",
       " (0.96692370801703154, (17, 35)),\n",
       " (0.97349844766997706, (17, 35)),\n",
       " (0.97889469676577523, (17, 35)),\n",
       " (0.9721108426575078, (18, 36)),\n",
       " (0.97770124172141426, (18, 36)),\n",
       " (0.97071323829965117, (18, 37)),\n",
       " (0.97649422072829783, (18, 37)),\n",
       " (0.98124288505673463, (18, 37)),\n",
       " (0.97527496978248207, (19, 38)),\n",
       " (0.98019588266426305, (19, 38)),\n",
       " (0.98422594080420933, (19, 38)),\n",
       " (0.97913534169473704, (20, 39)),\n",
       " (0.98331998698757472, (20, 39)),\n",
       " (0.98673744747201031, (20, 39))]"
      ]
     },
     "execution_count": 59,
     "metadata": {},
     "output_type": "execute_result"
    }
   ],
   "source": [
    "pbminlike_nobs = [power_binom_proptest(smprop.binom_test, p_null, 0.5, nobs_) for nobs_ in nobs_arr]\n",
    "pbminlike_nobs"
   ]
  },
  {
   "cell_type": "code",
   "execution_count": 60,
   "metadata": {
    "collapsed": false
   },
   "outputs": [
    {
     "data": {
      "text/plain": [
       "array([[ 30.        ,   0.57226196,   0.57223644],\n",
       "       [ 31.        ,   0.63996691,   0.63996691],\n",
       "       [ 32.        ,   0.56998462,   0.56998462],\n",
       "       [ 33.        ,   0.63583922,   0.63583922],\n",
       "       [ 34.        ,   0.6962074 ,   0.56791996],\n",
       "       [ 35.        ,   0.63207178,   0.63206233],\n",
       "       [ 36.        ,   0.6911468 ,   0.6911468 ],\n",
       "       [ 37.        ,   0.74431582,   0.62858903],\n",
       "       [ 38.        ,   0.68645084,   0.68645084],\n",
       "       [ 39.        ,   0.73880252,   0.73880252],\n",
       "       [ 40.        ,   0.68209018,   0.68209018],\n",
       "       [ 41.        ,   0.73364781,   0.73364781],\n",
       "       [ 42.        ,   0.77960188,   0.67801694],\n",
       "       [ 43.        ,   0.81981199,   0.72880881],\n",
       "       [ 44.        ,   0.77431223,   0.77431006],\n",
       "       [ 45.        ,   0.81435254,   0.7242594 ],\n",
       "       [ 46.        ,   0.76930532,   0.76930532],\n",
       "       [ 47.        ,   0.80915384,   0.80915384],\n",
       "       [ 48.        ,   0.84383691,   0.76456081],\n",
       "       [ 49.        ,   0.80419953,   0.80419953],\n",
       "       [ 50.        ,   0.83888242,   0.76005675],\n",
       "       [ 51.        ,   0.86878158,   0.79946935],\n",
       "       [ 52.        ,   0.83412614,   0.83412532],\n",
       "       [ 53.        ,   0.86416103,   0.79494925],\n",
       "       [ 54.        ,   0.82955489,   0.82955489],\n",
       "       [ 55.        ,   0.85969536,   0.85969536],\n",
       "       [ 56.        ,   0.88559736,   0.82515915],\n",
       "       [ 57.        ,   0.8553785 ,   0.8553785 ],\n",
       "       [ 58.        ,   0.88147667,   0.88147667],\n",
       "       [ 59.        ,   0.90373691,   0.85120253],\n",
       "       [ 60.        ,   0.87746996,   0.87746966],\n",
       "       [ 61.        ,   0.89998455,   0.89998455],\n",
       "       [ 62.        ,   0.87357294,   0.87357294],\n",
       "       [ 63.        ,   0.89631613,   0.89631613],\n",
       "       [ 64.        ,   0.91567859,   0.86978231],\n",
       "       [ 65.        ,   0.89273054,   0.89273043],\n",
       "       [ 66.        ,   0.91235719,   0.91235719],\n",
       "       [ 67.        ,   0.92896436,   0.88922569],\n",
       "       [ 68.        ,   0.94287288,   0.909095  ],\n",
       "       [ 69.        ,   0.92598399,   0.92598393],\n",
       "       [ 70.        ,   0.94019538,   0.90589195],\n",
       "       [ 71.        ,   0.92304365,   0.92304365],\n",
       "       [ 72.        ,   0.93754092,   0.93754092],\n",
       "       [ 73.        ,   0.94967817,   0.92014417],\n",
       "       [ 74.        ,   0.93491119,   0.93491119],\n",
       "       [ 75.        ,   0.94732888,   0.94732888],\n",
       "       [ 76.        ,   0.95767697,   0.93230746],\n",
       "       [ 77.        ,   0.94499223,   0.94499221],\n",
       "       [ 78.        ,   0.95560881,   0.95560881],\n",
       "       [ 79.        ,   0.96441831,   0.94266983],\n",
       "       [ 80.        ,   0.95354407,   0.95354407],\n",
       "       [ 81.        ,   0.96260593,   0.94036317],\n",
       "       [ 82.        ,   0.95148456,   0.95148456],\n",
       "       [ 83.        ,   0.96079019,   0.96079019],\n",
       "       [ 84.        ,   0.96851388,   0.94943183],\n",
       "       [ 85.        ,   0.95897286,   0.95897285],\n",
       "       [ 86.        ,   0.96692371,   0.96692371],\n",
       "       [ 87.        ,   0.97349845,   0.95715552],\n",
       "       [ 88.        ,   0.9788947 ,   0.96532698],\n",
       "       [ 89.        ,   0.97211084,   0.97211084],\n",
       "       [ 90.        ,   0.97770124,   0.96372524],\n",
       "       [ 91.        ,   0.97071324,   0.97071324],\n",
       "       [ 92.        ,   0.97649422,   0.97649422],\n",
       "       [ 93.        ,   0.98124289,   0.96930705],\n",
       "       [ 94.        ,   0.97527497,   0.97527497],\n",
       "       [ 95.        ,   0.98019588,   0.98019588],\n",
       "       [ 96.        ,   0.98422594,   0.97404474],\n",
       "       [ 97.        ,   0.97913534,   0.97913534],\n",
       "       [ 98.        ,   0.98331999,   0.98331999],\n",
       "       [ 99.        ,   0.98673745,   0.97806235]])"
      ]
     },
     "execution_count": 60,
     "metadata": {},
     "output_type": "execute_result"
    }
   ],
   "source": [
    "pbcentral_nobs_arr, rej_minlike = list(zip(*pbcentral_nobs))\n",
    "pbcentral_nobs_arr\n",
    "pbminlike_nobs_arr, rej_minlike = list(zip(*pbminlike_nobs))\n",
    "np.column_stack((nobs_arr, pbminlike_nobs_arr, pbcentral_nobs_arr))"
   ]
  },
  {
   "cell_type": "code",
   "execution_count": 61,
   "metadata": {
    "collapsed": false
   },
   "outputs": [
    {
     "data": {
      "text/plain": [
       "<matplotlib.legend.Legend at 0xac44c50>"
      ]
     },
     "execution_count": 61,
     "metadata": {},
     "output_type": "execute_result"
    },
    {
     "data": {
      "image/png": "[encoded data removed]",
      "text/plain": [
       "<matplotlib.figure.Figure at 0xac29630>"
      ]
     },
     "metadata": {},
     "output_type": "display_data"
    }
   ],
   "source": [
    "plt.figure(figsize=(8, 6))\n",
    "plt.plot(nobs_arr, pbminlike_nobs_arr, label='minlike')\n",
    "plt.plot(nobs_arr, pbcentral_nobs_arr, label='central')\n",
    "plt.legend(loc='lower right')"
   ]
  },
  {
   "cell_type": "code",
   "execution_count": 62,
   "metadata": {
    "collapsed": false
   },
   "outputs": [
    {
     "name": "stdout",
     "output_type": "stream",
     "text": [
      "[ True  True  True  True False False False  True  True  True]\n"
     ]
    },
    {
     "data": {
      "text/plain": [
       "array([3, 6], dtype=int64)"
      ]
     },
     "execution_count": 62,
     "metadata": {},
     "output_type": "execute_result"
    }
   ],
   "source": [
    "xx = (np.arange(10)<4) | (np.arange(10) > 6)\n",
    "print(xx)\n",
    "np.nonzero(np.diff(xx))[0]"
   ]
  },
  {
   "cell_type": "code",
   "execution_count": 63,
   "metadata": {
    "collapsed": false
   },
   "outputs": [
    {
     "data": {
      "text/plain": [
       "(0.3, 30)"
      ]
     },
     "execution_count": 63,
     "metadata": {},
     "output_type": "execute_result"
    }
   ],
   "source": [
    "p_null, nobs\n"
   ]
  },
  {
   "cell_type": "markdown",
   "metadata": {},
   "source": [
    "## Power and tests based on normal distribution\n",
    "\n",
    "\n",
    "The following is still messy. The formulas look simple but are a bit confusing. There are also several different version for normal distribution based hypothesis tests and power calculations. The examples try to match up some examples from various references but that is not completely successful yet, either because of bugs in my code or because different versions are used."
   ]
  },
  {
   "cell_type": "markdown",
   "metadata": {},
   "source": [
    "Lachine summarizes sample size calculations for proportions based on the normal distribution if we only consider the power in one tail. In this case we have an explicit formula for the required sample size. This is a good approximation to two sided tests if the probability to be in the small tail is negligible and useful for quick calculations. However, solving the sample size that correctly takes both tails into account can be done numerically without much computational effort."
   ]
  },
  {
   "cell_type": "code",
   "execution_count": 64,
   "metadata": {
    "collapsed": true
   },
   "outputs": [],
   "source": [
    "# from Lachine 1981 equ (3) and (4)\n",
    "\n",
    "from scipy import stats\n",
    "def sample_size_normal_greater(diff, std_null, std_alt, alpha=0.05, power=0.9):\n",
    "    crit_alpha, crit_pow = stats.norm.isf(alpha), stats.norm.isf(1 - power)\n",
    "    return ((crit_alpha * std_null + crit_pow * std_alt) / np.abs(diff))**2\n",
    "\n",
    "def power_normal_greater(diff, std_null, std_alt, nobs, alpha=0.05):\n",
    "    crit_alpha = stats.norm.isf(alpha)\n",
    "    crit_pow = (np.sqrt(nobs) * np.abs(diff) - crit_alpha * std_null) / std_alt\n",
    "    return stats.norm.cdf(crit_pow)"
   ]
  },
  {
   "cell_type": "code",
   "execution_count": 65,
   "metadata": {
    "collapsed": false
   },
   "outputs": [
    {
     "data": {
      "text/plain": [
       "0.75280935132909166"
      ]
     },
     "execution_count": 65,
     "metadata": {},
     "output_type": "execute_result"
    }
   ],
   "source": [
    "pa = 0.5\n",
    "power_normal_greater(pa - p_null, np.sqrt(p_null * (1 - p_null)), np.sqrt(pa * (1 - pa)), 30, alpha=0.05)"
   ]
  },
  {
   "cell_type": "code",
   "execution_count": 66,
   "metadata": {
    "collapsed": false
   },
   "outputs": [
    {
     "data": {
      "text/plain": [
       "29.999189245636149"
      ]
     },
     "execution_count": 66,
     "metadata": {},
     "output_type": "execute_result"
    }
   ],
   "source": [
    "std_null, std_alt = np.sqrt(p_null * (1 - p_null)), np.sqrt(pa * (1 - pa))\n",
    "sample_size_normal_greater(pa - p_null, std_null, std_alt, alpha=0.05, power=0.7528)"
   ]
  },
  {
   "cell_type": "code",
   "execution_count": 67,
   "metadata": {
    "collapsed": false
   },
   "outputs": [
    {
     "data": {
      "text/plain": [
       "0.27039432496290688"
      ]
     },
     "execution_count": 67,
     "metadata": {},
     "output_type": "execute_result"
    }
   ],
   "source": [
    "p0 = 0.6\n",
    "pa = 0.5\n",
    "power_normal_greater(pa - p0, np.sqrt(p0 * (1 - p0)), np.sqrt(pa * (1 - pa)), 25, alpha=0.05)"
   ]
  },
  {
   "cell_type": "code",
   "execution_count": 68,
   "metadata": {
    "collapsed": false
   },
   "outputs": [
    {
     "data": {
      "text/plain": [
       "0.40695068348471369"
      ]
     },
     "execution_count": 68,
     "metadata": {},
     "output_type": "execute_result"
    }
   ],
   "source": [
    "p0 = 0.5\n",
    "pa = 0.4\n",
    "power_normal_greater(pa - p0, np.sqrt(p0 * (1 - p0)), np.sqrt(pa * (1 - pa)), 50, alpha=0.05)"
   ]
  },
  {
   "cell_type": "code",
   "execution_count": 69,
   "metadata": {
    "collapsed": false
   },
   "outputs": [
    {
     "data": {
      "text/plain": [
       "0.90673162370556504"
      ]
     },
     "execution_count": 69,
     "metadata": {},
     "output_type": "execute_result"
    }
   ],
   "source": [
    "p0 = 0.3\n",
    "pa = 0.5\n",
    "diff = pa - p0\n",
    "power_normal_greater(diff, np.sqrt(p0 * (1 - p0)), np.sqrt(pa * (1 - pa)), 50, alpha=0.05)"
   ]
  },
  {
   "cell_type": "code",
   "execution_count": 70,
   "metadata": {
    "collapsed": false
   },
   "outputs": [
    {
     "data": {
      "text/plain": [
       "0.80742957881382105"
      ]
     },
     "execution_count": 70,
     "metadata": {},
     "output_type": "execute_result"
    }
   ],
   "source": [
    "p0 = 0.5\n",
    "pa = 0.5\n",
    "diff = pa - p0\n",
    "diff = 0.2\n",
    "power_normal_greater(diff, np.sqrt(p0 * (1 - p0)), np.sqrt(pa * (1 - pa)), 50, alpha=0.025)\n",
    "# 0.80743 PASS manual example Chow, Shao, and Wang (2008)  2-sided S(Phat)"
   ]
  },
  {
   "cell_type": "code",
   "execution_count": 71,
   "metadata": {
    "collapsed": false
   },
   "outputs": [
    {
     "data": {
      "text/plain": [
       "0.80125278346378259"
      ]
     },
     "execution_count": 71,
     "metadata": {},
     "output_type": "execute_result"
    }
   ],
   "source": [
    "p0 = 0.5\n",
    "pa = 0.6\n",
    "diff = pa - p0\n",
    "power_normal_greater(diff, np.sqrt(p0 * (1 - p0)), np.sqrt(pa * (1 - pa)), 153, alpha=0.05)\n",
    "# 0.80125 PASS doc example from Ryan (2013) for one-sided alternative"
   ]
  },
  {
   "cell_type": "code",
   "execution_count": 72,
   "metadata": {
    "collapsed": true
   },
   "outputs": [],
   "source": [
    "# copied and adjusted from statsmodels.stats.power\n",
    "def normal_power(effect_size, nobs, alpha, alternative='two-sided', std_null=1, std_alt=1):\n",
    "    '''Calculate power of a normal distributed test statistic\n",
    "\n",
    "    '''\n",
    "    d = effect_size\n",
    "\n",
    "    if alternative in ['two-sided', '2s']:\n",
    "        alpha_ = alpha / 2.  #no inplace changes, doesn't work\n",
    "    elif alternative in ['smaller', 'larger']:\n",
    "        alpha_ = alpha\n",
    "    else:\n",
    "        raise ValueError(\"alternative has to be 'two-sided', 'larger' \" +\n",
    "                         \"or 'smaller'\")\n",
    "\n",
    "    pow_ = 0\n",
    "    if alternative in ['two-sided', '2s', 'larger']:\n",
    "        crit = stats.norm.isf(alpha_)\n",
    "        pow_ = stats.norm.sf((crit* std_null - d*np.sqrt(nobs))/std_alt)\n",
    "        crit_pow = (np.sqrt(nobs) * np.abs(diff) - crit * std_null) / std_alt\n",
    "    if alternative in ['two-sided', '2s', 'smaller']:\n",
    "        crit = stats.norm.ppf(alpha_)\n",
    "        pow_ += stats.norm.cdf((crit* std_null - d*np.sqrt(nobs))/std_alt)\n",
    "    return pow_ #, (crit* std_null - d*np.sqrt(nobs))/std_alt, (crit* std_null - d*np.sqrt(nobs))/std_alt, crit_pow\n"
   ]
  },
  {
   "cell_type": "code",
   "execution_count": 73,
   "metadata": {
    "collapsed": false
   },
   "outputs": [
    {
     "name": "stdout",
     "output_type": "stream",
     "text": [
      "0.807430419433 0.192569580567\n"
     ]
    }
   ],
   "source": [
    "p0 = 0.5\n",
    "pa = 0.5\n",
    "alpha = 0.05\n",
    "nobs_ = 50\n",
    "effect_size = diff = 0.2\n",
    "std_null, std_alt = np.sqrt(p0 * (1 - p0)), np.sqrt(pa * (1 - pa))\n",
    "po = normal_power(effect_size, nobs_, alpha, alternative='two-sided', std_null=std_null, std_alt=std_null)\n",
    "print(po, 1-po)\n",
    "# close to above 0.80742957881382105, closer to pass 0.80743"
   ]
  },
  {
   "cell_type": "code",
   "execution_count": 74,
   "metadata": {
    "collapsed": false
   },
   "outputs": [
    {
     "name": "stdout",
     "output_type": "stream",
     "text": [
      "0.801252783464\n"
     ]
    },
    {
     "data": {
      "text/plain": [
       "0.80125278346378259"
      ]
     },
     "execution_count": 74,
     "metadata": {},
     "output_type": "execute_result"
    }
   ],
   "source": [
    "p0 = 0.5\n",
    "pa = 0.6\n",
    "diff = pa - p0\n",
    "effect_size = diff\n",
    "nobs_ = 153\n",
    "alpha = 0.05\n",
    "std_null, std_alt = np.sqrt(p0 * (1 - p0)), np.sqrt(pa * (1 - pa))\n",
    "po = normal_power(effect_size, nobs_, alpha, alternative='larger', std_null=std_null, std_alt=std_alt)\n",
    "# 0.80125 PASS doc example from Ryan (2013) for one-sided alternative\n",
    "print(power_normal_greater(diff, np.sqrt(p0 * (1 - p0)), np.sqrt(pa * (1 - pa)), 153, alpha=0.05))\n",
    "po"
   ]
  },
  {
   "cell_type": "markdown",
   "metadata": {},
   "source": [
    "check size (power at null)"
   ]
  },
  {
   "cell_type": "code",
   "execution_count": 75,
   "metadata": {
    "collapsed": false
   },
   "outputs": [
    {
     "data": {
      "text/plain": [
       "0.049999999999999975"
      ]
     },
     "execution_count": 75,
     "metadata": {},
     "output_type": "execute_result"
    }
   ],
   "source": [
    "p0 = 0.6\n",
    "pa = 0.6\n",
    "diff = pa - p0\n",
    "effect_size = diff\n",
    "nobs_ = 153\n",
    "alpha = 0.05\n",
    "std_null, std_alt = np.sqrt(p0 * (1 - p0)), np.sqrt(pa * (1 - pa))\n",
    "po = normal_power(effect_size, nobs_, alpha, alternative='larger', std_null=std_null, std_alt=std_alt)\n",
    "po"
   ]
  },
  {
   "cell_type": "code",
   "execution_count": null,
   "metadata": {
    "collapsed": true
   },
   "outputs": [],
   "source": []
  },
  {
   "cell_type": "markdown",
   "metadata": {},
   "source": [
    "Next we try exact power for the already available proportion_ztest"
   ]
  },
  {
   "cell_type": "code",
   "execution_count": 76,
   "metadata": {
    "collapsed": false
   },
   "outputs": [
    {
     "data": {
      "text/plain": [
       "(2.4738633753705956, 0.013366080075435313)"
      ]
     },
     "execution_count": 76,
     "metadata": {},
     "output_type": "execute_result"
    }
   ],
   "source": [
    "p0 = 0.5\n",
    "pa = 0.6\n",
    "diff = pa - p0\n",
    "smprop.proportions_ztest(nobs_ * (pa), nobs_, value=p0, alternative='two-sided', prop_var=p0)"
   ]
  },
  {
   "cell_type": "code",
   "execution_count": 77,
   "metadata": {
    "collapsed": false
   },
   "outputs": [
    {
     "data": {
      "text/plain": [
       "(0.70824505759861689,\n",
       " array([  0,   1,   2,   3,   4,   5,   6,   7,   8,   9,  10,  11,  12,\n",
       "         13,  14,  15,  16,  17,  18,  19,  20,  21,  22,  23,  24,  25,\n",
       "         26,  27,  28,  29,  30,  31,  32,  33,  34,  35,  36,  37,  38,\n",
       "         39,  40,  41,  42,  43,  44,  45,  46,  47,  48,  49,  50,  51,\n",
       "         52,  53,  54,  55,  56,  57,  58,  59,  60,  61,  62,  63,  64,\n",
       "         89,  90,  91,  92,  93,  94,  95,  96,  97,  98,  99, 100, 101,\n",
       "        102, 103, 104, 105, 106, 107, 108, 109, 110, 111, 112, 113, 114,\n",
       "        115, 116, 117, 118, 119, 120, 121, 122, 123, 124, 125, 126, 127,\n",
       "        128, 129, 130, 131, 132, 133, 134, 135, 136, 137, 138, 139, 140,\n",
       "        141, 142, 143, 144, 145, 146, 147, 148, 149, 150, 151, 152, 153]))"
      ]
     },
     "execution_count": 77,
     "metadata": {},
     "output_type": "execute_result"
    }
   ],
   "source": [
    "#power_binom_proptest(smprop.proportions_ztest, p0, pa, nobs_, use_idx=1)  #this raises exception\n",
    "\n",
    "pzt = lambda x, nobs, p_null: smprop.proportions_ztest(x, nobs, value=p_null, prop_var=p_null)\n",
    "power_binom_proptest(pzt, p0, pa, nobs_, item=1, use_idx=1)   #use_idx=False raises exception"
   ]
  },
  {
   "cell_type": "code",
   "execution_count": 78,
   "metadata": {
    "collapsed": false
   },
   "outputs": [
    {
     "data": {
      "text/plain": [
       "(0.5, 0.6, 153)"
      ]
     },
     "execution_count": 78,
     "metadata": {},
     "output_type": "execute_result"
    }
   ],
   "source": [
    "p0, pa, nobs_"
   ]
  },
  {
   "cell_type": "code",
   "execution_count": 79,
   "metadata": {
    "collapsed": false
   },
   "outputs": [
    {
     "data": {
      "text/plain": [
       "array([[  6.00000000e+01,   7.63288179e-03,   1.00000000e+00],\n",
       "       [  6.10000000e+01,   1.22036066e-02,   1.00000000e+00],\n",
       "       [  6.20000000e+01,   1.90520464e-02,   1.00000000e+00],\n",
       "       [  6.30000000e+01,   2.90490222e-02,   1.00000000e+00],\n",
       "       [  6.40000000e+01,   4.32662880e-02,   1.00000000e+00],\n",
       "       [  6.50000000e+01,   6.29648259e-02,   0.00000000e+00],\n",
       "       [  6.60000000e+01,   8.95550744e-02,   0.00000000e+00],\n",
       "       [  6.70000000e+01,   1.24523921e-01,   0.00000000e+00],\n",
       "       [  6.80000000e+01,   1.69327297e-01,   0.00000000e+00],\n",
       "       [  6.90000000e+01,   2.25252906e-01,   0.00000000e+00],\n",
       "       [  7.00000000e+01,   2.93264235e-01,   0.00000000e+00],\n",
       "       [  7.10000000e+01,   3.73843327e-01,   0.00000000e+00],\n",
       "       [  7.20000000e+01,   4.66854271e-01,   0.00000000e+00],\n",
       "       [  7.30000000e+01,   5.71450573e-01,   0.00000000e+00],\n",
       "       [  7.40000000e+01,   6.86046505e-01,   0.00000000e+00],\n",
       "       [  7.50000000e+01,   8.08365156e-01,   0.00000000e+00],\n",
       "       [  7.60000000e+01,   9.35565055e-01,   0.00000000e+00],\n",
       "       [  7.70000000e+01,   9.35565055e-01,   0.00000000e+00],\n",
       "       [  7.80000000e+01,   8.08365156e-01,   0.00000000e+00],\n",
       "       [  7.90000000e+01,   6.86046505e-01,   0.00000000e+00],\n",
       "       [  8.00000000e+01,   5.71450573e-01,   0.00000000e+00],\n",
       "       [  8.10000000e+01,   4.66854271e-01,   0.00000000e+00],\n",
       "       [  8.20000000e+01,   3.73843327e-01,   0.00000000e+00],\n",
       "       [  8.30000000e+01,   2.93264235e-01,   0.00000000e+00],\n",
       "       [  8.40000000e+01,   2.25252906e-01,   0.00000000e+00],\n",
       "       [  8.50000000e+01,   1.69327297e-01,   0.00000000e+00],\n",
       "       [  8.60000000e+01,   1.24523921e-01,   0.00000000e+00],\n",
       "       [  8.70000000e+01,   8.95550744e-02,   0.00000000e+00],\n",
       "       [  8.80000000e+01,   6.29648259e-02,   0.00000000e+00],\n",
       "       [  8.90000000e+01,   4.32662880e-02,   1.00000000e+00],\n",
       "       [  9.00000000e+01,   2.90490222e-02,   1.00000000e+00],\n",
       "       [  9.10000000e+01,   1.90520464e-02,   1.00000000e+00],\n",
       "       [  9.20000000e+01,   1.22036066e-02,   1.00000000e+00],\n",
       "       [  9.30000000e+01,   7.63288179e-03,   1.00000000e+00],\n",
       "       [  9.40000000e+01,   4.66088119e-03,   1.00000000e+00],\n",
       "       [  9.50000000e+01,   2.77817268e-03,   1.00000000e+00],\n",
       "       [  9.60000000e+01,   1.61622222e-03,   1.00000000e+00],\n",
       "       [  9.70000000e+01,   9.17567722e-04,   1.00000000e+00],\n",
       "       [  9.80000000e+01,   5.08299924e-04,   1.00000000e+00]])"
      ]
     },
     "execution_count": 79,
     "metadata": {},
     "output_type": "execute_result"
    }
   ],
   "source": [
    "pv = [smprop.proportions_ztest(x, nobs_, value=p0, alternative='two-sided', prop_var=p0)[1] for x in np.arange(60, 99)]\n",
    "pv = np.asarray(pv)\n",
    "np.column_stack((np.arange(60, 99), pv, pv <=0.05))"
   ]
  },
  {
   "cell_type": "markdown",
   "metadata": {},
   "source": [
    "The power using the exact distribution is lower than using the asymptotic normal distribution.\n",
    "The rejection region looks correct, so how do we verify that we calculated the power correctly?\n",
    "\n",
    "\n",
    "PASS reports the following values\n",
    "\n",
    "```\n",
    "                          Exact  Z-Test  Z-Test  Z-Test  Z-Test\n",
    "                  Target   Test   S(P0)  S(P0)C    S(P)   S(P)C\n",
    "n    P0     P1    Alpha   Power   Power   Power   Power   Power\n",
    "10 0.5000 0.6000 0.0500 0.04804 0.04804 0.04804 0.17958 0.17958\n",
    "50 0.5000 0.6000 0.0500 0.23706 0.33613 0.23706 0.33613 0.23706\n",
    "```"
   ]
  },
  {
   "cell_type": "code",
   "execution_count": 80,
   "metadata": {
    "collapsed": false
   },
   "outputs": [
    {
     "data": {
      "text/plain": [
       "(0.33613256480043147,\n",
       " array([ 0,  1,  2,  3,  4,  5,  6,  7,  8,  9, 10, 11, 12, 13, 14, 15, 16,\n",
       "        17, 18, 32, 33, 34, 35, 36, 37, 38, 39, 40, 41, 42, 43, 44, 45, 46,\n",
       "        47, 48, 49, 50]))"
      ]
     },
     "execution_count": 80,
     "metadata": {},
     "output_type": "execute_result"
    }
   ],
   "source": [
    "p0, pa, nobs_ = 0.5, 0.6, 50\n",
    "power_binom_proptest(pzt, p0, pa, nobs_, item=1, use_idx=1)"
   ]
  },
  {
   "cell_type": "markdown",
   "metadata": {},
   "source": [
    "0.33613 is the same as reported by PASS for the exact power of the score test, `S(P0)`. Unfortunately for testing purposes, in this example Wald and score test report identical numbers for n=50."
   ]
  },
  {
   "cell_type": "code",
   "execution_count": null,
   "metadata": {
    "collapsed": true
   },
   "outputs": [],
   "source": []
  },
  {
   "cell_type": "code",
   "execution_count": 81,
   "metadata": {
    "collapsed": false
   },
   "outputs": [
    {
     "data": {
      "text/plain": [
       "(0.33613256480043147,\n",
       " array([ 0,  1,  2,  3,  4,  5,  6,  7,  8,  9, 10, 11, 12, 13, 14, 15, 16,\n",
       "        17, 18, 32, 33, 34, 35, 36, 37, 38, 39, 40, 41, 42, 43, 44, 45, 46,\n",
       "        47, 48, 49, 50]))"
      ]
     },
     "execution_count": 81,
     "metadata": {},
     "output_type": "execute_result"
    }
   ],
   "source": [
    "pzt_wald = lambda x, nobs, p_null: smprop.proportions_ztest(x, nobs, value=p_null, prop_var=None)\n",
    "power_binom_proptest(pzt_wald, p0, pa, nobs_, item=1, use_idx=1)"
   ]
  },
  {
   "cell_type": "markdown",
   "metadata": {},
   "source": [
    "10 0.5000 0.6000 0.0500 0.04804 0.04804 0.04804 0.17958 0.17958"
   ]
  },
  {
   "cell_type": "code",
   "execution_count": 82,
   "metadata": {
    "collapsed": false
   },
   "outputs": [
    {
     "data": {
      "text/plain": [
       "(0.17958430719999999, array([ 0,  1,  2,  8,  9, 10]))"
      ]
     },
     "execution_count": 82,
     "metadata": {},
     "output_type": "execute_result"
    }
   ],
   "source": [
    "nobs_ = 10\n",
    "pzt_wald = lambda x, nobs, p_null: smprop.proportions_ztest(x, nobs, value=p_null, prop_var=None)\n",
    "power_binom_proptest(pzt_wald, p0, pa, nobs_, item=1, use_idx=1)"
   ]
  },
  {
   "cell_type": "markdown",
   "metadata": {},
   "source": [
    "This is the same as the Wald test, while the score test has much lower  power in this example. It is only around 0.048 which is the same in PASS and our calculations at the provided print precision."
   ]
  },
  {
   "cell_type": "code",
   "execution_count": 83,
   "metadata": {
    "collapsed": false
   },
   "outputs": [
    {
     "data": {
      "text/plain": [
       "(0.048035123200000036, array([ 0,  1,  9, 10]))"
      ]
     },
     "execution_count": 83,
     "metadata": {},
     "output_type": "execute_result"
    }
   ],
   "source": [
    "power_binom_proptest(pzt, p0, pa, nobs_, item=1, use_idx=1)"
   ]
  },
  {
   "cell_type": "markdown",
   "metadata": {},
   "source": [
    "Know we know how to use it, and I added keywords to the `power_binom_proptest` above, we can drop the use of lambda functions."
   ]
  },
  {
   "cell_type": "code",
   "execution_count": 84,
   "metadata": {
    "collapsed": false
   },
   "outputs": [
    {
     "data": {
      "text/plain": [
       "(0.17958430719999999, array([ 0,  1,  2,  8,  9, 10]))"
      ]
     },
     "execution_count": 84,
     "metadata": {},
     "output_type": "execute_result"
    }
   ],
   "source": [
    "power_binom_proptest(smprop.proportions_ztest, p0, pa, nobs_, item=1, use_idx=1)"
   ]
  },
  {
   "cell_type": "code",
   "execution_count": 85,
   "metadata": {
    "collapsed": false
   },
   "outputs": [
    {
     "data": {
      "text/plain": [
       "(0.048035123200000036, array([ 0,  1,  9, 10]))"
      ]
     },
     "execution_count": 85,
     "metadata": {},
     "output_type": "execute_result"
    }
   ],
   "source": [
    "power_binom_proptest(smprop.proportions_ztest, p0, pa, nobs_, kwds={'prop_var': p0}, item=1, use_idx=1)"
   ]
  },
  {
   "cell_type": "code",
   "execution_count": 86,
   "metadata": {
    "collapsed": false
   },
   "outputs": [
    {
     "name": "stdout",
     "output_type": "stream",
     "text": [
      "(0.17958430720000004, (2, 8))\n",
      "(0.048035123199999974, (1, 9))\n"
     ]
    }
   ],
   "source": [
    "print(power_binom_proptest(smprop.proportions_ztest, p0, pa, nobs_, item=1, use_idx=0))\n",
    "print(power_binom_proptest(smprop.proportions_ztest, p0, pa, nobs_, kwds={'prop_var': p0}, item=1, use_idx=0))"
   ]
  },
  {
   "cell_type": "code",
   "execution_count": null,
   "metadata": {
    "collapsed": true
   },
   "outputs": [],
   "source": []
  },
  {
   "cell_type": "markdown",
   "metadata": {},
   "source": [
    "## Sensitivity to misspecification\n",
    "\n",
    "This is just a quick experiment.\n",
    "\n",
    "\n",
    "We go back to the exact binomial test in the standard minlike version with power evaluated using the exact distribution. The underlying assumption is that we have a set of independent Bernoulli experiments with identical probability of an event.\n",
    "\n",
    "As a simple deviation we consider that we have 3 groups of observations with different true proportions. For the initial analysis we calculate the rejection rate, size and power, using Monte Carlo.\n",
    "\n",
    "It looks like in this example with three fixed groups we have underdispersion, and the rejection ratio is lower than with a sinlge group. That means that in this case the binomial test is even more conservative than in the case where the binomial distribution is correctly specified. This is a surprising because unobserved heterogeneity and mixture distribution should lead to over dispersion, but we keep the composition of the population and of the sample fixed in this experiment and consequently do not get extra variation from a changing sample composition.\n",
    "\n",
    "I had used equal group sizes in my intial choice of numbers for the Monte Carlo setup. That case did not show any overdispersion in the sampled proportions. This needs further investigation."
   ]
  },
  {
   "cell_type": "code",
   "execution_count": 87,
   "metadata": {
    "collapsed": false
   },
   "outputs": [
    {
     "data": {
      "text/plain": [
       "0.89742182699143069"
      ]
     },
     "execution_count": 87,
     "metadata": {},
     "output_type": "execute_result"
    }
   ],
   "source": [
    "smprop.binom_test(31, 60)"
   ]
  },
  {
   "cell_type": "code",
   "execution_count": 88,
   "metadata": {
    "collapsed": false
   },
   "outputs": [
    {
     "data": {
      "text/plain": [
       "(0.027340133868077938, (21, 39))"
      ]
     },
     "execution_count": 88,
     "metadata": {},
     "output_type": "execute_result"
    }
   ],
   "source": [
    "power_binom_proptest(smprop.binom_test, 0.5, 0.5, 60)"
   ]
  },
  {
   "cell_type": "code",
   "execution_count": 89,
   "metadata": {
    "collapsed": false
   },
   "outputs": [
    {
     "data": {
      "text/plain": [
       "(29.9985, 15.327697749999999, 14.999999962499999)"
      ]
     },
     "execution_count": 89,
     "metadata": {},
     "output_type": "execute_result"
    }
   ],
   "source": [
    "# our binomial sampling process\n",
    "rvs = np.random.binomial(60, 0.5, size=10000)\n",
    "m = rvs.mean()\n",
    "m, rvs.var(), m / 60 * (1 - m / 60) * 60"
   ]
  },
  {
   "cell_type": "code",
   "execution_count": 90,
   "metadata": {
    "collapsed": false
   },
   "outputs": [],
   "source": [
    "def binom_mix_rvs(size=1):\n",
    "    #group fraction\n",
    "    # np.random.multinomial(60, [1./3] * 3, size=size)\n",
    "    # assume fixed population group size, instead of multinomial\n",
    "    rvs1 = np.random.binomial([26, 20, 14], [0.33847, 0.5, 0.8], size=(size, 3))\n",
    "    return rvs1.sum(1)\n"
   ]
  },
  {
   "cell_type": "code",
   "execution_count": 91,
   "metadata": {
    "collapsed": false
   },
   "outputs": [
    {
     "name": "stdout",
     "output_type": "stream",
     "text": [
      "0.0289\n"
     ]
    }
   ],
   "source": [
    "# true binomial distribution\n",
    "\n",
    "n_rep = 10000\n",
    "res0 = np.empty(n_rep, float)\n",
    "res0.fill(np.nan)\n",
    "for i in range(n_rep):\n",
    "    xc = np.random.binomial(60, 0.5)\n",
    "    res0[i] = smprop.binom_test(xc, 60)\n",
    "\n",
    "print((res0 < 0.05).mean())"
   ]
  },
  {
   "cell_type": "code",
   "execution_count": 92,
   "metadata": {
    "collapsed": false
   },
   "outputs": [
    {
     "name": "stdout",
     "output_type": "stream",
     "text": [
      "0.0186\n"
     ]
    }
   ],
   "source": [
    "# mixed binomial distribution\n",
    "\n",
    "n_rep = 10000\n",
    "res0 = np.empty(n_rep, float)\n",
    "res0.fill(np.nan)\n",
    "for i in range(n_rep):\n",
    "    xc = binom_mix_rvs()\n",
    "    res0[i] = smprop.binom_test(xc, 60)\n",
    "\n",
    "print((res0 < 0.05).mean())\n"
   ]
  },
  {
   "cell_type": "markdown",
   "metadata": {},
   "source": [
    "These two Monte Carlo experiments show that the rejection rate under the null hypothesis drops from 0.0276 to 0.0148. As expected, the rejection rate in the Monte Carlo corresponds closely to the exact power calculations which is 0.0273.\n",
    "\n",
    "Below are some checks to see whether the random sampling works as expected."
   ]
  },
  {
   "cell_type": "code",
   "execution_count": 93,
   "metadata": {
    "collapsed": false
   },
   "outputs": [
    {
     "data": {
      "text/plain": [
       "array([[18, 23, 19],\n",
       "       [25, 20, 15],\n",
       "       [15, 19, 26],\n",
       "       [22, 13, 25],\n",
       "       [25, 18, 17],\n",
       "       [21, 23, 16],\n",
       "       [22, 19, 19],\n",
       "       [16, 16, 28],\n",
       "       [27, 16, 17],\n",
       "       [15, 18, 27]])"
      ]
     },
     "execution_count": 93,
     "metadata": {},
     "output_type": "execute_result"
    }
   ],
   "source": [
    "np.random.multinomial(60, [1./3] * 3, size=10)"
   ]
  },
  {
   "cell_type": "code",
   "execution_count": 94,
   "metadata": {
    "collapsed": false
   },
   "outputs": [
    {
     "data": {
      "text/plain": [
       "array([[11,  5, 15],\n",
       "       [11,  4, 15],\n",
       "       [ 9,  6, 16],\n",
       "       [14,  3, 15],\n",
       "       [ 9,  8, 10],\n",
       "       [ 8,  4, 17],\n",
       "       [10,  3, 18],\n",
       "       [11,  7, 15],\n",
       "       [ 9,  4, 21],\n",
       "       [ 8,  5, 17]])"
      ]
     },
     "execution_count": 94,
     "metadata": {},
     "output_type": "execute_result"
    }
   ],
   "source": [
    "np.random.binomial([25, 10, 25], [0.4, 0.5, 0.6], size=(10, 3))"
   ]
  },
  {
   "cell_type": "code",
   "execution_count": 95,
   "metadata": {
    "collapsed": false
   },
   "outputs": [
    {
     "data": {
      "text/plain": [
       "array([  7.974,   9.855,  11.926])"
      ]
     },
     "execution_count": 95,
     "metadata": {},
     "output_type": "execute_result"
    }
   ],
   "source": [
    "np.random.binomial(20, [0.4, 0.5, 0.6], size=(1000, 3)).mean(0)"
   ]
  },
  {
   "cell_type": "code",
   "execution_count": 96,
   "metadata": {
    "collapsed": false
   },
   "outputs": [
    {
     "data": {
      "text/plain": [
       "(30.011600000000001,\n",
       " 13.012865439999997,\n",
       " 14.999997757333333,\n",
       " 14.783116666666668)"
      ]
     },
     "execution_count": 96,
     "metadata": {},
     "output_type": "execute_result"
    }
   ],
   "source": [
    "rvs1 = binom_mix_rvs(size=100000)\n",
    "m = rvs1.mean()\n",
    "m, rvs1.var(), m / 60 * (1 - m / 60) * 60, (rvs1 / 60 * (1 - rvs1 / 60) * 60).mean()"
   ]
  },
  {
   "cell_type": "code",
   "execution_count": 97,
   "metadata": {
    "collapsed": false
   },
   "outputs": [
    {
     "data": {
      "text/plain": [
       "30.000219999999999"
      ]
     },
     "execution_count": 97,
     "metadata": {},
     "output_type": "execute_result"
    }
   ],
   "source": [
    "(np.array([26, 20, 14]) * [0.33847, 0.5, 0.8]).sum()"
   ]
  },
  {
   "cell_type": "code",
   "execution_count": null,
   "metadata": {
    "collapsed": false
   },
   "outputs": [],
   "source": []
  },
  {
   "cell_type": "markdown",
   "metadata": {},
   "source": [
    "## Summary\n",
    "\n",
    "Now, we have almost all the necessary pieces working and verified on a few example. The next step is to clean this up, convert it to usage friendly function or classes and convert the examples to unit tests.\n",
    "\n",
    "We have now two exact hypothesis tests, `minlike` and `central`, two tests based on asymptotic normality, `wald` and `score`, and we have three ways of calculating the power, using the exact distribution, using the asymptotic normal distribution, and the already existing power calculation based on effect size that does not distinguish that variance is different under the null and under the alternative.\n",
    "\n",
    "We are still missing some examples, power calculations for confidence intervals and equivalence tests, where some functions are already available in statsmodels.stats.proportions. We still need a function that finds the sample size given the functions for the power. \n",
    "Vectorization for different alternatives or number of observations depends on the implementation details and does not work across all cases. "
   ]
  },
  {
   "cell_type": "code",
   "execution_count": null,
   "metadata": {
    "collapsed": true
   },
   "outputs": [],
   "source": []
  },
  {
   "cell_type": "markdown",
   "metadata": {},
   "source": [
    "## trying more\n",
    "\n",
    "The rest below is just some unsorted experiments to try a few more things."
   ]
  },
  {
   "cell_type": "code",
   "execution_count": null,
   "metadata": {
    "collapsed": true
   },
   "outputs": [],
   "source": []
  },
  {
   "cell_type": "markdown",
   "metadata": {},
   "source": [
    "TODO: The following is not correct because when we change the sample size, then the rejection region also changes."
   ]
  },
  {
   "cell_type": "code",
   "execution_count": 98,
   "metadata": {
    "collapsed": false
   },
   "outputs": [
    {
     "data": {
      "text/plain": [
       "[0.047092254594638852,\n",
       " 0.047775312714239675,\n",
       " 0.051602724514375933,\n",
       " 0.05859877650596669,\n",
       " 0.068789625299809865,\n",
       " 0.082186755965548378,\n",
       " 0.098772671226915978,\n",
       " 0.118489659792336,\n",
       " 0.1412321565494524,\n",
       " 0.16684288140347131,\n",
       " 0.19511265080608356,\n",
       " 0.22578351411938377,\n",
       " 0.25855468655666075,\n",
       " 0.29309063531712998,\n",
       " 0.32903062340607336,\n",
       " 0.36599901949754499,\n",
       " 0.4036157318615764,\n",
       " 0.44150620799796952,\n",
       " 0.47931054705529291,\n",
       " 0.51669138801043579]"
      ]
     },
     "execution_count": 98,
     "metadata": {},
     "output_type": "execute_result"
    }
   ],
   "source": [
    "[power_binom_reject(4, 15, p_null, nobs_) for nobs_ in range(30, 50)]"
   ]
  },
  {
   "cell_type": "markdown",
   "metadata": {},
   "source": [
    "We can also calculate this in vectorized form for the set of sample sizes and all three tests:"
   ]
  },
  {
   "cell_type": "code",
   "execution_count": 99,
   "metadata": {
    "collapsed": false
   },
   "outputs": [
    {
     "data": {
      "text/plain": [
       "array([[ 0.04709225,  0.02625388,  0.07020749],\n",
       "       [ 0.04777531,  0.03102743,  0.07728123],\n",
       "       [ 0.05160272,  0.03820442,  0.0883212 ],\n",
       "       [ 0.05859878,  0.04792633,  0.10324071],\n",
       "       [ 0.06878963,  0.06032282,  0.12191353],\n",
       "       [ 0.08218676,  0.07549525,  0.14416465],\n",
       "       [ 0.09877267,  0.09350311,  0.16976553],\n",
       "       [ 0.11848966,  0.11435385,  0.19843379],\n",
       "       [ 0.14123216,  0.1379965 ,  0.2298369 ],\n",
       "       [ 0.16684288,  0.16431907,  0.26359926],\n",
       "       [ 0.19511265,  0.19314968,  0.29931183],\n",
       "       [ 0.22578351,  0.22426089,  0.33654338],\n",
       "       [ 0.25855469,  0.25737665,  0.37485255],\n",
       "       [ 0.29309064,  0.29218144,  0.41379979],\n",
       "       [ 0.32903062,  0.32833054,  0.45295869],\n",
       "       [ 0.36599902,  0.36546115,  0.49192593],\n",
       "       [ 0.40361573,  0.40320337,  0.53032969],\n",
       "       [ 0.44150621,  0.4411907 ,  0.56783618],\n",
       "       [ 0.47931055,  0.47906961,  0.60415428],\n",
       "       [ 0.51669139,  0.51650774,  0.63903825]])"
      ]
     },
     "execution_count": 99,
     "metadata": {},
     "output_type": "execute_result"
    }
   ],
   "source": [
    "power_binom_reject(np.array([4, 3, 4]), np.array([15, 15, 14]), p_null, np.arange(30, 50)[:, None])"
   ]
  },
  {
   "cell_type": "code",
   "execution_count": null,
   "metadata": {
    "collapsed": true
   },
   "outputs": [],
   "source": []
  },
  {
   "cell_type": "code",
   "execution_count": null,
   "metadata": {
    "collapsed": true
   },
   "outputs": [],
   "source": []
  },
  {
   "cell_type": "markdown",
   "metadata": {},
   "source": [
    "## Trying out two sample proportion, incorrect if nobs is scalar instead of same length as count."
   ]
  },
  {
   "cell_type": "code",
   "execution_count": 100,
   "metadata": {
    "collapsed": false
   },
   "outputs": [
    {
     "data": {
      "text/plain": [
       "(-0.39840953644479782, 0.69032832946419354)"
      ]
     },
     "execution_count": 100,
     "metadata": {},
     "output_type": "execute_result"
    }
   ],
   "source": [
    "smprop.proportions_ztest(np.array([6,7]), nobs, value=0, alternative='two-sided', prop_var=p_null)"
   ]
  },
  {
   "cell_type": "code",
   "execution_count": 101,
   "metadata": {
    "collapsed": false
   },
   "outputs": [
    {
     "data": {
      "text/plain": [
       "(-0.56343616981901101, 0.57313791338407638)"
      ]
     },
     "execution_count": 101,
     "metadata": {},
     "output_type": "execute_result"
    }
   ],
   "source": [
    "smprop.proportions_ztest(np.array([6,7]), nobs*np.ones(2), value=1/30, alternative='two-sided', prop_var=p_null)"
   ]
  },
  {
   "cell_type": "code",
   "execution_count": 102,
   "metadata": {
    "collapsed": false
   },
   "outputs": [
    {
     "data": {
      "text/plain": [
       "(-0.79681907288959564, 0.42555611641912894)"
      ]
     },
     "execution_count": 102,
     "metadata": {},
     "output_type": "execute_result"
    }
   ],
   "source": [
    "smprop.proportions_ztest(np.array([6,7]), nobs, value=1/30, alternative='two-sided', prop_var=p_null)"
   ]
  },
  {
   "cell_type": "code",
   "execution_count": 103,
   "metadata": {
    "collapsed": false
   },
   "outputs": [
    {
     "data": {
      "text/plain": [
       "(8.293564511085938e-17, 0.99999999999999989)"
      ]
     },
     "execution_count": 103,
     "metadata": {},
     "output_type": "execute_result"
    }
   ],
   "source": [
    "smprop.proportions_ztest(np.array([6,7]), nobs, value=-1/30, alternative='two-sided', prop_var=p_null)"
   ]
  },
  {
   "cell_type": "code",
   "execution_count": 104,
   "metadata": {
    "collapsed": false
   },
   "outputs": [
    {
     "data": {
      "text/plain": [
       "(5.864435705996961e-17, 1.0)"
      ]
     },
     "execution_count": 104,
     "metadata": {},
     "output_type": "execute_result"
    }
   ],
   "source": [
    "smprop.proportions_ztest(np.array([6,7]), nobs*np.ones(2), value=-1/30, alternative='two-sided', prop_var=p_null)"
   ]
  },
  {
   "cell_type": "code",
   "execution_count": null,
   "metadata": {
    "collapsed": true
   },
   "outputs": [],
   "source": []
  },
  {
   "cell_type": "code",
   "execution_count": 105,
   "metadata": {
    "collapsed": true
   },
   "outputs": [],
   "source": [
    "#?smprop.proportion_confint()"
   ]
  },
  {
   "cell_type": "code",
   "execution_count": 106,
   "metadata": {
    "collapsed": false
   },
   "outputs": [
    {
     "data": {
      "text/plain": [
       "(0.081984475816844427, 0.38468219084982225)"
      ]
     },
     "execution_count": 106,
     "metadata": {},
     "output_type": "execute_result"
    }
   ],
   "source": [
    "smprop.proportion_confint(count, nobs)"
   ]
  },
  {
   "cell_type": "code",
   "execution_count": 107,
   "metadata": {
    "collapsed": false
   },
   "outputs": [
    {
     "data": {
      "text/plain": [
       "0.34470140912721514"
      ]
     },
     "execution_count": 107,
     "metadata": {},
     "output_type": "execute_result"
    }
   ],
   "source": [
    "from statsmodels.stats.proportion import proportion_effectsize\n",
    "es = proportion_effectsize(0.4, 0.5)\n",
    "smpow.NormalIndPower().solve_power(es, nobs1=60, alpha=0.05, ratio=0)\n",
    "# R pwr 0.3447014091272153"
   ]
  },
  {
   "cell_type": "code",
   "execution_count": 108,
   "metadata": {
    "collapsed": false
   },
   "outputs": [
    {
     "data": {
      "text/plain": [
       "259.154426739506"
      ]
     },
     "execution_count": 108,
     "metadata": {},
     "output_type": "execute_result"
    }
   ],
   "source": [
    "smpow.NormalIndPower().solve_power(proportion_effectsize(0.4, 0.5), nobs1=None, alpha=0.05, ratio=0, power=0.9)"
   ]
  },
  {
   "cell_type": "code",
   "execution_count": null,
   "metadata": {
    "collapsed": true
   },
   "outputs": [],
   "source": []
  },
  {
   "cell_type": "code",
   "execution_count": null,
   "metadata": {
    "collapsed": true
   },
   "outputs": [],
   "source": []
  },
  {
   "cell_type": "code",
   "execution_count": null,
   "metadata": {
    "collapsed": true
   },
   "outputs": [],
   "source": []
  },
  {
   "cell_type": "code",
   "execution_count": 109,
   "metadata": {
    "collapsed": false
   },
   "outputs": [
    {
     "data": {
      "text/plain": [
       "(0.94849873047984967,\n",
       " ((0.75834970530451862,\n",
       "   0.86051080550098236,\n",
       "   -2.5599758686988578,\n",
       "   1.6821766224528543),))"
      ]
     },
     "execution_count": 109,
     "metadata": {},
     "output_type": "execute_result"
    }
   ],
   "source": [
    "low, upp, nobs, p_alt = 0.7, 0.9, 509/2, 0.82\n",
    "smprop.power_ztost_prop(low, upp, nobs, p_alt, alpha=0.025, dist='norm',\n",
    "                     variance_prop=None, discrete=True, continuity=0,\n",
    "                     critval_continuity=0)\n",
    "    "
   ]
  },
  {
   "cell_type": "code",
   "execution_count": 110,
   "metadata": {
    "collapsed": false
   },
   "outputs": [
    {
     "data": {
      "text/plain": [
       "(0.95000875677852759,\n",
       " ((0.75207687201030093,\n",
       "   0.86590768457946699,\n",
       "   -1.7341121433755891,\n",
       "   2.3848884863189261),))"
      ]
     },
     "execution_count": 110,
     "metadata": {},
     "output_type": "execute_result"
    }
   ],
   "source": [
    "low, upp, nobs, p_alt = 0.7, 0.9, 419/2, 0.8\n",
    "smprop.power_ztost_prop(low, upp, nobs, p_alt, alpha=0.05, dist='norm',\n",
    "                     variance_prop=None, discrete=False, continuity=0,\n",
    "                     critval_continuity=0)"
   ]
  },
  {
   "cell_type": "code",
   "execution_count": 111,
   "metadata": {
    "collapsed": false
   },
   "outputs": [
    {
     "data": {
      "text/plain": [
       "(0.95811685170327532,\n",
       " ((0.75220160721176865,\n",
       "   0.86582602622195959,\n",
       "   -1.812033626524528,\n",
       "   2.4628099694678625),))"
      ]
     },
     "execution_count": 111,
     "metadata": {},
     "output_type": "execute_result"
    }
   ],
   "source": [
    "low, upp, nobs, p_alt = 0.7, 0.9, 417/2, 0.8\n",
    "smprop.power_ztost_prop(low, upp, nobs, p_alt, alpha=0.05, dist='norm',\n",
    "                     variance_prop=None, discrete=False, continuity=1,\n",
    "                     critval_continuity=0)"
   ]
  },
  {
   "cell_type": "code",
   "execution_count": 112,
   "metadata": {
    "collapsed": false
   },
   "outputs": [
    {
     "data": {
      "text/plain": [
       "(0.95447058338704227,\n",
       " ((158.0, 181.0, 5695.1110612524499, 6528.3652241583422),))"
      ]
     },
     "execution_count": 112,
     "metadata": {},
     "output_type": "execute_result"
    }
   ],
   "source": [
    "low, upp, nobs, p_alt = 0.7, 0.9, 420/2, 0.8\n",
    "smprop.power_ztost_prop(low, upp, nobs, p_alt, alpha=0.05, dist='binom',\n",
    "                     variance_prop=None, discrete=False, continuity=0,\n",
    "                     critval_continuity=0)"
   ]
  },
  {
   "cell_type": "code",
   "execution_count": 113,
   "metadata": {
    "collapsed": false
   },
   "outputs": [
    {
     "data": {
      "text/plain": [
       "(0.91140841850002685,\n",
       " ((0.76242701448039996,\n",
       "   0.85913192581906617,\n",
       "   -1.4383338187061427,\n",
       "   2.2137816599366142),))"
      ]
     },
     "execution_count": 113,
     "metadata": {},
     "output_type": "execute_result"
    }
   ],
   "source": [
    "low, upp, nobs, p_alt = 0.7, 0.9, 414/2, 0.8\n",
    "smprop.power_ztost_prop(low, upp, nobs, p_alt, alpha=0.025, dist='norm',\n",
    "                     variance_prop=None, discrete=False, continuity=1,\n",
    "                     critval_continuity=0)"
   ]
  },
  {
   "cell_type": "code",
   "execution_count": null,
   "metadata": {
    "collapsed": true
   },
   "outputs": [],
   "source": []
  },
  {
   "cell_type": "code",
   "execution_count": null,
   "metadata": {
    "collapsed": true
   },
   "outputs": [],
   "source": []
  },
  {
   "cell_type": "code",
   "execution_count": 114,
   "metadata": {
    "collapsed": false
   },
   "outputs": [
    {
     "data": {
      "text/plain": [
       "(49.0, 51.0)"
      ]
     },
     "execution_count": 114,
     "metadata": {},
     "output_type": "execute_result"
    }
   ],
   "source": [
    "low, upp, nobs = 0.4, 0.6, 100\n",
    "smprop.binom_tost_reject_interval(low, upp, nobs, alpha=0.05)"
   ]
  },
  {
   "cell_type": "code",
   "execution_count": 115,
   "metadata": {
    "collapsed": false
   },
   "outputs": [
    {
     "data": {
      "text/plain": [
       "(12.0, 28.0)"
      ]
     },
     "execution_count": 115,
     "metadata": {},
     "output_type": "execute_result"
    }
   ],
   "source": [
    "value, nobs = 0.4, 50\n",
    "smprop.binom_test_reject_interval(value, nobs, alpha=0.05)"
   ]
  },
  {
   "cell_type": "code",
   "execution_count": 116,
   "metadata": {
    "collapsed": false
   },
   "outputs": [
    {
     "data": {
      "text/plain": [
       "(0.39832112950330101, 0.6016788704966991)"
      ]
     },
     "execution_count": 116,
     "metadata": {},
     "output_type": "execute_result"
    }
   ],
   "source": [
    "smprop.proportion_confint(50, 100, method='beta')"
   ]
  },
  {
   "cell_type": "code",
   "execution_count": 117,
   "metadata": {
    "collapsed": false
   },
   "outputs": [
    {
     "data": {
      "text/plain": [
       "(78.0, 84.0)"
      ]
     },
     "execution_count": 117,
     "metadata": {},
     "output_type": "execute_result"
    }
   ],
   "source": [
    "low, upp, nobs = 0.7, 0.9, 100\n",
    "smprop.binom_tost_reject_interval(low, upp, nobs, alpha=0.05)"
   ]
  },
  {
   "cell_type": "code",
   "execution_count": 118,
   "metadata": {
    "collapsed": false
   },
   "outputs": [
    {
     "data": {
      "text/plain": [
       "(0.65848903119285485, ((78.0, 85.0, 1930.0, 2105.0),))"
      ]
     },
     "execution_count": 118,
     "metadata": {},
     "output_type": "execute_result"
    }
   ],
   "source": [
    "low, upp, nobs, p_alt = 0.7, 0.9, 100, 0.8\n",
    "smprop.power_ztost_prop(low, upp, nobs, p_alt, alpha=0.05, dist='binom',\n",
    "                     variance_prop=None, discrete=False, continuity=0,\n",
    "                     critval_continuity=0)"
   ]
  },
  {
   "cell_type": "code",
   "execution_count": 119,
   "metadata": {
    "collapsed": false
   },
   "outputs": [
    {
     "data": {
      "text/plain": [
       "0.61042723749210825"
      ]
     },
     "execution_count": 119,
     "metadata": {},
     "output_type": "execute_result"
    }
   ],
   "source": [
    "low, upp, nobs, p_alt = 0.7, 0.9, 100, 0.8\n",
    "smprop.power_binom_tost(low, upp, nobs, p_alt, alpha=0.05)"
   ]
  },
  {
   "cell_type": "code",
   "execution_count": 120,
   "metadata": {
    "collapsed": false
   },
   "outputs": [
    {
     "data": {
      "text/plain": [
       "0.71661671146632"
      ]
     },
     "execution_count": 120,
     "metadata": {},
     "output_type": "execute_result"
    }
   ],
   "source": [
    "low, upp, nobs, p_alt = 0.7, 0.9, 125, 0.8\n",
    "smprop.power_binom_tost(low, upp, nobs, p_alt, alpha=0.05)"
   ]
  },
  {
   "cell_type": "code",
   "execution_count": null,
   "metadata": {
    "collapsed": true
   },
   "outputs": [],
   "source": []
  },
  {
   "cell_type": "code",
   "execution_count": null,
   "metadata": {
    "collapsed": true
   },
   "outputs": [],
   "source": []
  },
  {
   "cell_type": "code",
   "execution_count": null,
   "metadata": {
    "collapsed": true
   },
   "outputs": [],
   "source": []
  },
  {
   "cell_type": "code",
   "execution_count": 121,
   "metadata": {
    "collapsed": true
   },
   "outputs": [],
   "source": [
    "# from Lachine 1981 equ (3) and (4)\n",
    "\n",
    "from scipy import stats\n",
    "def sample_size_normal_greater(diff, std_null, std_alt, alpha=0.05, power=0.9):\n",
    "    crit_alpha, crit_pow = stats.norm.isf(alpha), stats.norm.isf(1 - power)\n",
    "    return ((crit_alpha * std_null + crit_pow * std_alt) / np.abs(diff))**2\n",
    "\n",
    "def power_normal_greater(diff, std_null, std_alt, nobs, alpha=0.05):\n",
    "    crit_alpha = stats.norm.isf(alpha)\n",
    "    crit_pow = (np.sqrt(nobs) * np.abs(diff) - crit_alpha * std_null) / std_alt\n",
    "    return stats.norm.cdf(crit_pow)"
   ]
  },
  {
   "cell_type": "code",
   "execution_count": 122,
   "metadata": {
    "collapsed": false
   },
   "outputs": [
    {
     "data": {
      "text/plain": [
       "856.38473506679793"
      ]
     },
     "execution_count": 122,
     "metadata": {},
     "output_type": "execute_result"
    }
   ],
   "source": [
    "# Note for two sample comparison we have to adjust the standard deviation for unequal sample sizes\n",
    "n_frac1 = 0.5\n",
    "n_frac2 = 1 - n_frac1\n",
    "\n",
    "# if defined by ratio: n2 = ratio * n1\n",
    "ratio = 1\n",
    "n_frac1 = 1 / ( 1. + ratio)\n",
    "n_frac2 = 1 - n_frac1\n",
    "\n",
    "\n",
    "# If we use fraction of nobs, then sample_size return nobs is total number of observations\n",
    "diff = 0.2\n",
    "std_null = std_alt = 1 * np.sqrt(1 / 0.5 + 1 / 0.5)\n",
    "nobs = sample_size_normal_greater(diff, std_null, std_alt, alpha=0.05, power=0.9)\n",
    "nobs"
   ]
  },
  {
   "cell_type": "code",
   "execution_count": 123,
   "metadata": {
    "collapsed": false
   },
   "outputs": [
    {
     "data": {
      "text/plain": [
       "0.89999999999999991"
      ]
     },
     "execution_count": 123,
     "metadata": {},
     "output_type": "execute_result"
    }
   ],
   "source": [
    "#nobs = 858\n",
    "power_normal_greater(diff, std_null, std_alt, nobs, alpha=0.05)"
   ]
  },
  {
   "cell_type": "code",
   "execution_count": 124,
   "metadata": {
    "collapsed": false
   },
   "outputs": [
    {
     "data": {
      "text/plain": [
       "(1.6448536269514729, 1.2815515655446004)"
      ]
     },
     "execution_count": 124,
     "metadata": {},
     "output_type": "execute_result"
    }
   ],
   "source": [
    "alpha=0.05; power=0.9\n",
    "stats.norm.isf(alpha), stats.norm.isf(1 - power)\n"
   ]
  },
  {
   "cell_type": "code",
   "execution_count": 125,
   "metadata": {
    "collapsed": false
   },
   "outputs": [
    {
     "data": {
      "text/plain": [
       "1.2815515655446004"
      ]
     },
     "execution_count": 125,
     "metadata": {},
     "output_type": "execute_result"
    }
   ],
   "source": [
    "crit_alpha = stats.norm.isf(alpha)\n",
    "(np.sqrt(nobs) * np.abs(diff) - crit_alpha * std_null) / std_alt"
   ]
  },
  {
   "cell_type": "code",
   "execution_count": 126,
   "metadata": {
    "collapsed": false
   },
   "outputs": [
    {
     "data": {
      "text/plain": [
       "0.89999999999999991"
      ]
     },
     "execution_count": 126,
     "metadata": {},
     "output_type": "execute_result"
    }
   ],
   "source": [
    "stats.norm.cdf(_)"
   ]
  },
  {
   "cell_type": "code",
   "execution_count": 127,
   "metadata": {
    "collapsed": false
   },
   "outputs": [
    {
     "data": {
      "text/plain": [
       "(array([ 30.,  49.]), array([ 51.,  70.]))"
      ]
     },
     "execution_count": 127,
     "metadata": {},
     "output_type": "execute_result"
    }
   ],
   "source": [
    "smprop.binom_test_reject_interval([0.4, 0.6], [100], alpha=0.05)"
   ]
  },
  {
   "cell_type": "code",
   "execution_count": null,
   "metadata": {
    "collapsed": true
   },
   "outputs": [],
   "source": []
  }
 ],
 "metadata": {
  "kernelspec": {
   "display_name": "Python 3",
   "language": "python",
   "name": "python3"
  },
  "language_info": {
   "codemirror_mode": {
    "name": "ipython",
    "version": 3
   },
   "file_extension": ".py",
   "mimetype": "text/x-python",
   "name": "python",
   "nbconvert_exporter": "python",
   "pygments_lexer": "ipython3",
   "version": "3.4.3"
  }
 },
 "nbformat": 4,
 "nbformat_minor": 0
}
