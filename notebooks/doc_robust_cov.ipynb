{
 "cells": [
  {
   "cell_type": "markdown",
   "metadata": {},
   "source": [
    "# Robust Standard Errors for Parameters"
   ]
  },
  {
   "cell_type": "markdown",
   "metadata": {},
   "source": [
    "In the following I try to get started with a description of robust estimators for the covariance of the parameter estimates.\n",
    "\n",
    "Author: Josef Perktold\n",
    "License: all rights reserved because I might want to write an article. Code is mostly public domain recipes for usage with statsmodels.\n",
    "\n",
    "related notebooks, blog articles:\n"
   ]
  },
  {
   "cell_type": "markdown",
   "metadata": {},
   "source": [
    "## Background\n",
    "\n",
    "# Why? Some theoretical background\n",
    "\n",
    "The ususal standard errors for parameter estimates are derived under the assumption that the observations are independently and identically distributed (i.i.d.) or that estimates are based on a correctly specified likelihood function. This will often not be the case with actual data or with estimators other than maximum likelihood (MLE).\n",
    "\n",
    "The simplest case is estimating with OLS when the errors are either heteroscedastic, i.e. the variance variies with the explanatory variables, or are correlated across observations, either within a cluster or autocorrelated. OLS provides a consistent estimator for the mean parameters but the standard errors for the parameters will be wrong if either heteroscedasticity or correlation is present. One solution is to use a model that explicitly takes the violation of i.i.d. into account which, however, assumes that we know what the variance function or correlation structure is. The alternative is to correct the standard errors by using an estimator for the covariance of the parameter estimates that is robust to those deviations. Specifically, we can use estimators that are robust to unspecified heteroscedasticity (HC), heteroscedasticity and autocorrelation (HAC) or to correlation of observations within a group of observations (cluster).\n",
    "\n",
    "The estimator parameters provided by OLS is also maximum likelihood estimate under the assumption of normal distributed errors and, consequently, response. However, OLS does not assume a specific distribution to obtain consistent estimates of the mean parameters. We only need that the mean function, i.e. the linear model in this case, is correctly specified. The same property extends to all distributions that are in the linear exponential family, which includes the distribution in GLM and several distribution in discrete models, for example Probit, Logit and Poisson.\n",
    "As a consequence we can also in those models consistently estimate the mean parameters even if correlation and variance function are misspecified. However, as in the case of OLS, the usual covariance parameter is not correct with these deviation and we can use robust covariance matrices to get asymptotically correct standard errors for our parameter estimates. This case is usually refered to as Quasi Maximum Likelihood estimation (QMLE).\n",
    "Note: The term QMLE is often used in a generic way, but also refers to some specific approaches. Specifically, we will not consider the quasi likelihood as defined by ..., we will mainly focus on the estimating equations or moment conditions. This means that we are maximizing a likelihood function that only depends on the first two moments in the case of distributions in the LEF, and only the first moment, i.e. the mean function, needs to be correctly specified to obtain consistent estimators for its parameters.\n",
    "\n",
    "The textbooks by Wooldridge and by Cameron and Trivedi provide a good introduction to QMLE from an econometrics perspective.\n",
    "\n",
    "The second case of using sandwich covariance matrices is when we use an estimator that does not maximize a likelihood or quasi-likelihood such as M-estimators or Generalized Method of Moments, GMM, and Generalized Estimating Equations, GEE. In these case the asymptotic covariance of the parameter estimates has the sandwich form. In MLE the sandwich form reduces to the simple standard form because of the information matrix equality which implies that the inner and outer parts of the sandwich are asymptotically the same, or have the same expectation.\n",
    "\n",
    "Statsmodels has currently M-estimators, in RLM and QuantileRegression, and moment estimators in GMM and GEE that have special forms of sandwich covariance matrices. GMM and GEE are general estimation procedures that can also reproduce MLE and QMLE estimators with simplified covariance matrices. MLE is also a special case of an M-estimator.\n",
    "\n"
   ]
  },
  {
   "cell_type": "markdown",
   "metadata": {},
   "source": [
    "## Which? An overview\n",
    "\n",
    "In the following we briefly describe the types of robust covariances that are implemented in statsmodels. I will follow a general definition for the description that is based on the moment conditions implied by an estimator.\n",
    "\n",
    "Given a set of moment conditions, score function or estimating equations $m(\\theta)$ and a matrix of derivatives of the moment conditions or Hessian $H(\\theta)$, the sandwich covariance has the general form\n",
    "\n",
    "$H^{-1} E(m m') H^{-1}$\n",
    "\n",
    "where the inner part $V = E(m m')$ is the covariance of the moment conditions across all observations with elements $E(m_i m_j')$ for observations i and j. $m_i m_j'$ is the outer product. If all observations are independent, then $E(m_i m_j') = 0$ for $i \\!= j$ which rules out correlation but still allows for unequal variances, i.e. heteroscedasticity. If all moment conditions are i.i.d., then this reduces to a variance or scale that is common to all observations.\n",
    "\n",
    "To be more specific we can consider the linear model estimate with OLS:\n",
    "\n",
    "The moment conditions are $m_i = u_i x_i$ where $u_i = y_i - x \\beta$ are the residuals and x are exogenous explanatory variables. The derivative of the moment condition with respect to the mean parameters $beta$ for observation i is the outer product $H_i = x_i x_i'$. This also corresponds to the score and hessian functions for the normal linear model after dropping the scale or error variance which is a multiplicative factor. The variance of the moment condition between observations i and j becomes\n",
    "\n",
    "$E(m_i m_j') = E(x_i u_i u_j x_j')$\n",
    "\n",
    "If all observations are uncorrelated then we only have terms $E(x_i u_i u_i x_i')$, if all errors have the same variance, then this becomes the standard OLS covariance $\\sigma_i * E(x_i x_i')$. In the estimator for the covariance the expectation are replaced by sums, so for the latter case we get the usual OLS inverse covariance matrix $\\sigma_i * X'X$. The derivative of the OLS moment condition is also $X' X$ so we obtain the covariance matrix under i.i.d. assumption as\n",
    "\n",
    "$\\sigma_i (X' X)^{-1} (X' X) (X' X)^{-1} = \\sigma_i (X' X)^{-1}$\n",
    "\n",
    "In the following we use the following shorthand notation $M = Xu$ refers to the vector of moment conditions by observation, which has rows corresponding to the number of observations and columns corresponding to the number of moment conditions. Furthermore to save on notation, we use the same notation for true or expected values and for the estimator, $H$ then refers to the empirical Hessian or derivative of the moment condition summed over observations. All statistics are evaluated at the given parameter estimate.\n",
    "\n",
    "\n",
    "### Heteroscedasticity\n",
    "\n",
    "This estimator assumes independent or uncorrelated observations, but allows for variance that varies with explanatory variables in an unspecified way.\n",
    "\n",
    "Because all cross terms are zero, the covariance of the moment condition becomes\n",
    "\n",
    "$V = M' M$ in the general and $V = Xu ' Xu$ in the OLS case.\n",
    "\n",
    "The covariance matrix of the parameter usually referred to as \"HC\" or \"HC0\" estimate is \n",
    "\n",
    "$H^{-1} (M' M) H^{-1}$ or $(X' X)^{-1} (M' M) (X' X)^{-1}$\n",
    "\n",
    "This estimator can be strongly biased in small samples and various bias or small sample corrections have been proposed, those are abbreviated with \"HC1\", \"HC2\" and \"HC3\". Those 4 estimators are available for the linear model. There are further variations like \"HC4\" that are not available. Other models only have a single \"HC\" estimator with optional small sample correction corresponding roughly to \"HC1\".\n",
    "\n",
    "(TODO details are in documentation)\n",
    "\n",
    "In some cases the model already includes a varying variance, for example a specified heteroscedasticity in WLS or the inherent variance function in GLM/LEF models like Poisson where the variance is a function of the mean. In these cases an \"HC\" robust covariance matrix protects against left-over or misspecified heteroscedasticity. That mean that we obtain asymptotically correct standard errors for the mean parameter estimates even if the included variance function is not the true variance function. An application for this is overdispersion in Poisson, where the amount of overdispersion could vary with the covariates.\n",
    "\n",
    "This is covered in all econometrics text books, details especially on small sample performance are in ...\n",
    "\n",
    "\n",
    "## Cluster correlation\n",
    "\n",
    "Often we have data that is grouped or clustered wher observations are correlated within a group or cluster but independent across clusters. Examples for this are when we observe individuals that are from the same family or location, or panel or longitudinal data with correlation across observations for the same individual but no correlation across individuals.\n",
    "\n",
    "In this case $E(x_i u_i u_j x_j')$ is zero if the i and j are in different groups, i.e $g(i) != g(j)$ where $g(i)$ is the group indicator for observation $i$, and possibly nonzero otherwise. The estimate variance of the moment conditions aggregates over clusters:\n",
    "\n",
    "$V = M_g' M_g$ \n",
    "\n",
    "where $m_g = \\sum_{i:g(i)=g} x_i u_i$ and $M_g$ is the array of all $m_g$\n",
    "\n",
    "A similar approach can be used if there are two or more cluster variables. statsmodels provides the robust covariance for one or two cluster variables.\n",
    "\n",
    "The properties of this estimator are derived under the assumption that the number of clusters becomes large and the number of observation within clusters stays constant. If the number of clusters is small, then the estimator of the standard errors can be strongly biased. In this case a small sample correction based on the number of clusters is recommended, which is also the default in statsmodels (and in Stata).\n",
    "\n",
    "main reference Cameron, Miller, ...\n",
    "\n",
    "\n",
    "\n",
    "## Heteroscedasticity and autocorrelation\n",
    "\n",
    "\n",
    "In time series the error term is often serially correlated. OLS can still provide consistent mean parameter estimates under some conditions on the explanatory variables. However, the usual OLS estimator for the standard errors will underestimate the true values if we ignore autocorrelation. \n",
    "\n",
    "Trying to apply the same aggregation as in the cluster case might not provide a positive definite and consistent (?check) estimate of the covariance matrix. Newey and West showed that a consistent covariance matrix can be obtained by aggregating kernel weighted observations. The estimator for the covariance of the moment conditions is in this case\n",
    "\n",
    "$V = \\sum{t} \\sum{i} k(i) m_t m_{t - i}'$\n",
    "\n",
    "where k is a kernel weight function.\n",
    "\n",
    "(TODO: check formula)\n",
    "\n",
    "statsmodels only implements this estimator for a given bandwidth of the kernel estimator. Optimal choice of bandwidth parameters and other approaches like withening and recoloring are not available.\n",
    "\n",
    "This estimator is also heteroscedasticity robust. A version that is only autocorrelation robust is not available in statsmodels.\n",
    "\n",
    "\n",
    "## Panel Data correlation\n",
    "\n",
    "In cluster robust standard errors the asymptotics is for a large number of clusters for fixed number of units per group. In a second kind of panel data the number of cross sectional units stays fixed while the number of observations or time periods per unit becomes large. Many examples in finance, cross country studies or longitudinal studies follow this pattern. The observations of any unit behaves similarly to a single time series in the HAC case, but with additional contemporaneous correlation across units. This case is similar to the case with two cluster variables except that one cluster size increases in the large sample behavior. Robust standard errors combine the behavior of cluster robust standard errors for contemporaneous observations with HAC robust standard errors in the time dimension. there are two ways to sequence the aggregation along the two dimensions. The Driscoll Kraay estimator first aggregates the cross sectional dimension and applies HAC kernel aggregation on the sum of cross sectional covariances. In the second kind, we compute the HAC robust standard errors for the time series of each cross sectional unit and then aggregate over units.\n",
    "\n",
    "The corresponding covariance types are called nw_groupsum (hac_groupsum) for Driscoll-Krasy and nw_panel (hac_panel) for the second type.\n",
    "\n",
    "Note: inconsistent naming in statsmodels.\n",
    "\n",
    "In this case there is no small sample correction based on the number of cross sectional units as in cluster robust standard errors. Asymptotics assume a large number of observations per unit.\n",
    "\n",
    "(I haven't seen or looked for any study that analyses the small sample behavior of these estimators.)\n",
    "\n",
    "main reference Peterson article\n",
    "\n",
    "\n"
   ]
  },
  {
   "cell_type": "markdown",
   "metadata": {},
   "source": [
    "## Implementation\n",
    "\n",
    "The following collects some implementation details.\n",
    "\n",
    "The implementation of robust covariances went through several stages of developement. The final recommended and implemented usage is as option to the `fit` methods of the models.\n",
    "\n",
    "Besides textbooks and theoretical articles the main references for the implementation where Cameron, Miller and ... for cluster robust standard errors, Peterson and the documentation of user contributed packages in Stata for panel hac robust standard errors, and the Stata manual for the choice of small sample correction. \n",
    "Note, the defaults, where there is overlap, are not everywhere the same as in Stata.\n",
    "Unit test are largely written against Stata for HC1, one way cluster, and HAC with OLS and against various other packages or publications for the remainder.\n",
    "\n",
    "The keyword arguments to `fit` are `cov_type` to choose the kind of covariance matrix, `cov_kwds` to provide arguments that are either required or optional for the specific cov_type and `use_t` to choose the distribution for inference is based on the normal and chisquare or on the t and F distributions. Theoretical results are in general based on asymptotic normality, however in small samples t or F can provide in some cases a better approximation to the distribution of parameters and test statistics.\n",
    "\n",
    "There is also a generic scaling option `scaling_factor` that can be used to adjust the covariance matrix by a given factor, see docstring below.\n",
    "\n",
    "Some examples are\n",
    "\n",
    "    resp = Poisson(y, x).fit(cov_type='HC1')\n",
    "\n",
    "    firm_cluster_year_fe_ols = sm.ols('y ~ x + C(year)', df).fit(cov_type='cluster',\n",
    "                                                                 cov_kwds={'groups': df['firmid']},\n",
    "                                                                 use_t=True)\n",
    "\n",
    "    model = ...\n",
    "    result = model.fit(cov_type='nw-panel',\n",
    "                       cov_kwds = dict(time=self.time,\n",
    "                                       maxlags=4,\n",
    "                                       use_correction='hac',\n",
    "                                       df_correction=False))\n",
    "\n",
    "\n",
    "\n",
    "### docstring\n",
    "\n",
    "partially incorrect, outdated and incomplete\n",
    "\n",
    "\n",
    "    Parameters\n",
    "    ----------\n",
    "    cov_type : string\n",
    "        the type of robust sandwich estimator to use. see Notes below\n",
    "    use_t : bool\n",
    "        If true, then the t distribution is used for inference.\n",
    "        If false, then the normal distribution is used.\n",
    "    cov_kwds : depends on cov_type\n",
    "        Required or optional arguments for robust covariance calculation.\n",
    "        see Notes below\n",
    "\n",
    "    Returns\n",
    "    -------\n",
    "    results : results instance\n",
    "        This method creates a new results instance with the requested\n",
    "        robust covariance as the default covariance of the parameters.\n",
    "        Inferential statistics like p-values and hypothesis tests will be\n",
    "        based on this covariance matrix.\n",
    "\n",
    "now used mainly to change results instance in `Results.__init__`\n",
    "\n",
    "    Notes\n",
    "    -----\n",
    "    Warning: Some of the options and defaults in cov_kwds may be changed in a\n",
    "    future version.\n",
    "\n",
    "    The covariance keywords provide an option 'scaling_factor' to adjust the\n",
    "    scaling of the covariance matrix, that is the covariance is multiplied by\n",
    "    this factor if it is given and is not `None`. This allows the user to\n",
    "    adjust the scaling of the covariance matrix to match other statistical\n",
    "    packages.\n",
    "    For example, `scaling_factor=(nobs - 1.) / (nobs - k_params)` provides a\n",
    "    correction so that the robust covariance matrices match those of Stata in\n",
    "    some models like GLM and discrete Models.\n",
    "\n",
    "    The following covariance types and required or optional arguments are\n",
    "    currently available:\n",
    "\n",
    "    - 'HC0', 'HC1', 'HC2', 'HC3' and no keyword arguments:\n",
    "        heteroscedasticity robust covariance\n",
    "        \n",
    " only available in linear model\n",
    " \n",
    " in other models only HC0 is available, the same is returned for all HCx\n",
    "        \n",
    "        \n",
    "    - 'HAC' and keywords\n",
    "\n",
    "        - `maxlag` integer (required) : number of lags to use\n",
    "        - `kernel` string (optional) : kernel, default is Bartlett\n",
    "\n",
    "weights_func, BUG: not connected and has no effect\n",
    "        \n",
    "        - `use_correction` bool (optional) : If true, use small sample\n",
    "              correction\n",
    "\n",
    "    - 'cluster' and required keyword `groups`, integer group indicator\n",
    "\n",
    "        - `groups` array_like, integer (required) :\n",
    "              index of clusters or groups\n",
    "        - `use_correction` bool (optional) :\n",
    "              If True the sandwich covariance is calulated with a small\n",
    "              sample correction.\n",
    "              If False the the sandwich covariance is calulated without\n",
    "              small sample correction.\n",
    "        - `df_correction` bool (optional)\n",
    "              If True (default), then the degrees of freedom for the\n",
    "              inferential statistics and hypothesis tests, such as\n",
    "              pvalues, f_pvalue, conf_int, and t_test and f_test, are\n",
    "              based on the number of groups minus one instead of the\n",
    "              total number of observations minus the number of explanatory\n",
    "              variables. `df_resid` of the results instance is adjusted.\n",
    "              If False, then `df_resid` of the results instance is not\n",
    "              adjusted.\n",
    "\n",
    "    - 'hac-groupsum' Driscoll and Kraay, heteroscedasticity and\n",
    "        autocorrelation robust standard errors in panel data\n",
    "        keywords\n",
    "\n",
    "        - `time` array_like (required) : index of time periods\n",
    "        - `maxlag` integer (required) : number of lags to use\n",
    "        - `kernel` string (optional) : kernel, default is Bartlett\n",
    "        - `use_correction` False or string in ['hac', 'cluster'] (optional) :\n",
    "              If False the the sandwich covariance is calulated without\n",
    "              small sample correction.\n",
    "              If `use_correction = 'cluster'` (default), then the same\n",
    "              small sample correction as in the case of 'covtype='cluster''\n",
    "              is used.\n",
    "        - `df_correction` bool (optional)\n",
    "              adjustment to df_resid, see cov_type 'cluster' above\n",
    "              #TODO: we need more options here\n",
    "\n",
    "    - 'hac-panel' heteroscedasticity and autocorrelation robust standard\n",
    "        errors in panel data.\n",
    "        The data needs to be sorted in this case, the time series for\n",
    "        each panel unit or cluster need to be stacked.\n",
    "        keywords\n",
    "\n",
    "        - `time` array_like (required) : index of time periods\n",
    "\n",
    "        - `maxlag` integer (required) : number of lags to use\n",
    "        - `kernel` string (optional) : kernel, default is Bartlett\n",
    "        - `use_correction` False or string in ['hac', 'cluster'] (optional) :\n",
    "              If False the the sandwich covariance is calulated without\n",
    "              small sample correction.\n",
    "        - `df_correction` bool (optional)\n",
    "              adjustment to df_resid, see cov_type 'cluster' above\n",
    "              #TODO: we need more options here\n",
    "\n",
    "kernel weights_func missing in both\n",
    "misnamed keyword nw_xxx hac_xxx\n",
    "\n",
    "\n",
    "    Reminder:\n",
    "    `use_correction` in \"nw-groupsum\" and \"nw-panel\" is not bool,\n",
    "    needs to be in [False, 'hac', 'cluster']\n",
    "\n",
    "    TODO: Currently there is no check for extra or misspelled keywords,\n",
    "    except in the case of cov_type `HCx`\n",
    "    \n",
    "\n",
    "### some details on panel HAC estimators \n",
    "\n",
    "(from an answer that I wrote on the mailing list https://groups.google.com/d/msg/pystatsmodels/jRoYS5Z-S_s/WwrJ37MLAgAJ)\n",
    "\n",
    "`hac-panel` where the keyword is actually `nw-panel` calculates the hac kernel sum for each time series defined by groups, and then aggregates, if I read the code and remember correctly.\n",
    "\n",
    "Based on the code in regression: \n",
    "the group_idx is internally calculated based on the time index, under the assumption that we have equal spaced time periods with no missing values in the interior (times series for individual panel units can differ in length as in unbalanced panel but only by truncation at the beginning or end).\n",
    "It looks like the time index is only used to calculate where panel units begin in the array. The time index or period labels themselves are not used.\n",
    "\n",
    "In case of gaps:\n",
    "The idea that could be used here is to complete the panel to have no gaps, but set the weight of the filled rows to zero. I haven't tried it yet but it should work for the main results. One problem with this is that the degrees of freedom are wrong, which would have to be fixed up.\n",
    "\n",
    "\n",
    "`nw-groupsum` (Driscoll Kraay) uses time periods as labels to sum over all observations with the same time label, and then calculates the hac kernel over the sums for each period, assuming that the array with cross-section sums is a time series with equal spaced periods.\n",
    "\n",
    "`nw-groupsum` (Driscoll Kraay)  can have gaps in individual timeseries, but I doubt I had used a unit test for that.\n",
    "\n",
    "\n",
    "cluster_2groups: this just aggregates according to the labels of the two groups.\n",
    "\n",
    "groups for two cluster should be either a 2d array (nobs, 2) (*) or a tuple or similar with 2 1d arrays\n",
    "e.g. groups=(self.groups, self.time)\n",
    "\n",
    "(if groups doesn't have a `shape` attribute, then we do `np.asarray(groups).T` to get the two arrays into columns. same effect as column_stack)\n",
    "\n",
    "\n",
    "\n",
    "not implemented:\n",
    "unequal spaced hac plus groups:\n",
    "An *obvious* extension would have been to allow for kernels as in newey west or similar for arbitrary distance measures based on time periods interpreted in continuous time (or points in space, or any other distance measure) and allow for groups in another direction.\n",
    "This would interpret the \"time\" index as actual location for calculating the distance between two observations, and `groups` as index for discrete 0-1 distance.\n",
    "I gave up on implementing this because I didn't find a reference and it got a bit messy to implement. IIRC I stopped half way through implementing this generic kernel covariance.\n",
    "(Now that I think about it again, this might be a similar application as the product kernels for mixed continuous and discrete variables in kde and kernel regression.)\n",
    "\n",
    "\n",
    "### HAC and kernels\n",
    "\n",
    "there was a thread on the mailing list about missing kernel options\n",
    "https://groups.google.com/forum/#!topic/pystatsmodels/5Bz-aYeJONM\n",
    "\n",
    "Note: `weights_func` or kernel for HAC is only the half kernel starting at lag zero and is assumed to be symmetric.\n",
    "\n",
    "\n",
    "### Fixed scale\n",
    "\n",
    "Only available for linear regression models OLS and WLS:\n",
    "\n",
    "    'fixed scale' and optional keyword argument 'scale' which uses\n",
    "            a predefined scale estimate with default equal to one.\n",
    "\n",
    "Similar to GLM where by default Binomial and Poisson have scale=1, but it can be changed using the `scale` argument in `GLM.fit`."
   ]
  },
  {
   "cell_type": "markdown",
   "metadata": {},
   "source": [
    "## Examples\n",
    "\n",
    "I now we finally get to the examples. In the following I use only OLS to demonstrate different robust covariance matrices.\n",
    "A comparison of HC and cluster robust covariances is in this notebook http://nbviewer.jupyter.org/github/josef-pkt/misc/blob/compare_discrete_glm_cluster/notebooks/compare_discrete_glm_gee_cluster_robust.ipynb\n",
    "\n",
    "The examples are taken mostly from the unit test suite.\n",
    "\n",
    "We start with some imports, which include two datasets and some comparison results from other statistics packages"
   ]
  },
  {
   "cell_type": "code",
   "execution_count": 1,
   "metadata": {
    "collapsed": false
   },
   "outputs": [],
   "source": [
    "import numpy as np\n",
    "#from scipy import stats\n",
    "\n",
    "from numpy.testing import assert_allclose\n",
    "\n",
    "\n",
    "from statsmodels.regression.linear_model import OLS, WLS\n",
    "#import statsmodels.stats.sandwich_covariance as sw\n",
    "from statsmodels.tools.tools import add_constant\n",
    "\n",
    "from statsmodels.datasets import macrodata, grunfeld\n",
    "\n",
    "from statsmodels.regression.tests.results import results_macro_ols_robust as res\n",
    "from statsmodels.regression.tests.results import results_grunfeld_ols_robust_cluster as res2"
   ]
  },
  {
   "cell_type": "markdown",
   "metadata": {},
   "source": [
    "## Time Series Data"
   ]
  },
  {
   "cell_type": "markdown",
   "metadata": {},
   "source": [
    "The first dataset refers to macroeconomics data and regresses the growthrate of investment on the growth rate of gdp and on the real interest rate. The data are time series and we can use it to illustrate HC and HAC. HC applies in the same way also to cross-sectional and to clustered or panel data."
   ]
  },
  {
   "cell_type": "code",
   "execution_count": 2,
   "metadata": {
    "collapsed": true
   },
   "outputs": [],
   "source": [
    "d2 = macrodata.load().data\n",
    "g_gdp = 400*np.diff(np.log(d2['realgdp']))\n",
    "g_inv = 400*np.diff(np.log(d2['realinv']))\n",
    "exogg = add_constant(np.c_[g_gdp, d2['realint'][:-1]], prepend=False)\n",
    "param_names = ['gdp', 'int', 'const']"
   ]
  },
  {
   "cell_type": "markdown",
   "metadata": {},
   "source": [
    "**nonrobust**"
   ]
  },
  {
   "cell_type": "code",
   "execution_count": 3,
   "metadata": {
    "collapsed": false
   },
   "outputs": [
    {
     "name": "stdout",
     "output_type": "stream",
     "text": [
      "                            OLS Regression Results                            \n",
      "==============================================================================\n",
      "Dep. Variable:                      y   R-squared:                       0.677\n",
      "Model:                            OLS   Adj. R-squared:                  0.674\n",
      "Method:                 Least Squares   F-statistic:                     208.5\n",
      "Date:                Sat, 16 Apr 2016   Prob (F-statistic):           1.47e-49\n",
      "Time:                        00:06:03   Log-Likelihood:                -763.98\n",
      "No. Observations:                 202   AIC:                             1534.\n",
      "Df Residuals:                     199   BIC:                             1544.\n",
      "Df Model:                           2                                         \n",
      "Covariance Type:            nonrobust                                         \n",
      "==============================================================================\n",
      "                 coef    std err          t      P>|t|      [0.025      0.975]\n",
      "------------------------------------------------------------------------------\n",
      "gdp            4.3742      0.215     20.374      0.000       3.951       4.798\n",
      "int           -0.6140      0.285     -2.157      0.032      -1.175      -0.053\n",
      "const         -9.4817      1.068     -8.874      0.000     -11.589      -7.375\n",
      "==============================================================================\n",
      "Omnibus:                       33.257   Durbin-Watson:                   2.214\n",
      "Prob(Omnibus):                  0.000   Jarque-Bera (JB):               51.512\n",
      "Skew:                          -0.913   Prob(JB):                     6.52e-12\n",
      "Kurtosis:                       4.668   Cond. No.                         7.02\n",
      "==============================================================================\n",
      "\n",
      "Warnings:\n",
      "[1] Standard Errors assume that the covariance matrix of the errors is correctly specified.\n"
     ]
    }
   ],
   "source": [
    "mod_ols = OLS(g_inv, exogg)\n",
    "res_ols = mod_ols.fit()\n",
    "print(res_ols.summary(xname=param_names))"
   ]
  },
  {
   "cell_type": "markdown",
   "metadata": {},
   "source": [
    "**HC**"
   ]
  },
  {
   "cell_type": "markdown",
   "metadata": {},
   "source": [
    "We can compare the nonrobust, usual OLS standard errors with heteroscedasticity robust standard errors, specifically \"HC1\". All standard errors have increased, the increase is 15% to 50%. "
   ]
  },
  {
   "cell_type": "code",
   "execution_count": 4,
   "metadata": {
    "collapsed": false
   },
   "outputs": [
    {
     "name": "stdout",
     "output_type": "stream",
     "text": [
      "                            OLS Regression Results                            \n",
      "==============================================================================\n",
      "Dep. Variable:                      y   R-squared:                       0.677\n",
      "Model:                            OLS   Adj. R-squared:                  0.674\n",
      "Method:                 Least Squares   F-statistic:                     92.95\n",
      "Date:                Sat, 16 Apr 2016   Prob (F-statistic):           3.13e-29\n",
      "Time:                        00:06:03   Log-Likelihood:                -763.98\n",
      "No. Observations:                 202   AIC:                             1534.\n",
      "Df Residuals:                     199   BIC:                             1544.\n",
      "Df Model:                           2                                         \n",
      "Covariance Type:                  HC1                                         \n",
      "==============================================================================\n",
      "                 coef    std err          z      P>|z|      [0.025      0.975]\n",
      "------------------------------------------------------------------------------\n",
      "gdp            4.3742      0.324     13.519      0.000       3.740       5.008\n",
      "int           -0.6140      0.328     -1.873      0.061      -1.256       0.028\n",
      "const         -9.4817      1.369     -6.926      0.000     -12.165      -6.798\n",
      "==============================================================================\n",
      "Omnibus:                       33.257   Durbin-Watson:                   2.214\n",
      "Prob(Omnibus):                  0.000   Jarque-Bera (JB):               51.512\n",
      "Skew:                          -0.913   Prob(JB):                     6.52e-12\n",
      "Kurtosis:                       4.668   Cond. No.                         7.02\n",
      "==============================================================================\n",
      "\n",
      "Warnings:\n",
      "[1] Standard Errors are heteroscedasticity robust (HC1)\n"
     ]
    }
   ],
   "source": [
    "res_ols_hc1 = mod_ols.fit(cov_type='HC1')\n",
    "print(res_ols_hc1.summary(xname=param_names))"
   ]
  },
  {
   "cell_type": "code",
   "execution_count": 5,
   "metadata": {
    "collapsed": false
   },
   "outputs": [
    {
     "data": {
      "text/plain": [
       "array([ 50.7048903 ,  15.12651279,  28.12959228])"
      ]
     },
     "execution_count": 5,
     "metadata": {},
     "output_type": "execute_result"
    }
   ],
   "source": [
    "(res_ols_hc1.bse / res_ols.bse - 1) * 100"
   ]
  },
  {
   "cell_type": "code",
   "execution_count": null,
   "metadata": {
    "collapsed": true
   },
   "outputs": [],
   "source": []
  },
  {
   "cell_type": "markdown",
   "metadata": {},
   "source": [
    "**HAC**\n",
    "\n",
    "Using HAC corrects for autocorrelation as well as heteroscedasticity. Because there is no default option for maxlags, we choose 4 lags which is one year for this quarterly data. The next version shows the large sample default without small sample degrees of freedom correction and using the normal distribution for inference. In the following we ask for small sample correction and t distribution for inference. In this example there is only a small increase in the standard errors under the small sample option.\n",
    "\n",
    "(**Note:** Stata has a `small` option with a similar effect, while the choice of distribution is specified separately from small sample corrections in statsmodels.)"
   ]
  },
  {
   "cell_type": "code",
   "execution_count": 6,
   "metadata": {
    "collapsed": false
   },
   "outputs": [
    {
     "name": "stdout",
     "output_type": "stream",
     "text": [
      "                            OLS Regression Results                            \n",
      "==============================================================================\n",
      "Dep. Variable:                      y   R-squared:                       0.677\n",
      "Model:                            OLS   Adj. R-squared:                  0.674\n",
      "Method:                 Least Squares   F-statistic:                     90.80\n",
      "Date:                Sat, 16 Apr 2016   Prob (F-statistic):           9.53e-29\n",
      "Time:                        00:06:03   Log-Likelihood:                -763.98\n",
      "No. Observations:                 202   AIC:                             1534.\n",
      "Df Residuals:                     199   BIC:                             1544.\n",
      "Df Model:                           2                                         \n",
      "Covariance Type:                  HAC                                         \n",
      "==============================================================================\n",
      "                 coef    std err          z      P>|z|      [0.025      0.975]\n",
      "------------------------------------------------------------------------------\n",
      "gdp            4.3742      0.329     13.304      0.000       3.730       5.019\n",
      "int           -0.6140      0.294     -2.091      0.037      -1.189      -0.039\n",
      "const         -9.4817      1.177     -8.055      0.000     -11.789      -7.175\n",
      "==============================================================================\n",
      "Omnibus:                       33.257   Durbin-Watson:                   2.214\n",
      "Prob(Omnibus):                  0.000   Jarque-Bera (JB):               51.512\n",
      "Skew:                          -0.913   Prob(JB):                     6.52e-12\n",
      "Kurtosis:                       4.668   Cond. No.                         7.02\n",
      "==============================================================================\n",
      "\n",
      "Warnings:\n",
      "[1] Standard Errors are heteroscedasticity and autocorrelation robust (HAC) using 4 lags and without small sample correction\n"
     ]
    }
   ],
   "source": [
    "#res_ols_hac4 = mod_ols.fit(cov_type='HAC')   #BUG: no default for maxlags\n",
    "res_ols_hac4 = mod_ols.fit(cov_type='HAC', cov_kwds={'maxlags':4}) #, 'use_correction': False})\n",
    "print(res_ols_hac4.summary(xname=param_names))"
   ]
  },
  {
   "cell_type": "code",
   "execution_count": 7,
   "metadata": {
    "collapsed": false
   },
   "outputs": [
    {
     "name": "stdout",
     "output_type": "stream",
     "text": [
      "                            OLS Regression Results                            \n",
      "==============================================================================\n",
      "Dep. Variable:                      y   R-squared:                       0.677\n",
      "Model:                            OLS   Adj. R-squared:                  0.674\n",
      "Method:                 Least Squares   F-statistic:                     89.45\n",
      "Date:                Sat, 16 Apr 2016   Prob (F-statistic):           1.93e-28\n",
      "Time:                        00:06:03   Log-Likelihood:                -763.98\n",
      "No. Observations:                 202   AIC:                             1534.\n",
      "Df Residuals:                     199   BIC:                             1544.\n",
      "Df Model:                           2                                         \n",
      "Covariance Type:                  HAC                                         \n",
      "==============================================================================\n",
      "                 coef    std err          t      P>|t|      [0.025      0.975]\n",
      "------------------------------------------------------------------------------\n",
      "gdp            4.3742      0.331     13.205      0.000       3.721       5.027\n",
      "int           -0.6140      0.296     -2.076      0.039      -1.197      -0.031\n",
      "const         -9.4817      1.186     -7.995      0.000     -11.820      -7.143\n",
      "==============================================================================\n",
      "Omnibus:                       33.257   Durbin-Watson:                   2.214\n",
      "Prob(Omnibus):                  0.000   Jarque-Bera (JB):               51.512\n",
      "Skew:                          -0.913   Prob(JB):                     6.52e-12\n",
      "Kurtosis:                       4.668   Cond. No.                         7.02\n",
      "==============================================================================\n",
      "\n",
      "Warnings:\n",
      "[1] Standard Errors are heteroscedasticity and autocorrelation robust (HAC) using 4 lags and with small sample correction\n"
     ]
    }
   ],
   "source": [
    "res_ols_hac4 = mod_ols.fit(cov_type='HAC', cov_kwds={'maxlags':4, 'use_correction': True}, use_t=True)\n",
    "print(res_ols_hac4.summary(xname=param_names))"
   ]
  },
  {
   "cell_type": "markdown",
   "metadata": {},
   "source": [
    "### Panel Data\n",
    "\n",
    "Our second data set contains panel data with time series observed for each firm. Firms are the cross sectional units. Years are the time periods. \n",
    "\n",
    "We are dropping the last firm because it was missing in the Stata reference case used in the unit tests."
   ]
  },
  {
   "cell_type": "code",
   "execution_count": 8,
   "metadata": {
    "collapsed": true
   },
   "outputs": [],
   "source": [
    "dtapa = grunfeld.data.load_pandas()\n",
    "#Stata example/data seems to miss last firm\n",
    "dtapa_endog = dtapa.endog[:200]\n",
    "dtapa_exog = dtapa.exog[:200]\n",
    "exog = add_constant(dtapa_exog[['value', 'capital']], prepend=False)\n",
    "\n",
    "mod_panel = OLS(dtapa_endog, exog)"
   ]
  },
  {
   "cell_type": "markdown",
   "metadata": {},
   "source": [
    "We need indicator function that define clusters, i.e. firms in this case, and time periods for use with the cluster robust and panel hac robust standard errors.\n",
    "\n",
    "There are some restriction on the structure or stacking of the data that is largely driven by how the computations are implemented. The implementation can in some cases take advantage of the structure to provide faster computation, but overall the cases are not optimized for efficient computation. I never did any timing.\n",
    "Furthermore, much of the code has been written when similar functionality in pandas was not yet available or not yet fast compared to a pure numpy solution.\n",
    "\n",
    "- `firm_id` is an integer group indicator, used instead of the names of firms\n",
    "- `time` is an integer index of time periods computed here by transformation of \"year\"\n",
    "- `tidx` is the internal index that lists the beginning and end of the observation belonging to a firm in the stacked data.\n",
    "\n",
    "Observations for nw_panel needs to be stacked by timeseries of firms, [y_firm1, y_firm2, ....] where y_firm1 contains the timeseries of the first firm, and so on. In this example we have 10 firms and 20 time periods"
   ]
  },
  {
   "cell_type": "code",
   "execution_count": 9,
   "metadata": {
    "collapsed": false
   },
   "outputs": [],
   "source": [
    "firm_names, firm_id = np.unique(np.asarray(dtapa_exog[['firm']], 'S20'),\n",
    "                            return_inverse=True)\n",
    "groups = firm_id\n",
    "#time indicator in range(max Ti)\n",
    "time = np.asarray(dtapa_exog[['year']])\n",
    "time -= time.min()\n",
    "time = np.squeeze(time).astype(int)\n",
    "# nw_panel function requires interval bounds\n",
    "tidx = [(i*20, 20*(i+1)) for i in range(10)]"
   ]
  },
  {
   "cell_type": "code",
   "execution_count": 10,
   "metadata": {
    "collapsed": false
   },
   "outputs": [
    {
     "data": {
      "text/plain": [
       "(10, 20)"
      ]
     },
     "execution_count": 10,
     "metadata": {},
     "output_type": "execute_result"
    }
   ],
   "source": [
    "len(firm_names), len(np.unique(time))"
   ]
  },
  {
   "cell_type": "code",
   "execution_count": 11,
   "metadata": {
    "collapsed": false
   },
   "outputs": [
    {
     "data": {
      "text/plain": [
       "array([4, 4, 4, 4, 4, 4, 4, 4, 4, 4, 4, 4, 4, 4, 4, 4, 4, 4, 4, 4, 7, 7, 7,\n",
       "       7, 7, 7, 7, 7, 7, 7, 7, 7, 7, 7, 7, 7, 7, 7, 7, 7, 3, 3, 3, 3, 3, 3,\n",
       "       3, 3, 3, 3, 3, 3, 3, 3, 3, 3, 3, 3, 3, 3, 1, 1, 1, 1, 1, 1, 1, 1, 1,\n",
       "       1, 1, 1, 1, 1, 1, 1, 1, 1, 1, 1, 0, 0, 0, 0, 0, 0, 0, 0, 0, 0, 0, 0,\n",
       "       0, 0, 0, 0, 0, 0, 0, 0, 6, 6, 6, 6, 6, 6, 6, 6, 6, 6, 6, 6, 6, 6, 6,\n",
       "       6, 6, 6, 6, 6, 8, 8, 8, 8, 8, 8, 8, 8, 8, 8, 8, 8, 8, 8, 8, 8, 8, 8,\n",
       "       8, 8, 9, 9, 9, 9, 9, 9, 9, 9, 9, 9, 9, 9, 9, 9, 9, 9, 9, 9, 9, 9, 5,\n",
       "       5, 5, 5, 5, 5, 5, 5, 5, 5, 5, 5, 5, 5, 5, 5, 5, 5, 5, 5, 2, 2, 2, 2,\n",
       "       2, 2, 2, 2, 2, 2, 2, 2, 2, 2, 2, 2, 2, 2, 2, 2], dtype=int32)"
      ]
     },
     "execution_count": 11,
     "metadata": {},
     "output_type": "execute_result"
    }
   ],
   "source": [
    "groups"
   ]
  },
  {
   "cell_type": "code",
   "execution_count": 12,
   "metadata": {
    "collapsed": false
   },
   "outputs": [
    {
     "data": {
      "text/plain": [
       "array([ 0,  1,  2,  3,  4,  5,  6,  7,  8,  9, 10, 11, 12, 13, 14, 15, 16,\n",
       "       17, 18, 19,  0,  1,  2,  3,  4,  5,  6,  7,  8,  9, 10, 11, 12, 13,\n",
       "       14, 15, 16, 17, 18, 19,  0,  1,  2,  3,  4,  5,  6,  7,  8,  9, 10,\n",
       "       11, 12, 13, 14, 15, 16, 17, 18, 19,  0,  1,  2,  3,  4,  5,  6,  7,\n",
       "        8,  9, 10, 11, 12, 13, 14, 15, 16, 17, 18, 19,  0,  1,  2,  3,  4,\n",
       "        5,  6,  7,  8,  9, 10, 11, 12, 13, 14, 15, 16, 17, 18, 19,  0,  1,\n",
       "        2,  3,  4,  5,  6,  7,  8,  9, 10, 11, 12, 13, 14, 15, 16, 17, 18,\n",
       "       19,  0,  1,  2,  3,  4,  5,  6,  7,  8,  9, 10, 11, 12, 13, 14, 15,\n",
       "       16, 17, 18, 19,  0,  1,  2,  3,  4,  5,  6,  7,  8,  9, 10, 11, 12,\n",
       "       13, 14, 15, 16, 17, 18, 19,  0,  1,  2,  3,  4,  5,  6,  7,  8,  9,\n",
       "       10, 11, 12, 13, 14, 15, 16, 17, 18, 19,  0,  1,  2,  3,  4,  5,  6,\n",
       "        7,  8,  9, 10, 11, 12, 13, 14, 15, 16, 17, 18, 19])"
      ]
     },
     "execution_count": 12,
     "metadata": {},
     "output_type": "execute_result"
    }
   ],
   "source": [
    "time"
   ]
  },
  {
   "cell_type": "code",
   "execution_count": 13,
   "metadata": {
    "collapsed": false
   },
   "outputs": [
    {
     "name": "stdout",
     "output_type": "stream",
     "text": [
      "                            OLS Regression Results                            \n",
      "==============================================================================\n",
      "Dep. Variable:                 invest   R-squared:                       0.812\n",
      "Model:                            OLS   Adj. R-squared:                  0.811\n",
      "Method:                 Least Squares   F-statistic:                     426.6\n",
      "Date:                Sat, 16 Apr 2016   Prob (F-statistic):           2.58e-72\n",
      "Time:                        00:06:05   Log-Likelihood:                -1191.8\n",
      "No. Observations:                 200   AIC:                             2390.\n",
      "Df Residuals:                     197   BIC:                             2399.\n",
      "Df Model:                           2                                         \n",
      "Covariance Type:            nonrobust                                         \n",
      "==============================================================================\n",
      "                 coef    std err          t      P>|t|      [0.025      0.975]\n",
      "------------------------------------------------------------------------------\n",
      "value          0.1156      0.006     19.803      0.000       0.104       0.127\n",
      "capital        0.2307      0.025      9.055      0.000       0.180       0.281\n",
      "const        -42.7144      9.512     -4.491      0.000     -61.472     -23.957\n",
      "==============================================================================\n",
      "Omnibus:                       27.240   Durbin-Watson:                   0.358\n",
      "Prob(Omnibus):                  0.000   Jarque-Bera (JB):               89.572\n",
      "Skew:                           0.469   Prob(JB):                     3.55e-20\n",
      "Kurtosis:                       6.141   Cond. No.                     2.46e+03\n",
      "==============================================================================\n",
      "\n",
      "Warnings:\n",
      "[1] Standard Errors assume that the covariance matrix of the errors is correctly specified.\n",
      "[2] The condition number is large, 2.46e+03. This might indicate that there are\n",
      "strong multicollinearity or other numerical problems.\n"
     ]
    }
   ],
   "source": [
    "resp_nr = mod_panel.fit()\n",
    "print(resp_nr.summary())"
   ]
  },
  {
   "cell_type": "markdown",
   "metadata": {},
   "source": [
    "**Note** We are just using this example to illustrate robust standard errors. The diagnostics for this model are not encouraging. The residuals seem to be far from normal distibuted, Durbin-Watson statistic indicates autocorrelation, and the condition number might be large because all variables are trending. Multicollinearity in itself does not look like a problem, all standard errors are relatively small."
   ]
  },
  {
   "cell_type": "markdown",
   "metadata": {},
   "source": [
    "**HC**\n",
    "\n",
    "Our first comparison is with heteroscedasticity robust standard errors, now we use \"HC3\" but keep using the t distribution. The largest change is for the coefficient of capital which show a large increase in the standard error and a widening of the 95% confidence interval."
   ]
  },
  {
   "cell_type": "code",
   "execution_count": 14,
   "metadata": {
    "collapsed": false
   },
   "outputs": [
    {
     "name": "stdout",
     "output_type": "stream",
     "text": [
      "                            OLS Regression Results                            \n",
      "==============================================================================\n",
      "Dep. Variable:                 invest   R-squared:                       0.812\n",
      "Model:                            OLS   Adj. R-squared:                  0.811\n",
      "Method:                 Least Squares   F-statistic:                     149.5\n",
      "Date:                Sat, 16 Apr 2016   Prob (F-statistic):           3.19e-40\n",
      "Time:                        00:06:05   Log-Likelihood:                -1191.8\n",
      "No. Observations:                 200   AIC:                             2390.\n",
      "Df Residuals:                     197   BIC:                             2399.\n",
      "Df Model:                           2                                         \n",
      "Covariance Type:                  HC3                                         \n",
      "==============================================================================\n",
      "                 coef    std err          t      P>|t|      [0.025      0.975]\n",
      "------------------------------------------------------------------------------\n",
      "value          0.1156      0.007     16.134      0.000       0.101       0.130\n",
      "capital        0.2307      0.059      3.943      0.000       0.115       0.346\n",
      "const        -42.7144     14.013     -3.048      0.003     -70.350     -15.079\n",
      "==============================================================================\n",
      "Omnibus:                       27.240   Durbin-Watson:                   0.358\n",
      "Prob(Omnibus):                  0.000   Jarque-Bera (JB):               89.572\n",
      "Skew:                           0.469   Prob(JB):                     3.55e-20\n",
      "Kurtosis:                       6.141   Cond. No.                     2.46e+03\n",
      "==============================================================================\n",
      "\n",
      "Warnings:\n",
      "[1] Standard Errors are heteroscedasticity robust (HC3)\n",
      "[2] The condition number is large, 2.46e+03. This might indicate that there are\n",
      "strong multicollinearity or other numerical problems.\n"
     ]
    }
   ],
   "source": [
    "resp_hc = mod_panel.fit(cov_type='HC3', use_t=True)\n",
    "print(resp_hc.summary())"
   ]
  },
  {
   "cell_type": "markdown",
   "metadata": {},
   "source": [
    "### Cluster robust\n",
    "\n",
    "Next we compute standard errors that are robust to arbitrary correlation within firms. The standard errors further increase and are now much larger than the nonrobust OLS standard errors, the standard error of the capital coefficient is more than three times the nonrobust standard error.\n",
    "\n",
    "**Note** our sample size is relatively small, we have only 10 firms, and there could still be a relatively large small sample bias be left in these covariance estimates.\n",
    "\n",
    "check: there was some problems with having more observations per cluster than clusters, which I don't remember."
   ]
  },
  {
   "cell_type": "code",
   "execution_count": 15,
   "metadata": {
    "collapsed": false
   },
   "outputs": [
    {
     "name": "stdout",
     "output_type": "stream",
     "text": [
      "                            OLS Regression Results                            \n",
      "==============================================================================\n",
      "Dep. Variable:                 invest   R-squared:                       0.812\n",
      "Model:                            OLS   Adj. R-squared:                  0.811\n",
      "Method:                 Least Squares   F-statistic:                     51.59\n",
      "Date:                Sat, 16 Apr 2016   Prob (F-statistic):           1.17e-05\n",
      "Time:                        00:06:06   Log-Likelihood:                -1191.8\n",
      "No. Observations:                 200   AIC:                             2390.\n",
      "Df Residuals:                     197   BIC:                             2399.\n",
      "Df Model:                           2                                         \n",
      "Covariance Type:              cluster                                         \n",
      "==============================================================================\n",
      "                 coef    std err          t      P>|t|      [0.025      0.975]\n",
      "------------------------------------------------------------------------------\n",
      "value          0.1156      0.016      7.271      0.000       0.080       0.152\n",
      "capital        0.2307      0.085      2.715      0.024       0.038       0.423\n",
      "const        -42.7144     20.425     -2.091      0.066     -88.919       3.491\n",
      "==============================================================================\n",
      "Omnibus:                       27.240   Durbin-Watson:                   0.358\n",
      "Prob(Omnibus):                  0.000   Jarque-Bera (JB):               89.572\n",
      "Skew:                           0.469   Prob(JB):                     3.55e-20\n",
      "Kurtosis:                       6.141   Cond. No.                     2.46e+03\n",
      "==============================================================================\n",
      "\n",
      "Warnings:\n",
      "[1] Standard Errors are robust tocluster correlation (cluster)\n",
      "[2] The condition number is large, 2.46e+03. This might indicate that there are\n",
      "strong multicollinearity or other numerical problems.\n"
     ]
    }
   ],
   "source": [
    "resp_clu = mod_panel.fit(cov_type='cluster', \n",
    "                         cov_kwds = dict(groups=groups,\n",
    "                                         use_correction=True,\n",
    "                                         use_t=True))\n",
    "print(resp_clu.summary())"
   ]
  },
  {
   "cell_type": "code",
   "execution_count": 16,
   "metadata": {
    "collapsed": false
   },
   "outputs": [
    {
     "data": {
      "text/plain": [
       "value      2.723634\n",
       "capital    3.335209\n",
       "const      2.147382\n",
       "dtype: float64"
      ]
     },
     "execution_count": 16,
     "metadata": {},
     "output_type": "execute_result"
    }
   ],
   "source": [
    "resp_clu.bse / resp_nr.bse"
   ]
  },
  {
   "cell_type": "markdown",
   "metadata": {},
   "source": [
    "Next, we can use an analogous approach and assume that there is cross sectional correlation, because the business cycle creates correlated shocks to each firm, but assume that there is no intertemporal within correlation. In this case we can use cluster robust standard errors that defines time periods as clusters.\n",
    "\n",
    "Under this assumption we obtain standard errors that increase only by a smaller amount over the nonrobust standard errors, and are lower than both HC3 and cluster robust to within firm correlation."
   ]
  },
  {
   "cell_type": "code",
   "execution_count": 17,
   "metadata": {
    "collapsed": false
   },
   "outputs": [
    {
     "name": "stdout",
     "output_type": "stream",
     "text": [
      "                            OLS Regression Results                            \n",
      "==============================================================================\n",
      "Dep. Variable:                 invest   R-squared:                       0.812\n",
      "Model:                            OLS   Adj. R-squared:                  0.811\n",
      "Method:                 Least Squares   F-statistic:                     187.2\n",
      "Date:                Sat, 16 Apr 2016   Prob (F-statistic):           3.15e-13\n",
      "Time:                        00:06:06   Log-Likelihood:                -1191.8\n",
      "No. Observations:                 200   AIC:                             2390.\n",
      "Df Residuals:                     197   BIC:                             2399.\n",
      "Df Model:                           2                                         \n",
      "Covariance Type:              cluster                                         \n",
      "==============================================================================\n",
      "                 coef    std err          t      P>|t|      [0.025      0.975]\n",
      "------------------------------------------------------------------------------\n",
      "value          0.1156      0.008     14.611      0.000       0.099       0.132\n",
      "capital        0.2307      0.039      5.965      0.000       0.150       0.312\n",
      "const        -42.7144     10.273     -4.158      0.001     -64.216     -21.213\n",
      "==============================================================================\n",
      "Omnibus:                       27.240   Durbin-Watson:                   0.358\n",
      "Prob(Omnibus):                  0.000   Jarque-Bera (JB):               89.572\n",
      "Skew:                           0.469   Prob(JB):                     3.55e-20\n",
      "Kurtosis:                       6.141   Cond. No.                     2.46e+03\n",
      "==============================================================================\n",
      "\n",
      "Warnings:\n",
      "[1] Standard Errors are robust tocluster correlation (cluster)\n",
      "[2] The condition number is large, 2.46e+03. This might indicate that there are\n",
      "strong multicollinearity or other numerical problems.\n"
     ]
    }
   ],
   "source": [
    "resp_clut = mod_panel.fit(cov_type='cluster', \n",
    "                         cov_kwds = dict(groups=time,\n",
    "                                         use_correction=True,\n",
    "                                         use_t=True))\n",
    "print(resp_clut.summary())"
   ]
  },
  {
   "cell_type": "markdown",
   "metadata": {},
   "source": [
    "As final version for cluster robust standard errors we can correct for two clusters, one defined by firms and the other defined by time periods. In this case we correct for within firm correlation and for contemporaneous correlation. The standard errors are approximately the same as those for only within firm correlation and slightly smaller than those."
   ]
  },
  {
   "cell_type": "code",
   "execution_count": 18,
   "metadata": {
    "collapsed": false
   },
   "outputs": [
    {
     "name": "stdout",
     "output_type": "stream",
     "text": [
      "                            OLS Regression Results                            \n",
      "==============================================================================\n",
      "Dep. Variable:                 invest   R-squared:                       0.812\n",
      "Model:                            OLS   Adj. R-squared:                  0.811\n",
      "Method:                 Least Squares   F-statistic:                     56.40\n",
      "Date:                Sat, 16 Apr 2016   Prob (F-statistic):           8.10e-06\n",
      "Time:                        00:06:06   Log-Likelihood:                -1191.8\n",
      "No. Observations:                 200   AIC:                             2390.\n",
      "Df Residuals:                     197   BIC:                             2399.\n",
      "Df Model:                           2                                         \n",
      "Covariance Type:              cluster                                         \n",
      "==============================================================================\n",
      "                 coef    std err          t      P>|t|      [0.025      0.975]\n",
      "------------------------------------------------------------------------------\n",
      "value          0.1156      0.016      7.049      0.000       0.078       0.153\n",
      "capital        0.2307      0.080      2.900      0.018       0.051       0.411\n",
      "const        -42.7144     19.717     -2.166      0.058     -87.317       1.888\n",
      "==============================================================================\n",
      "Omnibus:                       27.240   Durbin-Watson:                   0.358\n",
      "Prob(Omnibus):                  0.000   Jarque-Bera (JB):               89.572\n",
      "Skew:                           0.469   Prob(JB):                     3.55e-20\n",
      "Kurtosis:                       6.141   Cond. No.                     2.46e+03\n",
      "==============================================================================\n",
      "\n",
      "Warnings:\n",
      "[1] Standard Errors are robust tocluster correlation (cluster)\n",
      "[2] The condition number is large, 2.46e+03. This might indicate that there are\n",
      "strong multicollinearity or other numerical problems.\n"
     ]
    }
   ],
   "source": [
    "resp_clu2 = mod_panel.fit(cov_type='cluster', \n",
    "                         cov_kwds = dict(groups=(groups, time),\n",
    "                                         use_correction=True,\n",
    "                                         use_t=True))\n",
    "print(resp_clu2.summary())"
   ]
  },
  {
   "cell_type": "markdown",
   "metadata": {},
   "source": [
    "Cluster robust standard errors take account of correlation within a cluster without regard to any sequence. In this example we do not have any information about the distance between firms in the cross sectional dimension. However, in most cases of time series serial correlation will be strong in periods that are close and not very large in periods that are distant. Furthermore, in the current sample with have more time periods than firms, so considering it as a panel with increasing time periods but fixed number of firms might be more appropriate.\n",
    "\n",
    "In the following we compare the two panel HAC robust covariance estimators. The resulting standard errors are again larger than the nonrobust, but smaller than the standard errors that are cluster robust to within firm correlation."
   ]
  },
  {
   "cell_type": "code",
   "execution_count": 19,
   "metadata": {
    "collapsed": false
   },
   "outputs": [
    {
     "name": "stdout",
     "output_type": "stream",
     "text": [
      "                            OLS Regression Results                            \n",
      "==============================================================================\n",
      "Dep. Variable:                 invest   R-squared:                       0.812\n",
      "Model:                            OLS   Adj. R-squared:                  0.811\n",
      "Method:                 Least Squares   F-statistic:                     73.08\n",
      "Date:                Sat, 16 Apr 2016   Prob (F-statistic):           1.82e-24\n",
      "Time:                        00:06:06   Log-Likelihood:                -1191.8\n",
      "No. Observations:                 200   AIC:                             2390.\n",
      "Df Residuals:                     197   BIC:                             2399.\n",
      "Df Model:                           2                                         \n",
      "Covariance Type:             nw-panel                                         \n",
      "==============================================================================\n",
      "                 coef    std err          t      P>|t|      [0.025      0.975]\n",
      "------------------------------------------------------------------------------\n",
      "value          0.1156      0.011     10.112      0.000       0.093       0.138\n",
      "capital        0.2307      0.068      3.371      0.001       0.096       0.366\n",
      "const        -42.7144     16.179     -2.640      0.009     -74.621     -10.808\n",
      "==============================================================================\n",
      "Omnibus:                       27.240   Durbin-Watson:                   0.358\n",
      "Prob(Omnibus):                  0.000   Jarque-Bera (JB):               89.572\n",
      "Skew:                           0.469   Prob(JB):                     3.55e-20\n",
      "Kurtosis:                       6.141   Cond. No.                     2.46e+03\n",
      "==============================================================================\n",
      "\n",
      "Warnings:\n",
      "[1] Standard Errors are robust tocluster correlation (nw-panel)\n",
      "[2] The condition number is large, 2.46e+03. This might indicate that there are\n",
      "strong multicollinearity or other numerical problems.\n"
     ]
    }
   ],
   "source": [
    "resp_hacp = mod_panel.fit(cov_type='nw-panel',\n",
    "                          cov_kwds = dict(time=time,\n",
    "                                          maxlags=4,\n",
    "                                          use_correction='hac',\n",
    "                                          df_correction=False),\n",
    "                          use_t=True)\n",
    "print(resp_hacp.summary())"
   ]
  },
  {
   "cell_type": "code",
   "execution_count": 20,
   "metadata": {
    "collapsed": false
   },
   "outputs": [
    {
     "name": "stdout",
     "output_type": "stream",
     "text": [
      "                            OLS Regression Results                            \n",
      "==============================================================================\n",
      "Dep. Variable:                 invest   R-squared:                       0.812\n",
      "Model:                            OLS   Adj. R-squared:                  0.811\n",
      "Method:                 Least Squares   F-statistic:                     96.51\n",
      "Date:                Sat, 16 Apr 2016   Prob (F-statistic):           6.07e-30\n",
      "Time:                        00:06:07   Log-Likelihood:                -1191.8\n",
      "No. Observations:                 200   AIC:                             2390.\n",
      "Df Residuals:                     197   BIC:                             2399.\n",
      "Df Model:                           2                                         \n",
      "Covariance Type:          nw-groupsum                                         \n",
      "==============================================================================\n",
      "                 coef    std err          t      P>|t|      [0.025      0.975]\n",
      "------------------------------------------------------------------------------\n",
      "value          0.1156      0.014      8.536      0.000       0.089       0.142\n",
      "capital        0.2307      0.050      4.643      0.000       0.133       0.329\n",
      "const        -42.7144     12.283     -3.478      0.001     -66.937     -18.492\n",
      "==============================================================================\n",
      "Omnibus:                       27.240   Durbin-Watson:                   0.358\n",
      "Prob(Omnibus):                  0.000   Jarque-Bera (JB):               89.572\n",
      "Skew:                           0.469   Prob(JB):                     3.55e-20\n",
      "Kurtosis:                       6.141   Cond. No.                     2.46e+03\n",
      "==============================================================================\n",
      "\n",
      "Warnings:\n",
      "[1] Driscoll and Kraay Standard Errors are robust to cluster correlation (nw-groupsum)\n",
      "[2] The condition number is large, 2.46e+03. This might indicate that there are\n",
      "strong multicollinearity or other numerical problems.\n"
     ]
    }
   ],
   "source": [
    "resp_hacg = mod_panel.fit(cov_type='nw-groupsum',\n",
    "                          cov_kwds = dict(time=time,\n",
    "                                          maxlags=4,\n",
    "                                          use_correction='hac',\n",
    "                                          df_correction=False),\n",
    "                          use_t=True)\n",
    "print(resp_hacg.summary())"
   ]
  },
  {
   "cell_type": "markdown",
   "metadata": {},
   "source": [
    "### Comparison Panel robust"
   ]
  },
  {
   "cell_type": "code",
   "execution_count": 21,
   "metadata": {
    "collapsed": false
   },
   "outputs": [
    {
     "data": {
      "text/html": [
       "<div>\n",
       "<table border=\"1\" class=\"dataframe\">\n",
       "  <thead>\n",
       "    <tr style=\"text-align: right;\">\n",
       "      <th></th>\n",
       "      <th>nonrobust</th>\n",
       "      <th>HC3</th>\n",
       "      <th>clu-firm</th>\n",
       "      <th>clu-time</th>\n",
       "      <th>clu-2way</th>\n",
       "      <th>hac-panel</th>\n",
       "      <th>hac-group</th>\n",
       "    </tr>\n",
       "  </thead>\n",
       "  <tbody>\n",
       "    <tr>\n",
       "      <th>value</th>\n",
       "      <td>0.005836</td>\n",
       "      <td>0.007163</td>\n",
       "      <td>0.015894</td>\n",
       "      <td>0.007909</td>\n",
       "      <td>0.016395</td>\n",
       "      <td>0.011428</td>\n",
       "      <td>0.013538</td>\n",
       "    </tr>\n",
       "    <tr>\n",
       "      <th>capital</th>\n",
       "      <td>0.025476</td>\n",
       "      <td>0.058510</td>\n",
       "      <td>0.084967</td>\n",
       "      <td>0.038672</td>\n",
       "      <td>0.079543</td>\n",
       "      <td>0.068422</td>\n",
       "      <td>0.049682</td>\n",
       "    </tr>\n",
       "    <tr>\n",
       "      <th>const</th>\n",
       "      <td>9.511676</td>\n",
       "      <td>14.013495</td>\n",
       "      <td>20.425203</td>\n",
       "      <td>10.272891</td>\n",
       "      <td>19.716681</td>\n",
       "      <td>16.179043</td>\n",
       "      <td>12.282818</td>\n",
       "    </tr>\n",
       "  </tbody>\n",
       "</table>\n",
       "</div>"
      ],
      "text/plain": [
       "         nonrobust        HC3   clu-firm   clu-time   clu-2way  hac-panel  \\\n",
       "value     0.005836   0.007163   0.015894   0.007909   0.016395   0.011428   \n",
       "capital   0.025476   0.058510   0.084967   0.038672   0.079543   0.068422   \n",
       "const     9.511676  14.013495  20.425203  10.272891  19.716681  16.179043   \n",
       "\n",
       "         hac-group  \n",
       "value     0.013538  \n",
       "capital   0.049682  \n",
       "const    12.282818  "
      ]
     },
     "execution_count": 21,
     "metadata": {},
     "output_type": "execute_result"
    }
   ],
   "source": [
    "estimators = [resp_nr, resp_hc, resp_clu, resp_clut, resp_clu2, resp_hacp, resp_hacg]\n",
    "names = 'nonrobust HC3 clu-firm clu-time clu-2way hac-panel hac-group'.split()\n",
    "\n",
    "import pandas as pd\n",
    "\n",
    "bse_panel = pd.DataFrame([res.bse for res in estimators], columns=resp_nr.bse.index, index=names).T\n",
    "bse_panel"
   ]
  },
  {
   "cell_type": "markdown",
   "metadata": {},
   "source": [
    "We see that standard errors increase to be twice or three times the nonrobust standard errors in the various versions of HAC and cluster robust standard errors."
   ]
  },
  {
   "cell_type": "code",
   "execution_count": 22,
   "metadata": {
    "collapsed": false
   },
   "outputs": [
    {
     "data": {
      "text/html": [
       "<div>\n",
       "<table border=\"1\" class=\"dataframe\">\n",
       "  <thead>\n",
       "    <tr style=\"text-align: right;\">\n",
       "      <th></th>\n",
       "      <th>nonrobust</th>\n",
       "      <th>HC3</th>\n",
       "      <th>clu-firm</th>\n",
       "      <th>clu-time</th>\n",
       "      <th>clu-2way</th>\n",
       "      <th>hac-panel</th>\n",
       "      <th>hac-group</th>\n",
       "    </tr>\n",
       "  </thead>\n",
       "  <tbody>\n",
       "    <tr>\n",
       "      <th>value</th>\n",
       "      <td>1</td>\n",
       "      <td>1.227386</td>\n",
       "      <td>2.723634</td>\n",
       "      <td>1.355361</td>\n",
       "      <td>2.809453</td>\n",
       "      <td>1.958263</td>\n",
       "      <td>2.319844</td>\n",
       "    </tr>\n",
       "    <tr>\n",
       "      <th>capital</th>\n",
       "      <td>1</td>\n",
       "      <td>2.296684</td>\n",
       "      <td>3.335209</td>\n",
       "      <td>1.518003</td>\n",
       "      <td>3.122304</td>\n",
       "      <td>2.685752</td>\n",
       "      <td>1.950166</td>\n",
       "    </tr>\n",
       "    <tr>\n",
       "      <th>const</th>\n",
       "      <td>1</td>\n",
       "      <td>1.473294</td>\n",
       "      <td>2.147382</td>\n",
       "      <td>1.080030</td>\n",
       "      <td>2.072892</td>\n",
       "      <td>1.700967</td>\n",
       "      <td>1.291341</td>\n",
       "    </tr>\n",
       "  </tbody>\n",
       "</table>\n",
       "</div>"
      ],
      "text/plain": [
       "         nonrobust       HC3  clu-firm  clu-time  clu-2way  hac-panel  \\\n",
       "value            1  1.227386  2.723634  1.355361  2.809453   1.958263   \n",
       "capital          1  2.296684  3.335209  1.518003  3.122304   2.685752   \n",
       "const            1  1.473294  2.147382  1.080030  2.072892   1.700967   \n",
       "\n",
       "         hac-group  \n",
       "value     2.319844  \n",
       "capital   1.950166  \n",
       "const     1.291341  "
      ]
     },
     "execution_count": 22,
     "metadata": {},
     "output_type": "execute_result"
    }
   ],
   "source": [
    "(bse_panel.T / bse_panel['nonrobust']).T    # I'm not sure why I need to transpose"
   ]
  },
  {
   "cell_type": "markdown",
   "metadata": {},
   "source": [
    "Similar to comparing standard errors across estimators and with the nonrobust as reference, we can also compare confidence intervalls implied by the different estimators. Note that I have specified to use the t distribution in all cases above, so the only difference is in the estimated covariance matrices. Instead of comparing all confidence intervals, I compute the smallest lower bound and the largest upper bound which will be the most pesimistic case based on the above estimators. \n",
    "\n",
    "(I am using numpy to calculate and pandas to display. It is easier for me this way.)"
   ]
  },
  {
   "cell_type": "code",
   "execution_count": 23,
   "metadata": {
    "collapsed": false
   },
   "outputs": [
    {
     "data": {
      "text/html": [
       "<div>\n",
       "<table border=\"1\" class=\"dataframe\">\n",
       "  <thead>\n",
       "    <tr style=\"text-align: right;\">\n",
       "      <th></th>\n",
       "      <th>0.025</th>\n",
       "      <th>0.975</th>\n",
       "    </tr>\n",
       "  </thead>\n",
       "  <tbody>\n",
       "    <tr>\n",
       "      <th>value</th>\n",
       "      <td>0.078474</td>\n",
       "      <td>0.152651</td>\n",
       "    </tr>\n",
       "    <tr>\n",
       "      <th>capital</th>\n",
       "      <td>0.038470</td>\n",
       "      <td>0.422887</td>\n",
       "    </tr>\n",
       "    <tr>\n",
       "      <th>const</th>\n",
       "      <td>-88.919389</td>\n",
       "      <td>3.490650</td>\n",
       "    </tr>\n",
       "  </tbody>\n",
       "</table>\n",
       "</div>"
      ],
      "text/plain": [
       "             0.025     0.975\n",
       "value     0.078474  0.152651\n",
       "capital   0.038470  0.422887\n",
       "const   -88.919389  3.490650"
      ]
     },
     "execution_count": 23,
     "metadata": {},
     "output_type": "execute_result"
    }
   ],
   "source": [
    "ci_all = np.array([res.conf_int().values for res in estimators])\n",
    "ci_min = ci_all[:, :, 0].min(0)\n",
    "ci_max = ci_all[:, :, 1].max(0)\n",
    "pd.DataFrame(np.column_stack((ci_min, ci_max)), index=bse_panel.index, columns=[0.025, 0.975])"
   ]
  },
  {
   "cell_type": "markdown",
   "metadata": {},
   "source": [
    "We can print again the nonrobust confidence intervals from above for easier comparison."
   ]
  },
  {
   "cell_type": "code",
   "execution_count": 24,
   "metadata": {
    "collapsed": false
   },
   "outputs": [
    {
     "data": {
      "text/html": [
       "<div>\n",
       "<table border=\"1\" class=\"dataframe\">\n",
       "  <thead>\n",
       "    <tr style=\"text-align: right;\">\n",
       "      <th></th>\n",
       "      <th>0</th>\n",
       "      <th>1</th>\n",
       "    </tr>\n",
       "  </thead>\n",
       "  <tbody>\n",
       "    <tr>\n",
       "      <th>value</th>\n",
       "      <td>0.104054</td>\n",
       "      <td>0.127071</td>\n",
       "    </tr>\n",
       "    <tr>\n",
       "      <th>capital</th>\n",
       "      <td>0.180438</td>\n",
       "      <td>0.280919</td>\n",
       "    </tr>\n",
       "    <tr>\n",
       "      <th>const</th>\n",
       "      <td>-61.472146</td>\n",
       "      <td>-23.956593</td>\n",
       "    </tr>\n",
       "  </tbody>\n",
       "</table>\n",
       "</div>"
      ],
      "text/plain": [
       "                 0          1\n",
       "value     0.104054   0.127071\n",
       "capital   0.180438   0.280919\n",
       "const   -61.472146 -23.956593"
      ]
     },
     "execution_count": 24,
     "metadata": {},
     "output_type": "execute_result"
    }
   ],
   "source": [
    "resp_nr.conf_int()"
   ]
  },
  {
   "cell_type": "code",
   "execution_count": null,
   "metadata": {
    "collapsed": true
   },
   "outputs": [],
   "source": []
  },
  {
   "cell_type": "code",
   "execution_count": null,
   "metadata": {
    "collapsed": true
   },
   "outputs": [],
   "source": []
  },
  {
   "cell_type": "code",
   "execution_count": null,
   "metadata": {
    "collapsed": true
   },
   "outputs": [],
   "source": []
  },
  {
   "cell_type": "markdown",
   "metadata": {},
   "source": [
    "Aside: for checking usage of pandas"
   ]
  },
  {
   "cell_type": "code",
   "execution_count": 25,
   "metadata": {
    "collapsed": false
   },
   "outputs": [
    {
     "data": {
      "text/html": [
       "<div>\n",
       "<table border=\"1\" class=\"dataframe\">\n",
       "  <thead>\n",
       "    <tr style=\"text-align: right;\">\n",
       "      <th></th>\n",
       "      <th>nonrobust</th>\n",
       "      <th>HC3</th>\n",
       "      <th>clu-firm</th>\n",
       "      <th>clu-time</th>\n",
       "      <th>clu-2way</th>\n",
       "      <th>hac-panel</th>\n",
       "      <th>hac-group</th>\n",
       "    </tr>\n",
       "  </thead>\n",
       "  <tbody>\n",
       "    <tr>\n",
       "      <th>value</th>\n",
       "      <td>0.005836</td>\n",
       "      <td>0.007163</td>\n",
       "      <td>0.015894</td>\n",
       "      <td>0.007909</td>\n",
       "      <td>0.016395</td>\n",
       "      <td>0.011428</td>\n",
       "      <td>0.013538</td>\n",
       "    </tr>\n",
       "    <tr>\n",
       "      <th>capital</th>\n",
       "      <td>0.025476</td>\n",
       "      <td>0.058510</td>\n",
       "      <td>0.084967</td>\n",
       "      <td>0.038672</td>\n",
       "      <td>0.079543</td>\n",
       "      <td>0.068422</td>\n",
       "      <td>0.049682</td>\n",
       "    </tr>\n",
       "    <tr>\n",
       "      <th>const</th>\n",
       "      <td>9.511676</td>\n",
       "      <td>14.013495</td>\n",
       "      <td>20.425203</td>\n",
       "      <td>10.272891</td>\n",
       "      <td>19.716681</td>\n",
       "      <td>16.179043</td>\n",
       "      <td>12.282818</td>\n",
       "    </tr>\n",
       "  </tbody>\n",
       "</table>\n",
       "</div>"
      ],
      "text/plain": [
       "         nonrobust        HC3   clu-firm   clu-time   clu-2way  hac-panel  \\\n",
       "value     0.005836   0.007163   0.015894   0.007909   0.016395   0.011428   \n",
       "capital   0.025476   0.058510   0.084967   0.038672   0.079543   0.068422   \n",
       "const     9.511676  14.013495  20.425203  10.272891  19.716681  16.179043   \n",
       "\n",
       "         hac-group  \n",
       "value     0.013538  \n",
       "capital   0.049682  \n",
       "const    12.282818  "
      ]
     },
     "execution_count": 25,
     "metadata": {},
     "output_type": "execute_result"
    }
   ],
   "source": [
    "df_bse = pd.concat([res.bse for res in estimators], axis=1)\n",
    "df_bse.columns = names\n",
    "df_bse"
   ]
  },
  {
   "cell_type": "code",
   "execution_count": 26,
   "metadata": {
    "collapsed": false
   },
   "outputs": [
    {
     "data": {
      "text/plain": [
       "array([[ 0.,  0.,  0.,  0.,  0.,  0.,  0.],\n",
       "       [ 0.,  0.,  0.,  0.,  0.,  0.,  0.],\n",
       "       [ 0.,  0.,  0.,  0.,  0.,  0.,  0.]])"
      ]
     },
     "execution_count": 26,
     "metadata": {},
     "output_type": "execute_result"
    }
   ],
   "source": [
    "# check using numpy\n",
    "df_bse.values - np.column_stack([res.bse.values for res in estimators])"
   ]
  },
  {
   "cell_type": "code",
   "execution_count": null,
   "metadata": {
    "collapsed": true
   },
   "outputs": [],
   "source": []
  }
 ],
 "metadata": {
  "kernelspec": {
   "display_name": "Python 3",
   "language": "python",
   "name": "python3"
  },
  "language_info": {
   "codemirror_mode": {
    "name": "ipython",
    "version": 3
   },
   "file_extension": ".py",
   "mimetype": "text/x-python",
   "name": "python",
   "nbconvert_exporter": "python",
   "pygments_lexer": "ipython3",
   "version": "3.4.3"
  }
 },
 "nbformat": 4,
 "nbformat_minor": 0
}
