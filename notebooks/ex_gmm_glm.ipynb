{
 "metadata": {
  "name": "",
  "signature": "sha256:452e9c7db28c092d28c36c232cf5c77753902a09c82865ba7c8d5f41715b0f96"
 },
 "nbformat": 3,
 "nbformat_minor": 0,
 "worksheets": [
  {
   "cells": [
    {
     "cell_type": "heading",
     "level": 1,
     "metadata": {},
     "source": [
      "GLM as a GMM Model"
     ]
    },
    {
     "cell_type": "markdown",
     "metadata": {},
     "source": [
      "The purpose of this notebook is to replicate generalized linear models, or generalized estimating equations with a independence correlation structure, as a Generalized Methods of Moments model.\n",
      "\n",
      "The second part compares a score test for variable addition with a test of overidentifying restriction which should eventually provide a generic framework of conditional moment tests. \n",
      "\n",
      "**Status**: We can replicate GLM by GMM, but the rest is experimental"
     ]
    },
    {
     "cell_type": "code",
     "collapsed": false,
     "input": [
      "from __future__ import division\n",
      "import numpy as np\n",
      "from statsmodels.sandbox.regression.gmm import GMM"
     ],
     "language": "python",
     "metadata": {},
     "outputs": [],
     "prompt_number": 1
    },
    {
     "cell_type": "code",
     "collapsed": false,
     "input": [
      "class GMMGLM(GMM):\n",
      "\n",
      "    def __init__(self, endog, exog, instrument=None, glm_model=None):\n",
      "        if instrument is None:\n",
      "            instrument = exog\n",
      "        super(GMMGLM, self).__init__(endog, exog, instrument)\n",
      "        self.glm_model = glm_model\n",
      "        \n",
      "    def momcond(self, params):\n",
      "        mom1 = self.glm_model.score_factor(params)[:, None] * self.instrument\n",
      "        return mom1"
     ],
     "language": "python",
     "metadata": {},
     "outputs": [],
     "prompt_number": 2
    },
    {
     "cell_type": "markdown",
     "metadata": {},
     "source": [
      "Set up a Logit model for reference. We use an example from the statsmodels documentation."
     ]
    },
    {
     "cell_type": "code",
     "collapsed": false,
     "input": [
      "import statsmodels.api as sm"
     ],
     "language": "python",
     "metadata": {},
     "outputs": [],
     "prompt_number": 3
    },
    {
     "cell_type": "code",
     "collapsed": false,
     "input": [
      "# stardata is binomial count we 2d endog, Doesn't work yet.\n",
      "\n",
      "data = sm.datasets.star98.load()\n",
      "data_exog = sm.add_constant(data.exog, prepend=True)[:, :8]"
     ],
     "language": "python",
     "metadata": {},
     "outputs": [],
     "prompt_number": 4
    },
    {
     "cell_type": "markdown",
     "metadata": {},
     "source": [
      "Note: The affairs dataset is most likely to large to show problems with hypothesis testing that we have in small samples. The p-values of wald and score tests for testing that education has no effect are very close to each other. Asymptotically they have the same distribution, but in small samples waldtest is often liberal and overrejects, while score tests can be conservative and underreject. If both agree, then it is a strong indication that we don't have small sample problems by using the asymptotic distribution.\n",
      "\n",
      "I'm planning to redo the analysis with a random subsample of the dataset."
     ]
    },
    {
     "cell_type": "code",
     "collapsed": false,
     "input": [
      "dta = sm.datasets.fair.load_pandas().data\n",
      "dta['affair'] = (dta['affairs'] > 0).astype(float)\n",
      "\n",
      "affair_mod = sm.formula.logit(\"affair ~ occupation + educ + occupation_husb\" \n",
      "                   \"+ rate_marriage + age + yrs_married + children\"\n",
      "                   \" + religious\", dta).fit()\n",
      "\n",
      "# leave formulas and pandas for later\n",
      "data_endog = affair_mod.model.endog\n",
      "data_exog = affair_mod.model.exog\n",
      "\n",
      "glm_binom = sm.GLM(data_endog, data_exog, family=sm.families.Binomial())\n",
      "res = glm_binom.fit()\n",
      "print(res.summary())"
     ],
     "language": "python",
     "metadata": {},
     "outputs": [
      {
       "output_type": "stream",
       "stream": "stdout",
       "text": [
        "Optimization terminated successfully.\n",
        "         Current function value: 0.545314\n",
        "         Iterations 6\n",
        "                 Generalized Linear Model Regression Results                  \n",
        "==============================================================================\n",
        "Dep. Variable:                      y   No. Observations:                 6366\n",
        "Model:                            GLM   Df Residuals:                     6357\n",
        "Model Family:                Binomial   Df Model:                            8\n",
        "Link Function:                  logit   Scale:                             1.0\n",
        "Method:                          IRLS   Log-Likelihood:                -3471.5\n",
        "Date:                Thu, 08 Oct 2015   Deviance:                       6942.9\n",
        "Time:                        19:15:06   Pearson chi2:                 6.30e+03\n",
        "No. Iterations:                     6                                         \n",
        "==============================================================================\n",
        "                 coef    std err          z      P>|z|      [0.025      0.975]\n",
        "------------------------------------------------------------------------------\n",
        "const          3.7257      0.299     12.470      0.000       3.140       4.311\n",
        "x1             0.1602      0.034      4.717      0.000       0.094       0.227\n",
        "x2            -0.0392      0.015     -2.533      0.011      -0.070      -0.009\n",
        "x3             0.0124      0.023      0.541      0.589      -0.033       0.057\n",
        "x4            -0.7161      0.031    -22.784      0.000      -0.778      -0.655\n",
        "x5            -0.0605      0.010     -5.885      0.000      -0.081      -0.040\n",
        "x6             0.1100      0.011     10.054      0.000       0.089       0.131\n",
        "x7            -0.0042      0.032     -0.134      0.893      -0.066       0.058\n",
        "x8            -0.3752      0.035    -10.792      0.000      -0.443      -0.307\n",
        "==============================================================================\n"
       ]
      }
     ],
     "prompt_number": 5
    },
    {
     "cell_type": "code",
     "collapsed": false,
     "input": [
      "res_binom_hc0 = glm_binom.fit(cov_type='HC0')\n",
      "print(res_binom_hc0.bse)"
     ],
     "language": "python",
     "metadata": {},
     "outputs": [
      {
       "output_type": "stream",
       "stream": "stdout",
       "text": [
        "[ 0.29756134  0.03449398  0.01557106  0.02322051  0.03223825  0.01035988\n",
        "  0.01096011  0.03237676  0.03444219]\n"
       ]
      }
     ],
     "prompt_number": 6
    },
    {
     "cell_type": "code",
     "collapsed": false,
     "input": [
      "mod = GMMGLM(data_endog, data_exog, glm_model=glm_binom)\n",
      "res_gmm = mod.fit(res.params*0.5, maxiter=1)#, optim_method='nm')"
     ],
     "language": "python",
     "metadata": {},
     "outputs": [
      {
       "output_type": "stream",
       "stream": "stdout",
       "text": [
        "Optimization terminated successfully.\n",
        "         Current function value: 0.000000\n",
        "         Iterations: 67\n",
        "         Function evaluations: 83\n",
        "         Gradient evaluations: 83\n"
       ]
      }
     ],
     "prompt_number": 7
    },
    {
     "cell_type": "code",
     "collapsed": false,
     "input": [
      "print(res_gmm.params)\n"
     ],
     "language": "python",
     "metadata": {},
     "outputs": [
      {
       "output_type": "stream",
       "stream": "stdout",
       "text": [
        "[ 3.72566133  0.16023399 -0.03921794  0.01240123 -0.71610457 -0.06048658\n",
        "  0.11001699 -0.00423259 -0.37515608]\n"
       ]
      }
     ],
     "prompt_number": 8
    },
    {
     "cell_type": "code",
     "collapsed": false,
     "input": [
      "print(res_gmm.summary())"
     ],
     "language": "python",
     "metadata": {},
     "outputs": [
      {
       "output_type": "stream",
       "stream": "stdout",
       "text": [
        "                                GMMGLM Results                                \n",
        "==============================================================================\n",
        "Dep. Variable:                      y   Hansen J:                    7.169e-11\n",
        "Model:                         GMMGLM   Prob (Hansen J):                   nan\n",
        "Method:                           GMM                                         \n",
        "Date:                Thu, 08 Oct 2015                                         \n",
        "Time:                        19:15:09                                         \n",
        "No. Observations:                6366                                         \n",
        "==============================================================================\n",
        "                 coef    std err          z      P>|z|      [0.025      0.975]\n",
        "------------------------------------------------------------------------------\n",
        "const          3.7257      0.298     12.521      0.000       3.142       4.309\n",
        "x1             0.1602      0.034      4.645      0.000       0.093       0.228\n",
        "x2            -0.0392      0.016     -2.519      0.012      -0.070      -0.009\n",
        "x3             0.0124      0.023      0.534      0.593      -0.033       0.058\n",
        "x4            -0.7161      0.032    -22.213      0.000      -0.779      -0.653\n",
        "x5            -0.0605      0.010     -5.839      0.000      -0.081      -0.040\n",
        "x6             0.1100      0.011     10.038      0.000       0.089       0.131\n",
        "x7            -0.0042      0.032     -0.131      0.896      -0.068       0.059\n",
        "x8            -0.3752      0.034    -10.892      0.000      -0.443      -0.308\n",
        "==============================================================================\n"
       ]
      }
     ],
     "prompt_number": 9
    },
    {
     "cell_type": "code",
     "collapsed": false,
     "input": [
      "mod.momcond(res.params).mean(0)"
     ],
     "language": "python",
     "metadata": {},
     "outputs": [
      {
       "metadata": {},
       "output_type": "pyout",
       "prompt_number": 10,
       "text": [
        "array([ -2.48575029e-15,  -6.33966820e-15,  -2.96547790e-14,\n",
        "        -1.16476801e-14,  -1.07515491e-14,  -7.86880597e-14,\n",
        "        -2.72113640e-14,  -4.37912439e-15,  -4.54604588e-15])"
       ]
      }
     ],
     "prompt_number": 10
    },
    {
     "cell_type": "code",
     "collapsed": false,
     "input": [
      "res.model.score(res.params)"
     ],
     "language": "python",
     "metadata": {},
     "outputs": [
      {
       "metadata": {},
       "output_type": "pyout",
       "prompt_number": 11,
       "text": [
        "array([ -1.58242863e-11,  -4.03583278e-11,  -1.88782323e-10,\n",
        "        -7.41491313e-11,  -6.84443613e-11,  -5.00928188e-10,\n",
        "        -1.73227543e-10,  -2.78775059e-11,  -2.89401281e-11])"
       ]
      }
     ],
     "prompt_number": 11
    },
    {
     "cell_type": "markdown",
     "metadata": {},
     "source": [
      "GMM produces the same result as GLM-Logit with robust standard errors"
     ]
    },
    {
     "cell_type": "code",
     "collapsed": false,
     "input": [
      "res_gmm.bse / res_binom_hc0.bse - 1"
     ],
     "language": "python",
     "metadata": {},
     "outputs": [
      {
       "metadata": {},
       "output_type": "pyout",
       "prompt_number": 12,
       "text": [
        "array([ -3.78265158e-06,  -9.84386738e-07,  -1.63077784e-06,\n",
        "        -9.08122702e-07,  -1.91848044e-06,  -2.05369217e-06,\n",
        "        -3.03601619e-06,  -1.20129965e-06,  -1.09223021e-06])"
       ]
      }
     ],
     "prompt_number": 12
    },
    {
     "cell_type": "code",
     "collapsed": false,
     "input": [
      "res_gmm.bse - res_binom_hc0.bse"
     ],
     "language": "python",
     "metadata": {},
     "outputs": [
      {
       "metadata": {},
       "output_type": "pyout",
       "prompt_number": 13,
       "text": [
        "array([ -1.12557086e-06,  -3.39554191e-08,  -2.53929408e-08,\n",
        "        -2.10870701e-08,  -6.18484530e-08,  -2.12759985e-08,\n",
        "        -3.32750719e-08,  -3.88941921e-08,  -3.76187979e-08])"
       ]
      }
     ],
     "prompt_number": 13
    },
    {
     "cell_type": "code",
     "collapsed": false,
     "input": [],
     "language": "python",
     "metadata": {},
     "outputs": [],
     "prompt_number": 13
    },
    {
     "cell_type": "heading",
     "level": 2,
     "metadata": {},
     "source": [
      "Application: score test for added variable"
     ]
    },
    {
     "cell_type": "markdown",
     "metadata": {},
     "source": [
      "This is experimental and might not work yet.\n",
      "\n",
      "The third variable `educ` has a p-value of 0.012 in the wald t_test based on the asymptotic normal distribution using the heteroscedasticity robust standard errors. Since wald test are in many cases liberal, we can compare this with a score test which has in many cases more accurate p-values. For simplicity we just want to test the null hypothesis that the effect of education is zero.\n",
      "\n",
      "In the following we drop the variable from the estimated model and calculate score and conditional moment tests. In the GMM version we estimate the reduced model with `educ` as additional instrument, and look at the test for overidentifying restrictions.\n",
      "\n",
      "The following will be easier to do with formulas and pandas DataFrames, but I want to minimize possible sources of errors, and I'm more comfortable with numpy."
     ]
    },
    {
     "cell_type": "code",
     "collapsed": false,
     "input": [
      "affair_mod.model.data.xnames"
     ],
     "language": "python",
     "metadata": {},
     "outputs": [
      {
       "metadata": {},
       "output_type": "pyout",
       "prompt_number": 14,
       "text": [
        "['Intercept',\n",
        " 'occupation',\n",
        " 'educ',\n",
        " 'occupation_husb',\n",
        " 'rate_marriage',\n",
        " 'age',\n",
        " 'yrs_married',\n",
        " 'children',\n",
        " 'religious']"
       ]
      }
     ],
     "prompt_number": 14
    },
    {
     "cell_type": "code",
     "collapsed": false,
     "input": [
      "idx = list(range(len(res.params)))\n",
      "del idx[2]\n",
      "print(res.params[idx])  # check that we don't have -0.0392 at index 2 anymore"
     ],
     "language": "python",
     "metadata": {},
     "outputs": [
      {
       "output_type": "stream",
       "stream": "stdout",
       "text": [
        "[ 3.72571987  0.16023383  0.01240082 -0.71610711 -0.06048768  0.11001794\n",
        " -0.00423323 -0.37515765]\n"
       ]
      }
     ],
     "prompt_number": 15
    },
    {
     "cell_type": "code",
     "collapsed": false,
     "input": [
      "exog_reduced = data_exog[:, idx]   # exog without educ"
     ],
     "language": "python",
     "metadata": {},
     "outputs": [],
     "prompt_number": 16
    },
    {
     "cell_type": "code",
     "collapsed": false,
     "input": [
      "glm_binom2 = sm.GLM(data_endog, exog_reduced, family=sm.families.Binomial())\n",
      "res2 = glm_binom2.fit()"
     ],
     "language": "python",
     "metadata": {},
     "outputs": [],
     "prompt_number": 17
    },
    {
     "cell_type": "code",
     "collapsed": false,
     "input": [
      "res2.model.score_test(res2.params, exog_extra = data_exog[:, 2])"
     ],
     "language": "python",
     "metadata": {},
     "outputs": [
      {
       "metadata": {},
       "output_type": "pyout",
       "prompt_number": 18,
       "text": [
        "(array([ 6.42724105]), array([ 0.0112383]), 1)"
       ]
      }
     ],
     "prompt_number": 18
    },
    {
     "cell_type": "markdown",
     "metadata": {},
     "source": [
      "The pvalue of the score test, 0.01123, is close to the pvalue of the robust wald test and almost identical to the pvalue of the nonrobust wald test."
     ]
    },
    {
     "cell_type": "code",
     "collapsed": false,
     "input": [
      "res.pvalues[2]"
     ],
     "language": "python",
     "metadata": {},
     "outputs": [
      {
       "metadata": {},
       "output_type": "pyout",
       "prompt_number": 19,
       "text": [
        "0.01129370516727681"
       ]
      }
     ],
     "prompt_number": 19
    },
    {
     "cell_type": "markdown",
     "metadata": {},
     "source": [
      "Next we try the test for overidentifying restriction in GMM"
     ]
    },
    {
     "cell_type": "code",
     "collapsed": false,
     "input": [
      "mod_red = GMMGLM(data_endog, exog_reduced, data_exog, glm_model=glm_binom2)\n",
      "res_gmm_red = mod_red.fit(res2.params*0.5, maxiter=1)\n",
      "print(res_gmm_red.summary())"
     ],
     "language": "python",
     "metadata": {},
     "outputs": [
      {
       "output_type": "stream",
       "stream": "stdout",
       "text": [
        "Optimization terminated successfully.\n",
        "         Current function value: 0.000012\n",
        "         Iterations: 93\n",
        "         Function evaluations: 113\n",
        "         Gradient evaluations: 113\n",
        "                                GMMGLM Results                                \n",
        "==============================================================================\n",
        "Dep. Variable:                      y   Hansen J:                      0.07338\n",
        "Model:                         GMMGLM   Prob (Hansen J):                 0.786\n",
        "Method:                           GMM                                         \n",
        "Date:                Thu, 08 Oct 2015                                         \n",
        "Time:                        19:15:13                                         \n",
        "No. Observations:                6366                                         \n",
        "==============================================================================\n",
        "                 coef    std err          z      P>|z|      [0.025      0.975]\n",
        "------------------------------------------------------------------------------\n",
        "const          1.9039      0.255      7.460      0.000       1.404       2.404\n",
        "x1             0.1672      0.032      5.270      0.000       0.105       0.229\n",
        "x2             0.0256      0.023      1.133      0.257      -0.019       0.070\n",
        "x3            -0.6397      0.031    -20.788      0.000      -0.700      -0.579\n",
        "x4            -0.0260      0.009     -2.748      0.006      -0.044      -0.007\n",
        "x5             0.0811      0.010      8.045      0.000       0.061       0.101\n",
        "x6             0.0146      0.031      0.465      0.642      -0.047       0.076\n",
        "x7            -0.3311      0.034     -9.859      0.000      -0.397      -0.265\n",
        "==============================================================================\n"
       ]
      }
     ],
     "prompt_number": 20
    },
    {
     "cell_type": "code",
     "collapsed": false,
     "input": [
      "res_gmm_red.jtest()"
     ],
     "language": "python",
     "metadata": {},
     "outputs": [
      {
       "metadata": {},
       "output_type": "pyout",
       "prompt_number": 21,
       "text": [
        "(0.073381567745762516, 0.78647538706118691, 1)"
       ]
      }
     ],
     "prompt_number": 21
    },
    {
     "cell_type": "markdown",
     "metadata": {},
     "source": [
      "The overidentifying restrictions are not rejected. \n",
      "Note: This is a bit of a weird test in this case. We have the reduced model in the prediction, but the extra variable as an instrument. \n",
      "    I'm not sure what we are actually testing, besides some general orthogonality condition.\n",
      "    \n",
      "What we would like to do right now is to use the restricted parameters, so we can calculate the moment conditions in the constrained model. I don't see yet where this is supported or how to support it. \n",
      "\n",
      "The following are just some additional checks with respect to changes in the number of GMM iterations. The above uses the identity weight matrix which is irrelevant in the exactly identified case that we had before. Now, we are in the overidentified case and need to adjust the weight matrix. As it turns out below, using two or more GMM iterations reduces the p-value for the j-test to 0.011 which is almost exactly the same as the non-robust Wald and the score test. (I need to think.)"
     ]
    },
    {
     "cell_type": "code",
     "collapsed": false,
     "input": [
      "res2.params"
     ],
     "language": "python",
     "metadata": {},
     "outputs": [
      {
       "metadata": {},
       "output_type": "pyout",
       "prompt_number": 22,
       "text": [
        "array([  3.42523458e+00,   1.31822707e-01,   5.06765091e-03,\n",
        "        -7.18774739e-01,  -6.64916925e-02,   1.15877472e-01,\n",
        "         7.73938325e-04,  -3.76889869e-01])"
       ]
      }
     ],
     "prompt_number": 22
    },
    {
     "cell_type": "code",
     "collapsed": false,
     "input": [
      "res_gmm_red0 = mod_red.fit(res2.params*0.5, maxiter=0)\n",
      "res_gmm_red2 = mod_red.fit(res2.params*0.5, maxiter=2)\n",
      "print(res_gmm_red0.params)\n",
      "print(res_gmm_red2.params)"
     ],
     "language": "python",
     "metadata": {},
     "outputs": [
      {
       "output_type": "stream",
       "stream": "stdout",
       "text": [
        "Optimization terminated successfully.\n",
        "         Current function value: 0.000012\n",
        "         Iterations: 93\n",
        "         Function evaluations: 113\n",
        "         Gradient evaluations: 113\n",
        "Optimization terminated successfully."
       ]
      },
      {
       "output_type": "stream",
       "stream": "stdout",
       "text": [
        "\n",
        "         Current function value: 0.000012\n",
        "         Iterations: 93\n",
        "         Function evaluations: 113\n",
        "         Gradient evaluations: 113\n",
        "Optimization terminated successfully."
       ]
      },
      {
       "output_type": "stream",
       "stream": "stdout",
       "text": [
        "\n",
        "         Current function value: 0.001004\n",
        "         Iterations: 22\n",
        "         Function evaluations: 25\n",
        "         Gradient evaluations: 25\n",
        "[ 1.90392843  0.16723188  0.02556783 -0.63974794 -0.02597373  0.08106879\n",
        "  0.01457806 -0.33111524]\n",
        "[  3.45054937e+00   1.30305938e-01   4.82099713e-03  -7.20765741e-01\n",
        "  -6.70891066e-02   1.16593705e-01   1.87696971e-03  -3.78327300e-01]\n"
       ]
      }
     ],
     "prompt_number": 23
    },
    {
     "cell_type": "code",
     "collapsed": false,
     "input": [
      "res2.params*0.5  # check how much params moved with maxiter=0"
     ],
     "language": "python",
     "metadata": {},
     "outputs": [
      {
       "metadata": {},
       "output_type": "pyout",
       "prompt_number": 24,
       "text": [
        "array([  1.71261729e+00,   6.59113534e-02,   2.53382545e-03,\n",
        "        -3.59387370e-01,  -3.32458462e-02,   5.79387358e-02,\n",
        "         3.86969163e-04,  -1.88444934e-01])"
       ]
      }
     ],
     "prompt_number": 24
    },
    {
     "cell_type": "code",
     "collapsed": false,
     "input": [
      "res_gmm_red2.jtest()"
     ],
     "language": "python",
     "metadata": {},
     "outputs": [
      {
       "metadata": {},
       "output_type": "pyout",
       "prompt_number": 25,
       "text": [
        "(6.3917262195208489, 0.011465347883424048, 1)"
       ]
      }
     ],
     "prompt_number": 25
    },
    {
     "cell_type": "code",
     "collapsed": false,
     "input": [],
     "language": "python",
     "metadata": {},
     "outputs": [],
     "prompt_number": 25
    },
    {
     "cell_type": "code",
     "collapsed": false,
     "input": [
      "res_gmm_red10 = mod_red.fit(res2.params*0.5, maxiter=10, optim_args=dict(disp=0)) # turn of the display of iteration results\n",
      "res_gmm_red10.jtest()"
     ],
     "language": "python",
     "metadata": {},
     "outputs": [
      {
       "metadata": {},
       "output_type": "pyout",
       "prompt_number": 26,
       "text": [
        "(6.4141956667727804, 0.011321159627002643, 1)"
       ]
      }
     ],
     "prompt_number": 26
    },
    {
     "cell_type": "code",
     "collapsed": false,
     "input": [
      "res_gmm_red10.params"
     ],
     "language": "python",
     "metadata": {},
     "outputs": [
      {
       "metadata": {},
       "output_type": "pyout",
       "prompt_number": 27,
       "text": [
        "array([  3.45062431e+00,   1.30390828e-01,   4.65270807e-03,\n",
        "        -7.20710409e-01,  -6.71229305e-02,   1.16670805e-01,\n",
        "         1.88483098e-03,  -3.78264590e-01])"
       ]
      }
     ],
     "prompt_number": 27
    },
    {
     "cell_type": "code",
     "collapsed": false,
     "input": [
      "res2.params"
     ],
     "language": "python",
     "metadata": {},
     "outputs": [
      {
       "metadata": {},
       "output_type": "pyout",
       "prompt_number": 28,
       "text": [
        "array([  3.42523458e+00,   1.31822707e-01,   5.06765091e-03,\n",
        "        -7.18774739e-01,  -6.64916925e-02,   1.15877472e-01,\n",
        "         7.73938325e-04,  -3.76889869e-01])"
       ]
      }
     ],
     "prompt_number": 28
    },
    {
     "cell_type": "markdown",
     "metadata": {},
     "source": [
      "This looks like the expected results after all. After 10 GMM iterations the parameter estimates get close to the constrained GLM estimates.\n",
      "\n",
      "We are getting closer but this still solves a different problem since we don't keep the parameters fixed at the constrained solution.\n",
      "\n",
      "More to come: In another branch I have generic standalone conditional moment tests, that are similar to the GMM setup but use fixed parameters estimated in the constrained model."
     ]
    },
    {
     "cell_type": "markdown",
     "metadata": {},
     "source": [
      "Using another option, we can get the constrained parameter estimate by assigning zero weight to the extra restriction. The parameter estimates are close to the constrained GLM estimates. \n",
      "But I never tried this before and I'm not sure whether the weights are inverse weights in this example. Also, since the estimation is not based on the efficient weights matrix, the jtest does not apply, even though the result is still available."
     ]
    },
    {
     "cell_type": "code",
     "collapsed": false,
     "input": [
      "inv_weights = np.eye(9)\n",
      "inv_weights[2,2] = 0\n",
      "res_gmm_red1w = mod_red.fit(res2.params*0.5, maxiter=1, inv_weights=inv_weights, optim_args=dict(disp=0), has_optimal_weights=False)\n",
      "print(res_gmm_red1w.params)\n",
      "print(res_gmm_red1w.jtest())"
     ],
     "language": "python",
     "metadata": {},
     "outputs": [
      {
       "output_type": "stream",
       "stream": "stdout",
       "text": [
        "[  3.42521502e+00   1.31823174e-01   5.06794151e-03  -7.18773753e-01\n",
        "  -6.64911831e-02   1.15877026e-01   7.74106909e-04  -3.76889129e-01]\n",
        "(1.4495974698075029e-11, 0.99999696216785972, 1)\n"
       ]
      }
     ],
     "prompt_number": 29
    },
    {
     "cell_type": "markdown",
     "metadata": {},
     "source": [
      "**Conclusion** so far is that I don't know yet how to get the equivalent of an score test for a constrained model with GMM"
     ]
    },
    {
     "cell_type": "heading",
     "level": 2,
     "metadata": {},
     "source": [
      "Lagrange Multiplier"
     ]
    },
    {
     "cell_type": "markdown",
     "metadata": {},
     "source": [
      "(experimental)\n",
      "\n",
      "In the following we add a slack parameter to a moment condition. This is a way to estimate the parameters of the constrained model but we have the moment conditions available for the full model. See McFadden or ... (which textbook).\n",
      "\n",
      "The wald test on the slack parameter provides a version of the Lagrange multiplier or score test. The difference to the likelihood based score test is that this moment test is based on a robust covariance matrix, in this case HC0.\n",
      "\n",
      "Note McFadden, or Newey and McFadden (?) have several definitions of LM or score tests. I'm not sure yet which variant this is.\n",
      "\n",
      "In this case we cannot use the test for overidentifying restrictions anymore because we added artificial parameters that makes the problem exactly identified, given that we started out with an exactly identified model. \n",
      "\n",
      "The test is the same variable addition test as in the previous section. The second explanatory variable is removed from the mean function of the model but included as instrument in the moment condition. The null hypothesis is that this variable has a coefficient of zero, and  is therefore orthogonal to the weighted residuals or elementary zero function of the model. (\"elementary zero function\" is terminology in  Davidson, MacKinnon.)"
     ]
    },
    {
     "cell_type": "code",
     "collapsed": false,
     "input": [],
     "language": "python",
     "metadata": {},
     "outputs": [],
     "prompt_number": 29
    },
    {
     "cell_type": "code",
     "collapsed": false,
     "input": [
      "class GMMGLMVADD(GMM):\n",
      "\n",
      "    def __init__(self, endog, exog, instrument=None, glm_model=None, slack_idx=None):\n",
      "        if instrument is None:\n",
      "            instrument = exog\n",
      "        super(GMMGLMVADD, self).__init__(endog, exog, instrument)\n",
      "        self.glm_model = glm_model\n",
      "        \n",
      "        if slack_idx is None:\n",
      "            self.k_slack = 0\n",
      "        else:\n",
      "            self.slack_idx = slack_idx\n",
      "            self.k_slack = len(slack_idx)\n",
      "        \n",
      "    def momcond(self, params):\n",
      "        k_slack = self.k_slack\n",
      "        mom1 = self.glm_model.score_factor(params[:-k_slack])[:, None] * self.instrument\n",
      "        if k_slack > 0:\n",
      "            mom1[:, self.slack_idx] += params[-k_slack:]\n",
      "        return mom1"
     ],
     "language": "python",
     "metadata": {},
     "outputs": [],
     "prompt_number": 30
    },
    {
     "cell_type": "code",
     "collapsed": false,
     "input": [
      "mod_red3 = GMMGLMVADD(data_endog, exog_reduced, data_exog, glm_model=glm_binom2, slack_idx=[2])\n",
      "res_gmm_red3 = mod_red3.fit(np.concatenate((res2.params*0.5, [0])), maxiter=2)\n",
      "xnames = ['const', 'x1', 'x2', 'x3', 'x4', 'x5', 'x6', 'x7', 'slack2']\n",
      "print(res_gmm_red3.summary(xname=xnames))"
     ],
     "language": "python",
     "metadata": {},
     "outputs": [
      {
       "output_type": "stream",
       "stream": "stdout",
       "text": [
        "Optimization terminated successfully.\n",
        "         Current function value: 0.000000\n",
        "         Iterations: 132\n",
        "         Function evaluations: 157\n",
        "         Gradient evaluations: 157\n",
        "Optimization terminated successfully."
       ]
      },
      {
       "output_type": "stream",
       "stream": "stdout",
       "text": [
        "\n",
        "         Current function value: 0.000000\n",
        "         Iterations: 4\n",
        "         Function evaluations: 8\n",
        "         Gradient evaluations: 8\n",
        "                              GMMGLMVADD Results                              \n",
        "==============================================================================\n",
        "Dep. Variable:                      y   Hansen J:                    1.749e-06\n",
        "Model:                     GMMGLMVADD   Prob (Hansen J):                   nan\n",
        "Method:                           GMM                                         \n",
        "Date:                Thu, 08 Oct 2015                                         \n",
        "Time:                        19:15:21                                         \n",
        "No. Observations:                6366                                         \n",
        "==============================================================================\n",
        "                 coef    std err          z      P>|z|      [0.025      0.975]\n",
        "------------------------------------------------------------------------------\n",
        "const          3.4249      0.274     12.482      0.000       2.887       3.963\n",
        "x1             0.1318      0.032      4.073      0.000       0.068       0.195\n",
        "x2             0.0051      0.023      0.221      0.825      -0.040       0.050\n",
        "x3            -0.7188      0.032    -22.307      0.000      -0.782      -0.656\n",
        "x4            -0.0665      0.010     -6.578      0.000      -0.086      -0.047\n",
        "x5             0.1159      0.011     10.818      0.000       0.095       0.137\n",
        "x6             0.0008      0.032      0.024      0.981      -0.062       0.064\n",
        "x7            -0.3769      0.034    -10.965      0.000      -0.444      -0.310\n",
        "slack2         0.0259      0.010      2.535      0.011       0.006       0.046\n",
        "==============================================================================\n"
       ]
      }
     ],
     "prompt_number": 31
    },
    {
     "cell_type": "code",
     "collapsed": false,
     "input": [
      "mod_red3.slack_idx, mod_red3.k_slack\n"
     ],
     "language": "python",
     "metadata": {},
     "outputs": [
      {
       "metadata": {},
       "output_type": "pyout",
       "prompt_number": 32,
       "text": [
        "([2], 1)"
       ]
      }
     ],
     "prompt_number": 32
    },
    {
     "cell_type": "code",
     "collapsed": false,
     "input": [
      "res_gmm_red3.bse\n"
     ],
     "language": "python",
     "metadata": {},
     "outputs": [
      {
       "metadata": {},
       "output_type": "pyout",
       "prompt_number": 33,
       "text": [
        "array([ 0.27439167,  0.03236501,  0.02290473,  0.03222159,  0.01010725,\n",
        "        0.0107106 ,  0.03228203,  0.03437142,  0.01021506])"
       ]
      }
     ],
     "prompt_number": 33
    },
    {
     "cell_type": "code",
     "collapsed": false,
     "input": [
      "res_gmm_red3.pvalues"
     ],
     "language": "python",
     "metadata": {},
     "outputs": [
      {
       "metadata": {},
       "output_type": "pyout",
       "prompt_number": 34,
       "text": [
        "array([  9.39607510e-036,   4.63687648e-005,   8.24724152e-001,\n",
        "         3.18839613e-110,   4.78033256e-011,   2.82512202e-027,\n",
        "         9.80801929e-001,   5.63042188e-028,   1.12320912e-002])"
       ]
      }
     ],
     "prompt_number": 34
    },
    {
     "cell_type": "code",
     "collapsed": false,
     "input": [
      "mod_red3.data.xnames\n"
     ],
     "language": "python",
     "metadata": {},
     "outputs": [
      {
       "metadata": {},
       "output_type": "pyout",
       "prompt_number": 35,
       "text": [
        "['const', 'x1', 'x2', 'x3', 'x4', 'x5', 'x6', 'x7']"
       ]
      }
     ],
     "prompt_number": 35
    },
    {
     "cell_type": "code",
     "collapsed": false,
     "input": [
      "res2.params"
     ],
     "language": "python",
     "metadata": {},
     "outputs": [
      {
       "metadata": {},
       "output_type": "pyout",
       "prompt_number": 36,
       "text": [
        "array([  3.42523458e+00,   1.31822707e-01,   5.06765091e-03,\n",
        "        -7.18774739e-01,  -6.64916925e-02,   1.15877472e-01,\n",
        "         7.73938325e-04,  -3.76889869e-01])"
       ]
      }
     ],
     "prompt_number": 36
    },
    {
     "cell_type": "code",
     "collapsed": false,
     "input": [
      "res2.bse"
     ],
     "language": "python",
     "metadata": {},
     "outputs": [
      {
       "metadata": {},
       "output_type": "pyout",
       "prompt_number": 37,
       "text": [
        "array([ 0.27311515,  0.03204911,  0.02269253,  0.03141184,  0.01003245,\n",
        "        0.01071536,  0.03154603,  0.03470859])"
       ]
      }
     ],
     "prompt_number": 37
    },
    {
     "cell_type": "code",
     "collapsed": false,
     "input": [
      "res2.pvalues"
     ],
     "language": "python",
     "metadata": {},
     "outputs": [
      {
       "metadata": {},
       "output_type": "pyout",
       "prompt_number": 38,
       "text": [
        "array([  4.43338940e-036,   3.90300395e-005,   8.23287987e-001,\n",
        "         6.97441580e-116,   3.41051586e-011,   2.95011174e-027,\n",
        "         9.80426966e-001,   1.81326984e-027])"
       ]
      }
     ],
     "prompt_number": 38
    },
    {
     "cell_type": "code",
     "collapsed": false,
     "input": [
      "scs, scpvalue, _ = res2.model.score_test(res2.params, exog_extra = data_exog[:, 2])"
     ],
     "language": "python",
     "metadata": {},
     "outputs": [],
     "prompt_number": 39
    },
    {
     "cell_type": "code",
     "collapsed": false,
     "input": [
      "res_gmm_red3.pvalues[-1], scpvalue, res_gmm_red3.pvalues[-1] - scpvalue, res_gmm_red3.pvalues[-1] / scpvalue - 1"
     ],
     "language": "python",
     "metadata": {},
     "outputs": [
      {
       "metadata": {},
       "output_type": "pyout",
       "prompt_number": 40,
       "text": [
        "(0.011232091165573164,\n",
        " array([ 0.0112383]),\n",
        " array([ -6.21036920e-06]),\n",
        " array([-0.00055261]))"
       ]
      }
     ],
     "prompt_number": 40
    },
    {
     "cell_type": "code",
     "collapsed": false,
     "input": [
      "scs, res_gmm_red3.tvalues[-1]**2, scs / res_gmm_red3.tvalues[-1]**2 - 1\n"
     ],
     "language": "python",
     "metadata": {},
     "outputs": [
      {
       "metadata": {},
       "output_type": "pyout",
       "prompt_number": 41,
       "text": [
        "(array([ 6.42724105]), 6.4282228003214819, array([-0.00015272]))"
       ]
      }
     ],
     "prompt_number": 41
    },
    {
     "cell_type": "code",
     "collapsed": false,
     "input": [
      "res2.model.score_test(res2.params, exog_extra = data_exog[:, 2])\n"
     ],
     "language": "python",
     "metadata": {},
     "outputs": [
      {
       "metadata": {},
       "output_type": "pyout",
       "prompt_number": 42,
       "text": [
        "(array([ 6.42724105]), array([ 0.0112383]), 1)"
       ]
      }
     ],
     "prompt_number": 42
    },
    {
     "cell_type": "heading",
     "level": 3,
     "metadata": {},
     "source": [
      "Explicit Calculation of score tests"
     ]
    },
    {
     "cell_type": "markdown",
     "metadata": {},
     "source": [
      "Finally, we can calculate the score or Lagrange Multiplier tests directly based on the matrices that can be calculated with the models.\n",
      "\n",
      "As starting point we use the full model with all moment conditions and the parameter estimates of the restricted model."
     ]
    },
    {
     "cell_type": "code",
     "collapsed": false,
     "input": [
      "res_gmm_red3.params[:-1], res2.params"
     ],
     "language": "python",
     "metadata": {},
     "outputs": [
      {
       "metadata": {},
       "output_type": "pyout",
       "prompt_number": 43,
       "text": [
        "(array([  3.42487405e+00,   1.31829634e-01,   5.07277912e-03,\n",
        "         -7.18754106e-01,  -6.64816846e-02,   1.15868568e-01,\n",
        "          7.76819793e-04,  -3.76882429e-01]),\n",
        " array([  3.42523458e+00,   1.31822707e-01,   5.06765091e-03,\n",
        "         -7.18774739e-01,  -6.64916925e-02,   1.15877472e-01,\n",
        "          7.73938325e-04,  -3.76889869e-01]))"
       ]
      }
     ],
     "prompt_number": 43
    },
    {
     "cell_type": "code",
     "collapsed": false,
     "input": [
      "params_restricted = np.insert(res_gmm_red3.params[:-1], 2, 0)\n",
      "params_restricted = np.insert(res2.params, 2, 0)\n",
      "params_restricted"
     ],
     "language": "python",
     "metadata": {},
     "outputs": [
      {
       "metadata": {},
       "output_type": "pyout",
       "prompt_number": 44,
       "text": [
        "array([  3.42523458e+00,   1.31822707e-01,   0.00000000e+00,\n",
        "         5.06765091e-03,  -7.18774739e-01,  -6.64916925e-02,\n",
        "         1.15877472e-01,   7.73938325e-04,  -3.76889869e-01])"
       ]
      }
     ],
     "prompt_number": 44
    },
    {
     "cell_type": "code",
     "collapsed": false,
     "input": [
      "M = mod.momcond_mean(params_restricted)\n",
      "D = mod.gradient_momcond(params_restricted)\n",
      "moms = mod.momcond(params_restricted)\n",
      "#V = mod.calc_weightmatrix(...)   check this\n",
      "V = np.cov(moms.T)\n",
      "W = res_gmm.weights\n",
      "M, D, W, V"
     ],
     "language": "python",
     "metadata": {},
     "outputs": [
      {
       "metadata": {},
       "output_type": "pyout",
       "prompt_number": 45,
       "text": [
        "(array([ -2.10543873e-15,  -6.17188780e-15,  -2.58991722e-02,\n",
        "         -4.87933079e-15,  -5.85380175e-15,  -7.20706700e-14,\n",
        "         -2.38310785e-14,  -3.97369286e-15,  -5.26707173e-15]),\n",
        " array([[  -0.18283202,   -0.62931154,   -2.58428762,   -0.70685725,\n",
        "           -0.72666576,   -5.41078539,   -1.8003257 ,   -0.28018795,\n",
        "           -0.42789648],\n",
        "        [  -0.62931154,   -2.33007695,   -9.03580485,   -2.47994857,\n",
        "           -2.51293754,  -18.73930255,   -6.24245299,   -0.95923235,\n",
        "           -1.47873372],\n",
        "        [  -2.58428778,   -9.03580541,  -37.38268793,  -10.09033072,\n",
        "          -10.29460253,  -76.5458288 ,  -25.14389312,   -3.87953041,\n",
        "           -6.05105514],\n",
        "        [  -0.70685726,   -2.47994857,  -10.09033011,   -3.05838927,\n",
        "           -2.82113798,  -21.18732083,   -7.19004012,   -1.11166366,\n",
        "           -1.65646452],\n",
        "        [  -0.72666576,   -2.51293754,  -10.29460202,   -2.82113798,\n",
        "           -3.0492791 ,  -21.48041489,   -7.14981783,   -1.10433206,\n",
        "           -1.70069266],\n",
        "        [  -5.41078758,  -18.7393102 ,  -76.54585388,  -21.18732946,\n",
        "          -21.48042289, -169.0112392 ,  -61.79527152,   -9.53554966,\n",
        "          -12.87355868],\n",
        "        [  -1.80032595,   -6.24245386,  -25.1438944 ,   -7.19004109,\n",
        "           -7.14981882,  -61.79524342,  -27.70449502,   -4.2519359 ,\n",
        "           -4.45012795],\n",
        "        [  -0.28018795,   -0.95923235,   -3.87953009,   -1.11166366,\n",
        "           -1.10433206,   -9.53554401,   -4.25193516,   -0.81335245,\n",
        "           -0.70232518],\n",
        "        [  -0.42789648,   -1.47873371,   -6.05105483,   -1.65646452,\n",
        "           -1.70069266,  -12.87355376,   -4.45012732,   -0.70232518,\n",
        "           -1.13853604]]),\n",
        " array([[ 1.,  0.,  0.,  0.,  0.,  0.,  0.,  0.,  0.],\n",
        "        [ 0.,  1.,  0.,  0.,  0.,  0.,  0.,  0.,  0.],\n",
        "        [ 0.,  0.,  1.,  0.,  0.,  0.,  0.,  0.,  0.],\n",
        "        [ 0.,  0.,  0.,  1.,  0.,  0.,  0.,  0.,  0.],\n",
        "        [ 0.,  0.,  0.,  0.,  1.,  0.,  0.,  0.,  0.],\n",
        "        [ 0.,  0.,  0.,  0.,  0.,  1.,  0.,  0.,  0.],\n",
        "        [ 0.,  0.,  0.,  0.,  0.,  0.,  1.,  0.,  0.],\n",
        "        [ 0.,  0.,  0.,  0.,  0.,  0.,  0.,  1.,  0.],\n",
        "        [ 0.,  0.,  0.,  0.,  0.,  0.,  0.,  0.,  1.]]),\n",
        " array([[   0.18342526,    0.62836418,    2.58301434,    0.70789551,\n",
        "            0.72262673,    5.49056489,    1.86697968,    0.29238911,\n",
        "            0.42691353],\n",
        "        [   0.62836418,    2.31968388,    8.98456669,    2.46953305,\n",
        "            2.48977564,   18.91204798,    6.4167698 ,    0.99177319,\n",
        "            1.46574926],\n",
        "        [   2.58301434,    8.98456669,   37.19750312,   10.06011201,\n",
        "           10.19287649,   77.43856837,   26.07619283,    4.05121205,\n",
        "            6.00971088],\n",
        "        [   0.70789551,    2.46953305,   10.06011201,    3.06115022,\n",
        "            2.80057596,   21.44504654,    7.43070773,    1.1551975 ,\n",
        "            1.64978165],\n",
        "        [   0.72262673,    2.48977564,   10.19287649,    2.80057596,\n",
        "            3.01717045,   21.599835  ,    7.34649643,    1.13695951,\n",
        "            1.68118051],\n",
        "        [   5.49056489,   18.91204798,   77.43856837,   21.44504654,\n",
        "           21.599835  ,  172.9604553 ,   64.06313033,    9.91802978,\n",
        "           12.96891675],\n",
        "        [   1.86697968,    6.4167698 ,   26.07619283,    7.43070773,\n",
        "            7.34649643,   64.06313033,   28.60910013,    4.39962125,\n",
        "            4.5638303 ],\n",
        "        [   0.29238911,    0.99177319,    4.05121205,    1.1551975 ,\n",
        "            1.13695951,    9.91802978,    4.39962125,    0.84613688,\n",
        "            0.72422916],\n",
        "        [   0.42691353,    1.46574926,    6.00971088,    1.64978165,\n",
        "            1.68118051,   12.96891675,    4.5638303 ,    0.72422916,\n",
        "            1.12725452]]))"
       ]
      }
     ],
     "prompt_number": 45
    },
    {
     "cell_type": "code",
     "collapsed": false,
     "input": [
      "from scipy import stats\n",
      "nobs = mod.endog.shape[0]\n",
      "Vinv = np.linalg.pinv(V)\n",
      "ddf = len(res2.params)\n",
      "ss = (nobs - ddf) * M.dot(Vinv.dot(M))\n",
      "ss, stats.chi2.sf(ss, 1)"
     ],
     "language": "python",
     "metadata": {},
     "outputs": [
      {
       "metadata": {},
       "output_type": "pyout",
       "prompt_number": 46,
       "text": [
        "(6.4477917682854198, 0.011109033369376293)"
       ]
      }
     ],
     "prompt_number": 46
    },
    {
     "cell_type": "code",
     "collapsed": false,
     "input": [
      "M"
     ],
     "language": "python",
     "metadata": {},
     "outputs": [
      {
       "metadata": {},
       "output_type": "pyout",
       "prompt_number": 47,
       "text": [
        "array([ -2.10543873e-15,  -6.17188780e-15,  -2.58991722e-02,\n",
        "        -4.87933079e-15,  -5.85380175e-15,  -7.20706700e-14,\n",
        "        -2.38310785e-14,  -3.97369286e-15,  -5.26707173e-15])"
       ]
      }
     ],
     "prompt_number": 47
    },
    {
     "cell_type": "code",
     "collapsed": false,
     "input": [
      "nobs"
     ],
     "language": "python",
     "metadata": {},
     "outputs": [
      {
       "metadata": {},
       "output_type": "pyout",
       "prompt_number": 48,
       "text": [
        "6366"
       ]
      }
     ],
     "prompt_number": 48
    },
    {
     "cell_type": "code",
     "collapsed": false,
     "input": [
      "scs, scpvalue"
     ],
     "language": "python",
     "metadata": {},
     "outputs": [
      {
       "metadata": {},
       "output_type": "pyout",
       "prompt_number": 49,
       "text": [
        "(array([ 6.42724105]), array([ 0.0112383]))"
       ]
      }
     ],
     "prompt_number": 49
    },
    {
     "cell_type": "code",
     "collapsed": false,
     "input": [
      "M.dot(V.dot(M))"
     ],
     "language": "python",
     "metadata": {},
     "outputs": [
      {
       "metadata": {},
       "output_type": "pyout",
       "prompt_number": 50,
       "text": [
        "0.024950862053233158"
       ]
      }
     ],
     "prompt_number": 50
    },
    {
     "cell_type": "code",
     "collapsed": false,
     "input": [
      "Vb = D.dot(Vinv).dot(D)\n",
      "Vbinv = np.linalg.pinv(V)\n",
      "ss = (nobs - ddf) * M.dot(Vbinv.dot(M))\n",
      "ss, stats.chi2.sf(ss, 1)"
     ],
     "language": "python",
     "metadata": {},
     "outputs": [
      {
       "metadata": {},
       "output_type": "pyout",
       "prompt_number": 51,
       "text": [
        "(6.4477917682854198, 0.011109033369376293)"
       ]
      }
     ],
     "prompt_number": 51
    },
    {
     "cell_type": "code",
     "collapsed": false,
     "input": [
      "np.sqrt(np.diag(Vbinv))"
     ],
     "language": "python",
     "metadata": {},
     "outputs": [
      {
       "metadata": {},
       "output_type": "pyout",
       "prompt_number": 52,
       "text": [
        "array([ 23.94470765,   2.67108656,   1.22958727,   1.80686733,\n",
        "         2.44629158,   0.81341329,   0.87077882,   2.46498821,   2.79771633])"
       ]
      }
     ],
     "prompt_number": 52
    },
    {
     "cell_type": "code",
     "collapsed": false,
     "input": [
      "res2.bse"
     ],
     "language": "python",
     "metadata": {},
     "outputs": [
      {
       "metadata": {},
       "output_type": "pyout",
       "prompt_number": 53,
       "text": [
        "array([ 0.27311515,  0.03204911,  0.02269253,  0.03141184,  0.01003245,\n",
        "        0.01071536,  0.03154603,  0.03470859])"
       ]
      }
     ],
     "prompt_number": 53
    },
    {
     "cell_type": "code",
     "collapsed": false,
     "input": [
      "23.94470765 / 0.27311515\n"
     ],
     "language": "python",
     "metadata": {},
     "outputs": [
      {
       "metadata": {},
       "output_type": "pyout",
       "prompt_number": 54,
       "text": [
        "87.67257199023929"
       ]
      }
     ],
     "prompt_number": 54
    },
    {
     "cell_type": "code",
     "collapsed": false,
     "input": [
      "np.sqrt(nobs)"
     ],
     "language": "python",
     "metadata": {},
     "outputs": [
      {
       "metadata": {},
       "output_type": "pyout",
       "prompt_number": 55,
       "text": [
        "79.787217021274785"
       ]
      }
     ],
     "prompt_number": 55
    },
    {
     "cell_type": "code",
     "collapsed": false,
     "input": [
      "2.67108656 / 0.03204911"
     ],
     "language": "python",
     "metadata": {},
     "outputs": [
      {
       "metadata": {},
       "output_type": "pyout",
       "prompt_number": 56,
       "text": [
        "83.34354869760814"
       ]
      }
     ],
     "prompt_number": 56
    },
    {
     "cell_type": "code",
     "collapsed": false,
     "input": [
      "Vb = D.dot(Vinv).dot(D)\n",
      "Vbinv = np.linalg.pinv(V)\n",
      "ss = (nobs - 0) * M.dot(Vbinv.dot(M))\n",
      "ss, stats.chi2.sf(ss, 1)"
     ],
     "language": "python",
     "metadata": {},
     "outputs": [
      {
       "metadata": {},
       "output_type": "pyout",
       "prompt_number": 57,
       "text": [
        "(6.4559047494345672, 0.011058422030834639)"
       ]
      }
     ],
     "prompt_number": 57
    },
    {
     "cell_type": "code",
     "collapsed": false,
     "input": [
      "k_params = len(params_restricted)\n",
      "R = np.zeros((1, k_params))\n",
      "R[0, 2] = 1\n",
      "R.dot(params_restricted)"
     ],
     "language": "python",
     "metadata": {},
     "outputs": [
      {
       "metadata": {},
       "output_type": "pyout",
       "prompt_number": 58,
       "text": [
        "array([ 0.])"
       ]
      }
     ],
     "prompt_number": 58
    },
    {
     "cell_type": "code",
     "collapsed": false,
     "input": [
      "ss = (nobs - 0) * M[[2]].dot(R.dot(Vbinv.dot(R.T)).dot(M[[2]]))\n",
      "ss, stats.chi2.sf(ss, 1)"
     ],
     "language": "python",
     "metadata": {},
     "outputs": [
      {
       "metadata": {},
       "output_type": "pyout",
       "prompt_number": 59,
       "text": [
        "(6.4559047494491058, 0.011058422030744188)"
       ]
      }
     ],
     "prompt_number": 59
    },
    {
     "cell_type": "code",
     "collapsed": false,
     "input": [
      "M[[2]]"
     ],
     "language": "python",
     "metadata": {},
     "outputs": [
      {
       "metadata": {},
       "output_type": "pyout",
       "prompt_number": 60,
       "text": [
        "array([-0.02589917])"
       ]
      }
     ],
     "prompt_number": 60
    },
    {
     "cell_type": "code",
     "collapsed": false,
     "input": [],
     "language": "python",
     "metadata": {},
     "outputs": [],
     "prompt_number": 60
    }
   ],
   "metadata": {}
  }
 ]
}